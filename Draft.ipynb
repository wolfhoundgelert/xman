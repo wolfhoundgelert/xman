{
 "cells": [
  {
   "cell_type": "code",
   "execution_count": 16,
   "id": "b6a2d07c",
   "metadata": {
    "scrolled": true
   },
   "outputs": [
    {
     "name": "stdout",
     "output_type": "stream",
     "text": [
      "The autoreload extension is already loaded. To reload it, use:\n",
      "  %reload_ext autoreload\n"
     ]
    }
   ],
   "source": [
    "%load_ext autoreload\n",
    "%autoreload 2\n",
    "\n",
    "import os\n",
    "import sys\n",
    "\n",
    "module_path = os.path.abspath(os.path.join('src'))\n",
    "sys.path.insert(0, module_path)"
   ]
  },
  {
   "cell_type": "code",
   "execution_count": 17,
   "id": "7c288123",
   "metadata": {},
   "outputs": [],
   "source": [
    "import xman"
   ]
  },
  {
   "cell_type": "code",
   "execution_count": 27,
   "id": "bacd255e",
   "metadata": {
    "scrolled": false
   },
   "outputs": [
    {
     "ename": "AssertionError",
     "evalue": "Directory `gitignore/experiments/` should be empty!",
     "output_type": "error",
     "traceback": [
      "\u001b[1;31m---------------------------------------------------------------------------\u001b[0m",
      "\u001b[1;31mAssertionError\u001b[0m                            Traceback (most recent call last)",
      "Cell \u001b[1;32mIn[27], line 1\u001b[0m\n\u001b[1;32m----> 1\u001b[0m project \u001b[38;5;241m=\u001b[39m \u001b[43mxman\u001b[49m\u001b[38;5;241;43m.\u001b[39;49m\u001b[43mcreate_project\u001b[49m\u001b[43m(\u001b[49m\u001b[38;5;124;43m'\u001b[39;49m\u001b[38;5;124;43mgitignore/experiments/\u001b[39;49m\u001b[38;5;124;43m'\u001b[39;49m\u001b[43m,\u001b[49m\u001b[43m \u001b[49m\u001b[38;5;124;43m'\u001b[39;49m\u001b[38;5;124;43mTest Project\u001b[39;49m\u001b[38;5;124;43m'\u001b[39;49m\u001b[43m,\u001b[49m\u001b[43m \u001b[49m\u001b[38;5;124;43m\"\u001b[39;49m\u001b[38;5;124;43mThis is a test experimental project\u001b[39;49m\u001b[38;5;124;43m\"\u001b[39;49m\u001b[43m)\u001b[49m\n\u001b[0;32m      2\u001b[0m project\n",
      "File \u001b[1;32mC:\\workspace\\xman\\src\\xman\\__init__.py:5\u001b[0m, in \u001b[0;36mcreate_project\u001b[1;34m(location_dir, name, descr)\u001b[0m\n\u001b[0;32m      4\u001b[0m \u001b[38;5;28;01mdef\u001b[39;00m \u001b[38;5;21mcreate_project\u001b[39m(location_dir: \u001b[38;5;28mstr\u001b[39m, name: \u001b[38;5;28mstr\u001b[39m, descr: \u001b[38;5;28mstr\u001b[39m):\n\u001b[1;32m----> 5\u001b[0m     \u001b[38;5;28;01mreturn\u001b[39;00m \u001b[43mproj\u001b[49m\u001b[38;5;241;43m.\u001b[39;49m\u001b[43mExperimentalProject\u001b[49m\u001b[38;5;241;43m.\u001b[39;49m\u001b[43m_create\u001b[49m\u001b[43m(\u001b[49m\u001b[43mlocation_dir\u001b[49m\u001b[43m,\u001b[49m\u001b[43m \u001b[49m\u001b[43mname\u001b[49m\u001b[43m,\u001b[49m\u001b[43m \u001b[49m\u001b[43mdescr\u001b[49m\u001b[43m)\u001b[49m\n",
      "File \u001b[1;32mC:\\workspace\\xman\\src\\xman\\proj.py:23\u001b[0m, in \u001b[0;36mExperimentalProject._create\u001b[1;34m(location_dir, name, descr)\u001b[0m\n\u001b[0;32m     21\u001b[0m \u001b[38;5;129m@staticmethod\u001b[39m\n\u001b[0;32m     22\u001b[0m \u001b[38;5;28;01mdef\u001b[39;00m \u001b[38;5;21m_create\u001b[39m(location_dir, name, descr):\n\u001b[1;32m---> 23\u001b[0m     location_dir \u001b[38;5;241m=\u001b[39m \u001b[43mutil\u001b[49m\u001b[38;5;241;43m.\u001b[39;49m\u001b[43m_create_dir\u001b[49m\u001b[43m(\u001b[49m\u001b[43mlocation_dir\u001b[49m\u001b[43m)\u001b[49m\n\u001b[0;32m     24\u001b[0m     data \u001b[38;5;241m=\u001b[39m ExperimentalProjectData(name, descr)\n\u001b[0;32m     25\u001b[0m     proj \u001b[38;5;241m=\u001b[39m ExperimentalProject(location_dir, data)\n",
      "File \u001b[1;32mC:\\workspace\\xman\\src\\xman\\util.py:10\u001b[0m, in \u001b[0;36m_create_dir\u001b[1;34m(dir_path)\u001b[0m\n\u001b[0;32m      8\u001b[0m         \u001b[38;5;28;01mraise\u001b[39;00m \u001b[38;5;167;01mNotADirectoryError\u001b[39;00m(\u001b[38;5;124mf\u001b[39m\u001b[38;5;124m\"\u001b[39m\u001b[38;5;124m`\u001b[39m\u001b[38;5;132;01m{\u001b[39;00mdir_path\u001b[38;5;132;01m}\u001b[39;00m\u001b[38;5;124m` is not a directory!\u001b[39m\u001b[38;5;124m\"\u001b[39m)\n\u001b[0;32m      9\u001b[0m     \u001b[38;5;28;01melif\u001b[39;00m \u001b[38;5;28mlen\u001b[39m(os\u001b[38;5;241m.\u001b[39mlistdir(dir_path)) \u001b[38;5;241m>\u001b[39m \u001b[38;5;241m0\u001b[39m:\n\u001b[1;32m---> 10\u001b[0m         \u001b[38;5;28;01mraise\u001b[39;00m \u001b[38;5;167;01mAssertionError\u001b[39;00m(\u001b[38;5;124mf\u001b[39m\u001b[38;5;124m\"\u001b[39m\u001b[38;5;124mDirectory `\u001b[39m\u001b[38;5;132;01m{\u001b[39;00mdir_path\u001b[38;5;132;01m}\u001b[39;00m\u001b[38;5;124m` should be empty!\u001b[39m\u001b[38;5;124m\"\u001b[39m)\n\u001b[0;32m     11\u001b[0m \u001b[38;5;28;01melse\u001b[39;00m:\n\u001b[0;32m     12\u001b[0m     os\u001b[38;5;241m.\u001b[39mmkdir(dir_path)\n",
      "\u001b[1;31mAssertionError\u001b[0m: Directory `gitignore/experiments/` should be empty!"
     ]
    }
   ],
   "source": [
    "project = xman.create_project('gitignore/experiments/', 'Test Project', \"This is a test experimental project\")\n",
    "project"
   ]
  },
  {
   "cell_type": "code",
   "execution_count": 28,
   "id": "bcb8843c",
   "metadata": {},
   "outputs": [
    {
     "ename": "AttributeError",
     "evalue": "'ExperimentalProject' object has no attribute '_ExperimentalProject__num_to_group'",
     "output_type": "error",
     "traceback": [
      "\u001b[1;31m---------------------------------------------------------------------------\u001b[0m",
      "\u001b[1;31mAttributeError\u001b[0m                            Traceback (most recent call last)",
      "File \u001b[1;32mC:\\workspace\\xman\\.venv\\lib\\site-packages\\IPython\\core\\formatters.py:706\u001b[0m, in \u001b[0;36mPlainTextFormatter.__call__\u001b[1;34m(self, obj)\u001b[0m\n\u001b[0;32m    699\u001b[0m stream \u001b[38;5;241m=\u001b[39m StringIO()\n\u001b[0;32m    700\u001b[0m printer \u001b[38;5;241m=\u001b[39m pretty\u001b[38;5;241m.\u001b[39mRepresentationPrinter(stream, \u001b[38;5;28mself\u001b[39m\u001b[38;5;241m.\u001b[39mverbose,\n\u001b[0;32m    701\u001b[0m     \u001b[38;5;28mself\u001b[39m\u001b[38;5;241m.\u001b[39mmax_width, \u001b[38;5;28mself\u001b[39m\u001b[38;5;241m.\u001b[39mnewline,\n\u001b[0;32m    702\u001b[0m     max_seq_length\u001b[38;5;241m=\u001b[39m\u001b[38;5;28mself\u001b[39m\u001b[38;5;241m.\u001b[39mmax_seq_length,\n\u001b[0;32m    703\u001b[0m     singleton_pprinters\u001b[38;5;241m=\u001b[39m\u001b[38;5;28mself\u001b[39m\u001b[38;5;241m.\u001b[39msingleton_printers,\n\u001b[0;32m    704\u001b[0m     type_pprinters\u001b[38;5;241m=\u001b[39m\u001b[38;5;28mself\u001b[39m\u001b[38;5;241m.\u001b[39mtype_printers,\n\u001b[0;32m    705\u001b[0m     deferred_pprinters\u001b[38;5;241m=\u001b[39m\u001b[38;5;28mself\u001b[39m\u001b[38;5;241m.\u001b[39mdeferred_printers)\n\u001b[1;32m--> 706\u001b[0m \u001b[43mprinter\u001b[49m\u001b[38;5;241;43m.\u001b[39;49m\u001b[43mpretty\u001b[49m\u001b[43m(\u001b[49m\u001b[43mobj\u001b[49m\u001b[43m)\u001b[49m\n\u001b[0;32m    707\u001b[0m printer\u001b[38;5;241m.\u001b[39mflush()\n\u001b[0;32m    708\u001b[0m \u001b[38;5;28;01mreturn\u001b[39;00m stream\u001b[38;5;241m.\u001b[39mgetvalue()\n",
      "File \u001b[1;32mC:\\workspace\\xman\\.venv\\lib\\site-packages\\IPython\\lib\\pretty.py:407\u001b[0m, in \u001b[0;36mRepresentationPrinter.pretty\u001b[1;34m(self, obj)\u001b[0m\n\u001b[0;32m    405\u001b[0m     meth \u001b[38;5;241m=\u001b[39m \u001b[38;5;28mcls\u001b[39m\u001b[38;5;241m.\u001b[39m_repr_pretty_\n\u001b[0;32m    406\u001b[0m     \u001b[38;5;28;01mif\u001b[39;00m callable(meth):\n\u001b[1;32m--> 407\u001b[0m         \u001b[38;5;28;01mreturn\u001b[39;00m \u001b[43mmeth\u001b[49m\u001b[43m(\u001b[49m\u001b[43mobj\u001b[49m\u001b[43m,\u001b[49m\u001b[43m \u001b[49m\u001b[38;5;28;43mself\u001b[39;49m\u001b[43m,\u001b[49m\u001b[43m \u001b[49m\u001b[43mcycle\u001b[49m\u001b[43m)\u001b[49m\n\u001b[0;32m    408\u001b[0m \u001b[38;5;28;01mif\u001b[39;00m \u001b[38;5;28mcls\u001b[39m \u001b[38;5;129;01mis\u001b[39;00m \u001b[38;5;129;01mnot\u001b[39;00m \u001b[38;5;28mobject\u001b[39m \\\n\u001b[0;32m    409\u001b[0m         \u001b[38;5;129;01mand\u001b[39;00m callable(\u001b[38;5;28mcls\u001b[39m\u001b[38;5;241m.\u001b[39m\u001b[38;5;18m__dict__\u001b[39m\u001b[38;5;241m.\u001b[39mget(\u001b[38;5;124m'\u001b[39m\u001b[38;5;124m__repr__\u001b[39m\u001b[38;5;124m'\u001b[39m)):\n\u001b[0;32m    410\u001b[0m     \u001b[38;5;28;01mreturn\u001b[39;00m _repr_pprint(obj, \u001b[38;5;28mself\u001b[39m, cycle)\n",
      "File \u001b[1;32mC:\\workspace\\xman\\src\\xman\\struct.py:32\u001b[0m, in \u001b[0;36mExpStruct._repr_pretty_\u001b[1;34m(self, p, cycle)\u001b[0m\n\u001b[0;32m     31\u001b[0m \u001b[38;5;28;01mdef\u001b[39;00m \u001b[38;5;21m_repr_pretty_\u001b[39m(\u001b[38;5;28mself\u001b[39m, p, cycle):\n\u001b[1;32m---> 32\u001b[0m     p\u001b[38;5;241m.\u001b[39mtext(\u001b[38;5;28;43mstr\u001b[39;49m\u001b[43m(\u001b[49m\u001b[38;5;28;43mself\u001b[39;49m\u001b[43m)\u001b[49m \u001b[38;5;28;01mif\u001b[39;00m \u001b[38;5;129;01mnot\u001b[39;00m cycle \u001b[38;5;28;01melse\u001b[39;00m \u001b[38;5;124m'\u001b[39m\u001b[38;5;124m...\u001b[39m\u001b[38;5;124m'\u001b[39m)\n",
      "File \u001b[1;32mC:\\workspace\\xman\\src\\xman\\proj.py:42\u001b[0m, in \u001b[0;36mExperimentalProject.__str__\u001b[1;34m(self)\u001b[0m\n\u001b[0;32m     40\u001b[0m \u001b[38;5;28;01mdef\u001b[39;00m \u001b[38;5;21m__str__\u001b[39m(\u001b[38;5;28mself\u001b[39m):\n\u001b[0;32m     41\u001b[0m     \u001b[38;5;66;03m# TODO investigate why doesn't work as self.__num_to_group.values()\u001b[39;00m\n\u001b[1;32m---> 42\u001b[0m     gl \u001b[38;5;241m=\u001b[39m [\u001b[38;5;28mstr\u001b[39m(it) \u001b[38;5;28;01mfor\u001b[39;00m it \u001b[38;5;129;01min\u001b[39;00m \u001b[38;5;28;43mself\u001b[39;49m\u001b[38;5;241;43m.\u001b[39;49m\u001b[43m__num_to_group\u001b[49m\u001b[38;5;241m.\u001b[39mvalues()]\n\u001b[0;32m     43\u001b[0m     \u001b[38;5;28;01mreturn\u001b[39;00m \u001b[38;5;124mf\u001b[39m\u001b[38;5;124m\"\u001b[39m\u001b[38;5;124mExperimental project: name `\u001b[39m\u001b[38;5;132;01m{\u001b[39;00m\u001b[38;5;28mself\u001b[39m\u001b[38;5;241m.\u001b[39mdata\u001b[38;5;241m.\u001b[39mname\u001b[38;5;132;01m}\u001b[39;00m\u001b[38;5;124m`, descr `\u001b[39m\u001b[38;5;132;01m{\u001b[39;00m\u001b[38;5;28mself\u001b[39m\u001b[38;5;241m.\u001b[39mdata\u001b[38;5;241m.\u001b[39mdescr\u001b[38;5;132;01m}\u001b[39;00m\u001b[38;5;124m`, status `\u001b[39m\u001b[38;5;132;01m{\u001b[39;00m\u001b[38;5;28mself\u001b[39m\u001b[38;5;241m.\u001b[39mstatus\u001b[38;5;132;01m}\u001b[39;00m\u001b[38;5;124m`, groups \u001b[39m\u001b[38;5;132;01m{\u001b[39;00mgl\u001b[38;5;132;01m}\u001b[39;00m\u001b[38;5;124m\"\u001b[39m\n",
      "\u001b[1;31mAttributeError\u001b[0m: 'ExperimentalProject' object has no attribute '_ExperimentalProject__num_to_group'"
     ]
    }
   ],
   "source": [
    "project = xman.load_project('gitignore/experiments/')\n",
    "project"
   ]
  },
  {
   "cell_type": "code",
   "execution_count": 69,
   "id": "86ae3324",
   "metadata": {},
   "outputs": [
    {
     "data": {
      "text/plain": [
       "Group 2, name `Best net 2`, descr `Find best net with default params 2`, status `None`"
      ]
     },
     "execution_count": 69,
     "metadata": {},
     "output_type": "execute_result"
    }
   ],
   "source": [
    "group = project.create_group('Best net 2', 'Find best net with default params 2', num=2)\n",
    "group"
   ]
  },
  {
   "cell_type": "code",
   "execution_count": 54,
   "id": "966dfb40",
   "metadata": {},
   "outputs": [
    {
     "data": {
      "text/plain": [
       "Group 1, name `Best net 1`, descr `Find best net with default params 1`, status `None`"
      ]
     },
     "execution_count": 54,
     "metadata": {},
     "output_type": "execute_result"
    }
   ],
   "source": [
    "group = project.get_group(1)\n",
    "group"
   ]
  },
  {
   "cell_type": "code",
   "execution_count": 55,
   "id": "33ed3d9a",
   "metadata": {},
   "outputs": [
    {
     "data": {
      "text/plain": [
       "Group 1, name `Best net 1`, descr `Find best net with default params 1`, status `None`"
      ]
     },
     "execution_count": 55,
     "metadata": {},
     "output_type": "execute_result"
    }
   ],
   "source": [
    "gr = exp.ExperimentGroup._load('gitignore/experiments/', 1)\n",
    "gr"
   ]
  },
  {
   "cell_type": "code",
   "execution_count": 73,
   "id": "79320965",
   "metadata": {},
   "outputs": [
    {
     "data": {
      "text/plain": [
       "Group 3, name `Best net 3`, descr `Find best net with default params 3`, status `None`"
      ]
     },
     "execution_count": 73,
     "metadata": {},
     "output_type": "execute_result"
    }
   ],
   "source": [
    "group = project.create_group('Best net 3', 'Find best net with default params 3')\n",
    "group"
   ]
  },
  {
   "cell_type": "code",
   "execution_count": 74,
   "id": "948bfd8b",
   "metadata": {},
   "outputs": [
    {
     "data": {
      "text/plain": [
       "[1, 2, 3]"
      ]
     },
     "execution_count": 74,
     "metadata": {},
     "output_type": "execute_result"
    }
   ],
   "source": [
    "exp._get_dir_nums_by_pattern('gitignore/experiments/', 'group')"
   ]
  },
  {
   "cell_type": "code",
   "execution_count": 63,
   "id": "9893ca50",
   "metadata": {},
   "outputs": [
    {
     "data": {
      "text/plain": [
       "4"
      ]
     },
     "execution_count": 63,
     "metadata": {},
     "output_type": "execute_result"
    }
   ],
   "source": [
    "project.get_highest_group_num()"
   ]
  },
  {
   "cell_type": "code",
   "execution_count": 72,
   "id": "e8be584d",
   "metadata": {},
   "outputs": [
    {
     "data": {
      "text/plain": [
       "Experimental project: name `Test Project`, descr `This is a test experimental project`, status `None`, groups ['Group 1, name `Best net 1`, descr `Find best net with default params 1`, status `None`', 'Group 2, name `Best net 2`, descr `Find best net with default params 2`, status `None`']"
      ]
     },
     "execution_count": 72,
     "metadata": {},
     "output_type": "execute_result"
    }
   ],
   "source": [
    "project.update()\n",
    "project"
   ]
  },
  {
   "cell_type": "code",
   "execution_count": 75,
   "id": "f2abe1fb",
   "metadata": {
    "scrolled": true
   },
   "outputs": [
    {
     "data": {
      "text/plain": [
       "[Group 1, name `Best net 1`, descr `Find best net with default params 1`, status `None`,\n",
       " Group 2, name `Best net 2`, descr `Find best net with default params 2`, status `None`,\n",
       " Group 3, name `Best net 3`, descr `Find best net with default params 3`, status `None`]"
      ]
     },
     "execution_count": 75,
     "metadata": {},
     "output_type": "execute_result"
    }
   ],
   "source": [
    "project.groups()"
   ]
  },
  {
   "cell_type": "code",
   "execution_count": 76,
   "id": "2f1bbfc1",
   "metadata": {},
   "outputs": [],
   "source": [
    "project.remove_group(3)"
   ]
  },
  {
   "cell_type": "code",
   "execution_count": 77,
   "id": "f1a4fbcf",
   "metadata": {},
   "outputs": [
    {
     "data": {
      "text/plain": [
       "[Group 1, name `Best net 1`, descr `Find best net with default params 1`, status `None`,\n",
       " Group 2, name `Best net 2`, descr `Find best net with default params 2`, status `None`]"
      ]
     },
     "execution_count": 77,
     "metadata": {},
     "output_type": "execute_result"
    }
   ],
   "source": [
    "project.groups()"
   ]
  },
  {
   "cell_type": "code",
   "execution_count": 78,
   "id": "39a6b4f6",
   "metadata": {},
   "outputs": [
    {
     "name": "stdout",
     "output_type": "stream",
     "text": [
      "ACHTUNG! Remove `gitignore/experiments/group2` dir with all its content? (y/n) sdf\n"
     ]
    }
   ],
   "source": [
    "project.remove_group(2)"
   ]
  },
  {
   "cell_type": "code",
   "execution_count": null,
   "id": "97a5394f",
   "metadata": {},
   "outputs": [],
   "source": []
  },
  {
   "cell_type": "code",
   "execution_count": null,
   "id": "30d18d70",
   "metadata": {},
   "outputs": [],
   "source": []
  },
  {
   "cell_type": "code",
   "execution_count": null,
   "id": "ca71d270",
   "metadata": {},
   "outputs": [],
   "source": []
  }
 ],
 "metadata": {
  "kernelspec": {
   "display_name": "Python 3 (ipykernel)",
   "language": "python",
   "name": "python3"
  },
  "language_info": {
   "codemirror_mode": {
    "name": "ipython",
    "version": 3
   },
   "file_extension": ".py",
   "mimetype": "text/x-python",
   "name": "python",
   "nbconvert_exporter": "python",
   "pygments_lexer": "ipython3",
   "version": "3.10.9"
  }
 },
 "nbformat": 4,
 "nbformat_minor": 5
}
