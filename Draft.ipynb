{
 "cells": [
  {
   "cell_type": "code",
   "execution_count": 1,
   "id": "b6a2d07c",
   "metadata": {
    "scrolled": true
   },
   "outputs": [],
   "source": [
    "%load_ext autoreload\n",
    "%autoreload 2\n",
    "\n",
    "import os\n",
    "import sys\n",
    "\n",
    "module_path = os.path.abspath(os.path.join('src'))\n",
    "sys.path.insert(0, module_path)"
   ]
  },
  {
   "cell_type": "code",
   "execution_count": 2,
   "id": "afe39168",
   "metadata": {},
   "outputs": [],
   "source": [
    "import xman\n",
    "\n",
    "PROJ_DIR = 'gitignore/experiments/'"
   ]
  },
  {
   "cell_type": "code",
   "execution_count": 7,
   "id": "bacd255e",
   "metadata": {},
   "outputs": [
    {
     "name": "stdout",
     "output_type": "stream",
     "text": [
      "\n",
      "experiments/\n",
      "    .data\n",
      "    .time\n",
      "    group1/\n",
      "        .data\n",
      "        .time\n",
      "        exp1/\n",
      "            .data\n",
      "            .time\n",
      "\n",
      "Proj [EMPTY] Test Project - Test project descr    \n",
      "    Resolution: -= auto status =-    \n",
      "    \n",
      "    Group 1 [EMPTY] Test Group - Test group descr    \n",
      "        Resolution: -= auto status =-    \n",
      "        \n",
      "        Exp 1 [EMPTY] Test Exp - Test exp descr    \n",
      "            Resolution: -= auto status =-\n"
     ]
    }
   ],
   "source": [
    "import shutil\n",
    "\n",
    "create_new = True\n",
    "if create_new:\n",
    "    if os.path.exists(PROJ_DIR):\n",
    "        shutil.rmtree(PROJ_DIR)\n",
    "    xman.make_proj(PROJ_DIR, 'Test Project', \"Test project descr\")\n",
    "    xman.proj.make_group(\"Test Group\", \"Test group descr\")\n",
    "    xman.proj.group(1).make_exp(\"Test Exp\", \"Test exp descr\")\n",
    "else:\n",
    "    xman.load_proj(PROJ_DIR)\n",
    "xman.dir_tree(PROJ_DIR)\n",
    "xman.proj.info()"
   ]
  },
  {
   "cell_type": "code",
   "execution_count": 8,
   "id": "3931db1b",
   "metadata": {},
   "outputs": [],
   "source": [
    "def train(pulse, p1, p2, np1=None, np2=None):\n",
    "    print(\"train started\")\n",
    "    \n",
    "#     from xman.error import ArgumentsXManError\n",
    "#     raise ArgumentsXManError(f\"Error text\")\n",
    "#     raise ValueError('sdf dsf dsf dsfdsf')\n",
    "\n",
    "    import time\n",
    "    time.sleep(3)\n",
    "#     pulse()\n",
    "    print(\"train is still in progress...\")\n",
    "    result = f\"p1={p1}, p2={p2}, np1={np1}, np2={np2}\"\n",
    "    time.sleep(3)\n",
    "    print(f\"train finished with result `{result}`\")\n",
    "    return result\n",
    "\n",
    "params = {\n",
    "    'p1': 1,\n",
    "    'p2': 2,\n",
    "    'np1': 3,\n",
    "    'np2': 4,\n",
    "}"
   ]
  },
  {
   "cell_type": "code",
   "execution_count": 37,
   "id": "0982c6c1",
   "metadata": {
    "scrolled": true
   },
   "outputs": [
    {
     "name": "stdout",
     "output_type": "stream",
     "text": [
      "train started\n",
      "Traceback (most recent call last):\n",
      "  File \"C:\\Users\\gelert\\AppData\\Local\\Temp\\ipykernel_11940\\338872123.py\", line 2, in <module>\n",
      "    train(None, None, None)\n",
      "  File \"C:\\Users\\gelert\\AppData\\Local\\Temp\\ipykernel_11940\\1432841811.py\", line 6, in train\n",
      "    raise ValueError('sdf dsf dsf dsfdsf')\n",
      "ERROR:\n",
      "    ValueError: sdf dsf dsf dsfdsf\n"
     ]
    }
   ],
   "source": [
    "try:\n",
    "    train(None, None, None)\n",
    "except Exception as e:\n",
    "#     print(xman.error.get_error_str(e))\n",
    "    print(xman.error.get_error_stack_str(e))"
   ]
  },
  {
   "cell_type": "code",
   "execution_count": 9,
   "id": "ee1a734b",
   "metadata": {},
   "outputs": [
    {
     "name": "stdout",
     "output_type": "stream",
     "text": [
      "train started\n",
      "train is still in progress...\n",
      "train finished with result `p1=1, p2=2, np1=3, np2=4`\n"
     ]
    }
   ],
   "source": [
    "# xman.proj.exp('1.1').destroy_pipeline().make_pipeline(train, params)\n",
    "xman.proj.exp('1.1').make_pipeline(train, params)\n",
    "xman.proj.exp('1.1').start()"
   ]
  },
  {
   "cell_type": "code",
   "execution_count": 38,
   "id": "7e97519f",
   "metadata": {},
   "outputs": [
    {
     "data": {
      "text/plain": [
       "('Error',)"
      ]
     },
     "execution_count": 38,
     "metadata": {},
     "output_type": "execute_result"
    }
   ],
   "source": [
    "xman.proj.exp('1.1').error.args"
   ]
  },
  {
   "cell_type": "code",
   "execution_count": 4,
   "id": "573648b3",
   "metadata": {},
   "outputs": [
    {
     "data": {
      "text/plain": [
       "Proj [EMPTY] Test Project - Test project descr"
      ]
     },
     "execution_count": 4,
     "metadata": {},
     "output_type": "execute_result"
    }
   ],
   "source": [
    "xman.proj"
   ]
  },
  {
   "cell_type": "code",
   "execution_count": 5,
   "id": "5aa40d66",
   "metadata": {},
   "outputs": [],
   "source": [
    "group = xman.proj.group(1)"
   ]
  },
  {
   "cell_type": "code",
   "execution_count": 6,
   "id": "d2f1bd37",
   "metadata": {},
   "outputs": [
    {
     "data": {
      "text/plain": [
       "Group 1 [EMPTY] Test Group - Test group descr"
      ]
     },
     "execution_count": 6,
     "metadata": {},
     "output_type": "execute_result"
    }
   ],
   "source": [
    "group"
   ]
  },
  {
   "cell_type": "code",
   "execution_count": 8,
   "id": "a626c123",
   "metadata": {},
   "outputs": [
    {
     "data": {
      "text/plain": [
       "Exp 1 [DONE *] Test Exp - Test exp descr"
      ]
     },
     "execution_count": 8,
     "metadata": {},
     "output_type": "execute_result"
    }
   ],
   "source": [
    "xman.proj.exp('1.1').set_manual_status('DONE', 'resolution')"
   ]
  },
  {
   "cell_type": "code",
   "execution_count": 12,
   "id": "910cf50b",
   "metadata": {},
   "outputs": [
    {
     "data": {
      "text/plain": [
       "Exp 2 [EMPTY] qewrwq2 - ewrwerwqer"
      ]
     },
     "execution_count": 12,
     "metadata": {},
     "output_type": "execute_result"
    }
   ],
   "source": [
    "xman.proj.make_exp(1, \"qewrwq2\", \"ewrwerwqer\")"
   ]
  },
  {
   "cell_type": "code",
   "execution_count": null,
   "id": "7c1a4eed",
   "metadata": {},
   "outputs": [],
   "source": []
  },
  {
   "cell_type": "code",
   "execution_count": 26,
   "id": "7a4fb071",
   "metadata": {},
   "outputs": [
    {
     "name": "stdout",
     "output_type": "stream",
     "text": [
      "Proj [EMPTY] Test Project - Test project descr    \n",
      "    Resolution: -= auto status =-    \n",
      "    \n",
      "    Group 1 [EMPTY] Test Group - Test group descr    \n",
      "        Resolution: -= auto status =-    \n",
      "        \n",
      "        Exp 1 [EMPTY] New name - new descr    \n",
      "            Resolution: -= auto status =-    \n",
      "        \n",
      "        Exp 2 [EMPTY] New name2 - newsdf descrsdfd    \n",
      "            Resolution: -= auto status =-\n"
     ]
    }
   ],
   "source": [
    "xman.proj.info()"
   ]
  },
  {
   "cell_type": "code",
   "execution_count": null,
   "id": "2a1ddf6d",
   "metadata": {},
   "outputs": [],
   "source": []
  },
  {
   "cell_type": "code",
   "execution_count": 24,
   "id": "604bd501",
   "metadata": {},
   "outputs": [],
   "source": [
    "xman.proj.exp('1.2').edit('New name2', 'newsdf descrsdfd')"
   ]
  },
  {
   "cell_type": "code",
   "execution_count": 22,
   "id": "81701672",
   "metadata": {},
   "outputs": [],
   "source": [
    "exp = xman.proj.exp('1.2')"
   ]
  },
  {
   "cell_type": "code",
   "execution_count": 25,
   "id": "660a3547",
   "metadata": {},
   "outputs": [
    {
     "data": {
      "text/plain": [
       "Exp 2 [EMPTY] New name2 - newsdf descrsdfd"
      ]
     },
     "execution_count": 25,
     "metadata": {},
     "output_type": "execute_result"
    }
   ],
   "source": [
    "exp"
   ]
  },
  {
   "cell_type": "code",
   "execution_count": 16,
   "id": "d2d67ada",
   "metadata": {},
   "outputs": [
    {
     "data": {
      "text/plain": [
       "Exp 2 [EMPTY] New name - new descr"
      ]
     },
     "execution_count": 16,
     "metadata": {},
     "output_type": "execute_result"
    }
   ],
   "source": [
    "group.exp('New name')"
   ]
  },
  {
   "cell_type": "code",
   "execution_count": 21,
   "id": "7c4352c5",
   "metadata": {},
   "outputs": [
    {
     "name": "stdout",
     "output_type": "stream",
     "text": [
      "ACHTUNG! Remove `Exp 2 [EMPTY] qewrwq2 - ewrwerwqer` and its `gitignore/experiments/group1\\exp2` dir with all its content? (y/n) y\n"
     ]
    },
    {
     "data": {
      "text/plain": [
       "Exp 2 [EMPTY] qewrwq2 - ewrwerwqer"
      ]
     },
     "execution_count": 21,
     "metadata": {},
     "output_type": "execute_result"
    }
   ],
   "source": [
    "group.destroy_exp(2)"
   ]
  },
  {
   "cell_type": "code",
   "execution_count": null,
   "id": "c3e2113c",
   "metadata": {},
   "outputs": [],
   "source": []
  },
  {
   "cell_type": "code",
   "execution_count": 168,
   "id": "be864cb9",
   "metadata": {},
   "outputs": [],
   "source": [
    "from xman.error import XManError, IllegalOperationXManError\n",
    "import traceback as tb\n",
    "import re\n",
    "\n",
    "error = None\n",
    "try:\n",
    "    raise IllegalOperationXManError('Error message!')\n",
    "except Exception as e:\n",
    "    error = e\n",
    "#     print(e.stack)\n",
    "#     print(size(e))\n",
    "#     print(e.message)"
   ]
  },
  {
   "cell_type": "code",
   "execution_count": 137,
   "id": "90ac80e5",
   "metadata": {},
   "outputs": [
    {
     "name": "stdout",
     "output_type": "stream",
     "text": [
      "[]\n"
     ]
    }
   ],
   "source": [
    "l = [1, 2, 3]\n",
    "print(l[:-0])"
   ]
  },
  {
   "cell_type": "code",
   "execution_count": 122,
   "id": "defc8500",
   "metadata": {},
   "outputs": [
    {
     "ename": "SyntaxError",
     "evalue": "(unicode error) 'unicodeescape' codec can't decode bytes in position 8-9: truncated \\UXXXXXXXX escape (560862291.py, line 4)",
     "output_type": "error",
     "traceback": [
      "\u001b[1;36m  Cell \u001b[1;32mIn[122], line 4\u001b[1;36m\u001b[0m\n\u001b[1;33m    raise IllegalOperationXManError('Error message!')\"\"\"\u001b[0m\n\u001b[1;37m                                                        ^\u001b[0m\n\u001b[1;31mSyntaxError\u001b[0m\u001b[1;31m:\u001b[0m (unicode error) 'unicodeescape' codec can't decode bytes in position 8-9: truncated \\UXXXXXXXX escape\n"
     ]
    }
   ],
   "source": [
    "cls_name = IllegalOperationXManError\n",
    "regex = fr'raise {cls_name}'\n",
    "line = \"\"\"File \"C:\\Users\\gelert\\AppData\\Local\\Temp\\ipykernel_10372\\557370933.py\", line 6, in <module>\n",
    "    raise IllegalOperationXManError('Error message!')\"\"\"\n",
    "re.match(regex, line)"
   ]
  },
  {
   "cell_type": "code",
   "execution_count": null,
   "id": "b15a0f5d",
   "metadata": {},
   "outputs": [],
   "source": []
  },
  {
   "cell_type": "code",
   "execution_count": 153,
   "id": "b777867a",
   "metadata": {},
   "outputs": [
    {
     "data": {
      "text/plain": [
       "['  File \"C:\\\\Users\\\\gelert\\\\AppData\\\\Local\\\\Temp\\\\ipykernel_10372\\\\2624630614.py\", line 7, in <module>\\n    raise XManError(\\'Error message!\\')\\n']"
      ]
     },
     "execution_count": 153,
     "metadata": {},
     "output_type": "execute_result"
    }
   ],
   "source": [
    "traceback.format_tb(error.__traceback__)"
   ]
  },
  {
   "cell_type": "code",
   "execution_count": 163,
   "id": "28887771",
   "metadata": {},
   "outputs": [
    {
     "name": "stdout",
     "output_type": "stream",
     "text": [
      "Help on _Helper in module _sitebuiltins object:\n",
      "\n",
      "class _Helper(builtins.object)\n",
      " |  Define the builtin 'help'.\n",
      " |  \n",
      " |  This is a wrapper around pydoc.help that provides a helpful message\n",
      " |  when 'help' is typed at the Python interactive prompt.\n",
      " |  \n",
      " |  Calling help() at the Python prompt starts an interactive help session.\n",
      " |  Calling help(thing) prints help for the python object 'thing'.\n",
      " |  \n",
      " |  Methods defined here:\n",
      " |  \n",
      " |  __call__(self, *args, **kwds)\n",
      " |      Call self as a function.\n",
      " |  \n",
      " |  __repr__(self)\n",
      " |      Return repr(self).\n",
      " |  \n",
      " |  ----------------------------------------------------------------------\n",
      " |  Data descriptors defined here:\n",
      " |  \n",
      " |  __dict__\n",
      " |      dictionary for instance variables (if defined)\n",
      " |  \n",
      " |  __weakref__\n",
      " |      list of weak references to the object (if defined)\n",
      "\n"
     ]
    }
   ],
   "source": [
    "e = ValueError('val err')\n",
    "\n",
    "help(help)\n"
   ]
  },
  {
   "cell_type": "code",
   "execution_count": null,
   "id": "87e638f3",
   "metadata": {},
   "outputs": [],
   "source": []
  },
  {
   "cell_type": "code",
   "execution_count": null,
   "id": "2c1195f5",
   "metadata": {},
   "outputs": [],
   "source": []
  }
 ],
 "metadata": {
  "kernelspec": {
   "display_name": "Python 3 (ipykernel)",
   "language": "python",
   "name": "python3"
  },
  "language_info": {
   "codemirror_mode": {
    "name": "ipython",
    "version": 3
   },
   "file_extension": ".py",
   "mimetype": "text/x-python",
   "name": "python",
   "nbconvert_exporter": "python",
   "pygments_lexer": "ipython3",
   "version": "3.10.9"
  }
 },
 "nbformat": 4,
 "nbformat_minor": 5
}
