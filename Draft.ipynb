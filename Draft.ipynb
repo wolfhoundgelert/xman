{
 "cells": [
  {
   "cell_type": "code",
   "execution_count": 1,
   "id": "b6a2d07c",
   "metadata": {
    "scrolled": true
   },
   "outputs": [],
   "source": [
    "%load_ext autoreload\n",
    "%autoreload 2\n",
    "\n",
    "import os\n",
    "import sys\n",
    "\n",
    "module_path = os.path.abspath(os.path.join('src'))\n",
    "sys.path.insert(0, module_path)"
   ]
  },
  {
   "cell_type": "code",
   "execution_count": 2,
   "id": "afe39168",
   "metadata": {},
   "outputs": [],
   "source": [
    "from xman import xman\n",
    "\n",
    "PROJ_DIR = 'gitignore/experiments/'"
   ]
  },
  {
   "cell_type": "code",
   "execution_count": 10,
   "id": "bacd255e",
   "metadata": {
    "scrolled": true
   },
   "outputs": [
    {
     "name": "stdout",
     "output_type": "stream",
     "text": [
      "\n",
      "experiments/\n",
      "    .data\n",
      "    .time\n",
      "    group1/...\n",
      "\n",
      "Proj [EMPTY] Test Project - Test project descr    \n",
      "    Resolution: -= auto status =-    \n",
      "    \n",
      "    Group 1 [EMPTY] Test Group - Test group descr    \n",
      "        Resolution: -= auto status =-    \n",
      "        \n",
      "        Exp 1.1 [EMPTY] Test Exp - Test exp descr    \n",
      "            Resolution: -= auto status =-\n"
     ]
    }
   ],
   "source": [
    "import shutil\n",
    "\n",
    "create_new = True\n",
    "if create_new:\n",
    "    if os.path.exists(PROJ_DIR):\n",
    "        shutil.rmtree(PROJ_DIR)\n",
    "    xman.make_proj(PROJ_DIR, 'Test Project', \"Test project descr\")\n",
    "    xman.proj.make_group(\"Test Group\", \"Test group descr\")\n",
    "    xman.proj.group(1).make_exp(\"Test Exp\", \"Test exp descr\")\n",
    "else:\n",
    "    xman.load_proj(PROJ_DIR)\n",
    "xman.dir_tree(PROJ_DIR)\n",
    "xman.proj.info()"
   ]
  },
  {
   "cell_type": "code",
   "execution_count": 11,
   "id": "ed1cdaca",
   "metadata": {},
   "outputs": [],
   "source": [
    "def train(p1, p2, np1=None, np2=None):\n",
    "    print(\"train started\")\n",
    "    import time\n",
    "    time.sleep(2)\n",
    "#     pulse('ONE')\n",
    "    print(\"train is still in progress...\")\n",
    "    result = f\"p1={p1}, p2={p2}, np1={np1}, np2={np2}\"\n",
    "    time.sleep(2)\n",
    "#     pulse('TWO', replace=False)\n",
    "#     print(f\"Pulse checkpoints: `{pulse.intermediate_checkpoints}`, loc dir `{pulse.location_dir}`\")\n",
    "    print(f\"train finished with result `{result}`\")\n",
    "    return result\n",
    "\n",
    "from xman.pipeline import CheckpointsMediator\n",
    "def train_with_mediator(mediator: CheckpointsMediator, p1, p2, np1=None, np2=None):\n",
    "    print(\"train started\")\n",
    "    import time\n",
    "    time.sleep(10)\n",
    "    mediator.save_checkpoint('first checkpoint', replace=False)\n",
    "    print(\"train is still in progress...\")\n",
    "    result = f\"p1={p1}, p2={p2}, np1={np1}, np2={np2}, mediator={mediator}\"\n",
    "    \n",
    "    raise Excepton('temporary exception')  # TODO Delete\n",
    "     \n",
    "    time.sleep(10)\n",
    "    mediator.save_checkpoint('second checkpoint', replace=False)\n",
    "    print(f\"Mediator checkpoints: `{mediator.get_checkpoint_paths_list()}`, loc dir `{mediator.exp_location_dir}`\")\n",
    "    print(f\"train finished with result `{result}`\")\n",
    "    return result\n",
    "\n",
    "params = {\n",
    "    'p1': 1,\n",
    "    'p2': 2,\n",
    "    'np1': 3,\n",
    "    'np2': 4,\n",
    "}"
   ]
  },
  {
   "cell_type": "code",
   "execution_count": 12,
   "id": "ee1a734b",
   "metadata": {},
   "outputs": [
    {
     "data": {
      "text/plain": [
       "Exp 1.1 [TO_DO] Test Exp - Test exp descr"
      ]
     },
     "execution_count": 12,
     "metadata": {},
     "output_type": "execute_result"
    }
   ],
   "source": [
    "# xman.exp(1, 1).destroy_pipeline().make_pipeline(train, params)\n",
    "# xman.exp(1, 1).delete_pipeline()\n",
    "# xman.exp(1, 1).delete_checkpoints()\n",
    "xman.exp(1, 1).make_pipeline_with_checkpoints(train_with_mediator, params, True)"
   ]
  },
  {
   "cell_type": "code",
   "execution_count": 19,
   "id": "fd91d01a",
   "metadata": {
    "scrolled": true
   },
   "outputs": [
    {
     "name": "stdout",
     "output_type": "stream",
     "text": [
      "ATTENTION! Do you want to delete `Exp 1.1 [ERROR] Test Exp - Test exp descr` checkpoints? (y/n) y\n"
     ]
    },
    {
     "ename": "IllegalOperationXManError",
     "evalue": "The `Exp 1.1 [ERROR] Test Exp - Test exp descr` has an error during the previous start!",
     "output_type": "error",
     "traceback": [
      "\u001b[1;31m---------------------------------------------------------------------------\u001b[0m",
      "\u001b[1;31mIllegalOperationXManError\u001b[0m                 Traceback (most recent call last)",
      "Cell \u001b[1;32mIn[19], line 2\u001b[0m\n\u001b[0;32m      1\u001b[0m xman\u001b[38;5;241m.\u001b[39mexp(\u001b[38;5;241m1\u001b[39m, \u001b[38;5;241m1\u001b[39m)\u001b[38;5;241m.\u001b[39mdelete_checkpoints()\n\u001b[1;32m----> 2\u001b[0m \u001b[43mxman\u001b[49m\u001b[38;5;241;43m.\u001b[39;49m\u001b[43mexp\u001b[49m\u001b[43m(\u001b[49m\u001b[38;5;241;43m1\u001b[39;49m\u001b[43m,\u001b[49m\u001b[43m \u001b[49m\u001b[38;5;241;43m1\u001b[39;49m\u001b[43m)\u001b[49m\u001b[38;5;241;43m.\u001b[39;49m\u001b[43mstart\u001b[49m\u001b[43m(\u001b[49m\u001b[43mforce_after_error\u001b[49m\u001b[38;5;241;43m=\u001b[39;49m\u001b[38;5;28;43;01mFalse\u001b[39;49;00m\u001b[43m)\u001b[49m\n",
      "File \u001b[1;32mC:\\workspace\\xman\\src\\xman\\api.py:224\u001b[0m, in \u001b[0;36mExpAPI.start\u001b[1;34m(self, force_after_error)\u001b[0m\n\u001b[0;32m    222\u001b[0m \u001b[38;5;28;01mdef\u001b[39;00m \u001b[38;5;21mstart\u001b[39m(\u001b[38;5;28mself\u001b[39m, force_after_error: \u001b[38;5;28mbool\u001b[39m \u001b[38;5;241m=\u001b[39m \u001b[38;5;28;01mFalse\u001b[39;00m) \u001b[38;5;241m-\u001b[39m\u001b[38;5;241m>\u001b[39m \u001b[38;5;124m'\u001b[39m\u001b[38;5;124mExpAPI\u001b[39m\u001b[38;5;124m'\u001b[39m:\n\u001b[0;32m    223\u001b[0m     \u001b[38;5;28mself\u001b[39m\u001b[38;5;241m.\u001b[39m_obj\u001b[38;5;241m.\u001b[39mupdate()\n\u001b[1;32m--> 224\u001b[0m     \u001b[38;5;28;43mself\u001b[39;49m\u001b[38;5;241;43m.\u001b[39;49m\u001b[43m_obj\u001b[49m\u001b[38;5;241;43m.\u001b[39;49m\u001b[43mstart\u001b[49m\u001b[43m(\u001b[49m\u001b[43mforce_after_error\u001b[49m\u001b[38;5;241;43m=\u001b[39;49m\u001b[43mforce_after_error\u001b[49m\u001b[43m)\u001b[49m\n\u001b[0;32m    225\u001b[0m     \u001b[38;5;28;01mreturn\u001b[39;00m \u001b[38;5;28mself\u001b[39m\n",
      "File \u001b[1;32mC:\\workspace\\xman\\src\\xman\\exp.py:184\u001b[0m, in \u001b[0;36mExp.start\u001b[1;34m(self, force_after_error)\u001b[0m\n\u001b[0;32m    182\u001b[0m     \u001b[38;5;28;01mraise\u001b[39;00m NotExistsXManError(\u001b[38;5;124mf\u001b[39m\u001b[38;5;124m\"\u001b[39m\u001b[38;5;124m`The \u001b[39m\u001b[38;5;132;01m{\u001b[39;00m\u001b[38;5;28mself\u001b[39m\u001b[38;5;132;01m}\u001b[39;00m\u001b[38;5;124m` doesn\u001b[39m\u001b[38;5;124m'\u001b[39m\u001b[38;5;124mt have a pipeline!\u001b[39m\u001b[38;5;124m\"\u001b[39m)\n\u001b[0;32m    183\u001b[0m \u001b[38;5;28;01mif\u001b[39;00m pipeline_data\u001b[38;5;241m.\u001b[39merror:  \u001b[38;5;66;03m# status == 'ERROR'\u001b[39;00m\n\u001b[1;32m--> 184\u001b[0m     \u001b[38;5;28;01mraise\u001b[39;00m IllegalOperationXManError(\n\u001b[0;32m    185\u001b[0m         \u001b[38;5;124mf\u001b[39m\u001b[38;5;124m\"\u001b[39m\u001b[38;5;124mThe `\u001b[39m\u001b[38;5;132;01m{\u001b[39;00m\u001b[38;5;28mself\u001b[39m\u001b[38;5;132;01m}\u001b[39;00m\u001b[38;5;124m` has an error during the previous start!\u001b[39m\u001b[38;5;124m\"\u001b[39m)\n\u001b[0;32m    186\u001b[0m \u001b[38;5;28;01mif\u001b[39;00m pipeline_data\u001b[38;5;241m.\u001b[39mfinished:  \u001b[38;5;66;03m# status == 'DONE'\u001b[39;00m\n\u001b[0;32m    187\u001b[0m     \u001b[38;5;28;01mraise\u001b[39;00m IllegalOperationXManError(\u001b[38;5;124mf\u001b[39m\u001b[38;5;124m\"\u001b[39m\u001b[38;5;124m`The \u001b[39m\u001b[38;5;132;01m{\u001b[39;00m\u001b[38;5;28mself\u001b[39m\u001b[38;5;132;01m}\u001b[39;00m\u001b[38;5;124m` was already finished!\u001b[39m\u001b[38;5;124m\"\u001b[39m)\n",
      "\u001b[1;31mIllegalOperationXManError\u001b[0m: The `Exp 1.1 [ERROR] Test Exp - Test exp descr` has an error during the previous start!"
     ]
    }
   ],
   "source": [
    "xman.exp(1, 1).delete_checkpoints()\n",
    "xman.exp(1, 1).start(force_after_error=False)"
   ]
  },
  {
   "cell_type": "code",
   "execution_count": 17,
   "id": "62854d93",
   "metadata": {},
   "outputs": [
    {
     "name": "stdout",
     "output_type": "stream",
     "text": [
      "Proj [ERROR] Test Project - Test project descr    \n",
      "    Resolution: -= auto status =-    \n",
      "    \n",
      "    Group 1 [ERROR] Test Group - Test group descr    \n",
      "        Resolution: -= auto status =-    \n",
      "        \n",
      "        Exp 1.1 [ERROR] Test Exp - Test exp descr    \n",
      "            Resolution: NameError: name 'Excepton' is not defined\n"
     ]
    }
   ],
   "source": [
    "xman.info()"
   ]
  },
  {
   "cell_type": "code",
   "execution_count": 46,
   "id": "ae17c7d1",
   "metadata": {},
   "outputs": [],
   "source": [
    "from xman import platform"
   ]
  },
  {
   "cell_type": "code",
   "execution_count": 47,
   "id": "2f3fae03",
   "metadata": {},
   "outputs": [
    {
     "name": "stdout",
     "output_type": "stream",
     "text": [
      "True\n",
      "False\n"
     ]
    }
   ],
   "source": [
    "print(platform.is_jupyter_notebook)\n",
    "print(platform.is_colab)"
   ]
  },
  {
   "cell_type": "code",
   "execution_count": 41,
   "id": "bc21d88f",
   "metadata": {},
   "outputs": [
    {
     "ename": "NameError",
     "evalue": "name 'is_colab' is not defined",
     "output_type": "error",
     "traceback": [
      "\u001b[1;31m---------------------------------------------------------------------------\u001b[0m",
      "\u001b[1;31mNameError\u001b[0m                                 Traceback (most recent call last)",
      "Cell \u001b[1;32mIn[41], line 1\u001b[0m\n\u001b[1;32m----> 1\u001b[0m \u001b[43mis_colab\u001b[49m\n",
      "\u001b[1;31mNameError\u001b[0m: name 'is_colab' is not defined"
     ]
    }
   ],
   "source": [
    "is_colab"
   ]
  }
 ],
 "metadata": {
  "kernelspec": {
   "display_name": "Python 3 (ipykernel)",
   "language": "python",
   "name": "python3"
  },
  "language_info": {
   "codemirror_mode": {
    "name": "ipython",
    "version": 3
   },
   "file_extension": ".py",
   "mimetype": "text/x-python",
   "name": "python",
   "nbconvert_exporter": "python",
   "pygments_lexer": "ipython3",
   "version": "3.10.9"
  }
 },
 "nbformat": 4,
 "nbformat_minor": 5
}
