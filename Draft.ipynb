{
 "cells": [
  {
   "cell_type": "code",
   "execution_count": 1,
   "id": "b6a2d07c",
   "metadata": {
    "scrolled": true
   },
   "outputs": [],
   "source": [
    "%load_ext autoreload\n",
    "%autoreload 2\n",
    "\n",
    "import os\n",
    "import sys\n",
    "\n",
    "module_path = os.path.abspath(os.path.join('src'))\n",
    "sys.path.insert(0, module_path)"
   ]
  },
  {
   "cell_type": "code",
   "execution_count": 2,
   "id": "afe39168",
   "metadata": {},
   "outputs": [],
   "source": [
    "import xman\n",
    "\n",
    "PROJ_DIR = 'gitignore/experiments/'"
   ]
  },
  {
   "cell_type": "code",
   "execution_count": 3,
   "id": "bacd255e",
   "metadata": {},
   "outputs": [
    {
     "name": "stdout",
     "output_type": "stream",
     "text": [
      "\n",
      "experiments/\n",
      "    .data\n",
      "    .time\n",
      "    group1/\n",
      "        .data\n",
      "        .time\n",
      "        exp1/\n",
      "            .data\n",
      "            .time\n",
      "\n",
      "Proj [EMPTY] Test Project - Test project descr    \n",
      "    Resolution: -= auto status =-    \n",
      "    \n",
      "    Group 1 [EMPTY] Test Group - Test group descr    \n",
      "        Resolution: -= auto status =-    \n",
      "        \n",
      "        Exp 1 [EMPTY] Test Exp - Test exp descr    \n",
      "            Resolution: -= auto status =-\n"
     ]
    }
   ],
   "source": [
    "import shutil\n",
    "\n",
    "create_new = True\n",
    "if create_new:\n",
    "    if os.path.exists(PROJ_DIR):\n",
    "        shutil.rmtree(PROJ_DIR)\n",
    "    xman.make_proj(PROJ_DIR, 'Test Project', \"Test project descr\")\n",
    "    xman.proj.make_group(\"Test Group\", \"Test group descr\")\n",
    "    xman.proj.group(1).make_exp(\"Test Exp\", \"Test exp descr\")\n",
    "else:\n",
    "    xman.load_proj(PROJ_DIR)\n",
    "xman.dir_tree(PROJ_DIR)\n",
    "xman.proj.info()"
   ]
  },
  {
   "cell_type": "code",
   "execution_count": 28,
   "id": "3931db1b",
   "metadata": {},
   "outputs": [],
   "source": [
    "def train(pulse, p1, p2, np1=None, np2=None):\n",
    "    print(\"train started\")\n",
    "    \n",
    "    from xman.error import ArgumentsXManError\n",
    "#     raise ArgumentsXManError(f\"Error text\")\n",
    "    raise ValueError('sdf dsf dsf dsfdsf')\n",
    "\n",
    "    import time\n",
    "    time.sleep(3)\n",
    "    pulse()\n",
    "    print(\"train is still in progress...\")\n",
    "    result = f\"p1={p1}, p2={p2}, np1={np1}, np2={np2}\"\n",
    "    time.sleep(3)\n",
    "    print(f\"train finished with result `{result}`\")\n",
    "    return result\n",
    "\n",
    "params = {\n",
    "    'p1': 1,\n",
    "    'p2': 2,\n",
    "    'np1': 3,\n",
    "    'np2': 4,\n",
    "}"
   ]
  },
  {
   "cell_type": "code",
   "execution_count": 37,
   "id": "0982c6c1",
   "metadata": {
    "scrolled": true
   },
   "outputs": [
    {
     "name": "stdout",
     "output_type": "stream",
     "text": [
      "train started\n",
      "Traceback (most recent call last):\n",
      "  File \"C:\\Users\\gelert\\AppData\\Local\\Temp\\ipykernel_11940\\338872123.py\", line 2, in <module>\n",
      "    train(None, None, None)\n",
      "  File \"C:\\Users\\gelert\\AppData\\Local\\Temp\\ipykernel_11940\\1432841811.py\", line 6, in train\n",
      "    raise ValueError('sdf dsf dsf dsfdsf')\n",
      "ERROR:\n",
      "    ValueError: sdf dsf dsf dsfdsf\n"
     ]
    }
   ],
   "source": [
    "try:\n",
    "    train(None, None, None)\n",
    "except Exception as e:\n",
    "#     print(xman.error.get_error_str(e))\n",
    "    print(xman.error.get_error_stack_str(e))"
   ]
  },
  {
   "cell_type": "code",
   "execution_count": 42,
   "id": "16436a4d",
   "metadata": {},
   "outputs": [
    {
     "name": "stdout",
     "output_type": "stream",
     "text": [
      "An error occurred: Something went wrong\n"
     ]
    },
    {
     "ename": "ValueError",
     "evalue": "Something went wrong",
     "output_type": "error",
     "traceback": [
      "\u001b[1;31m---------------------------------------------------------------------------\u001b[0m",
      "\u001b[1;31mValueError\u001b[0m                                Traceback (most recent call last)",
      "Cell \u001b[1;32mIn[42], line 14\u001b[0m\n\u001b[0;32m     12\u001b[0m \u001b[38;5;28;01mexcept\u001b[39;00m \u001b[38;5;167;01mValueError\u001b[39;00m \u001b[38;5;28;01mas\u001b[39;00m e:\n\u001b[0;32m     13\u001b[0m     \u001b[38;5;28mprint\u001b[39m(\u001b[38;5;124m\"\u001b[39m\u001b[38;5;124mAn error occurred:\u001b[39m\u001b[38;5;124m\"\u001b[39m, e)\n\u001b[1;32m---> 14\u001b[0m     \u001b[38;5;28;01mraise\u001b[39;00m e\n",
      "Cell \u001b[1;32mIn[42], line 11\u001b[0m\n\u001b[0;32m      8\u001b[0m     \u001b[38;5;28;01mraise\u001b[39;00m \u001b[38;5;167;01mValueError\u001b[39;00m(\u001b[38;5;124m\"\u001b[39m\u001b[38;5;124mSomething went wrong\u001b[39m\u001b[38;5;124m\"\u001b[39m)\n\u001b[0;32m     10\u001b[0m \u001b[38;5;28;01mtry\u001b[39;00m:\n\u001b[1;32m---> 11\u001b[0m     \u001b[43mfunction1\u001b[49m\u001b[43m(\u001b[49m\u001b[43m)\u001b[49m\n\u001b[0;32m     12\u001b[0m \u001b[38;5;28;01mexcept\u001b[39;00m \u001b[38;5;167;01mValueError\u001b[39;00m \u001b[38;5;28;01mas\u001b[39;00m e:\n\u001b[0;32m     13\u001b[0m     \u001b[38;5;28mprint\u001b[39m(\u001b[38;5;124m\"\u001b[39m\u001b[38;5;124mAn error occurred:\u001b[39m\u001b[38;5;124m\"\u001b[39m, e)\n",
      "Cell \u001b[1;32mIn[42], line 2\u001b[0m, in \u001b[0;36mfunction1\u001b[1;34m()\u001b[0m\n\u001b[0;32m      1\u001b[0m \u001b[38;5;28;01mdef\u001b[39;00m \u001b[38;5;21mfunction1\u001b[39m():\n\u001b[1;32m----> 2\u001b[0m     \u001b[43mfunction2\u001b[49m\u001b[43m(\u001b[49m\u001b[43m)\u001b[49m\n",
      "Cell \u001b[1;32mIn[42], line 5\u001b[0m, in \u001b[0;36mfunction2\u001b[1;34m()\u001b[0m\n\u001b[0;32m      4\u001b[0m \u001b[38;5;28;01mdef\u001b[39;00m \u001b[38;5;21mfunction2\u001b[39m():\n\u001b[1;32m----> 5\u001b[0m     \u001b[43mfunction3\u001b[49m\u001b[43m(\u001b[49m\u001b[43m)\u001b[49m\n",
      "Cell \u001b[1;32mIn[42], line 8\u001b[0m, in \u001b[0;36mfunction3\u001b[1;34m()\u001b[0m\n\u001b[0;32m      7\u001b[0m \u001b[38;5;28;01mdef\u001b[39;00m \u001b[38;5;21mfunction3\u001b[39m():\n\u001b[1;32m----> 8\u001b[0m     \u001b[38;5;28;01mraise\u001b[39;00m \u001b[38;5;167;01mValueError\u001b[39;00m(\u001b[38;5;124m\"\u001b[39m\u001b[38;5;124mSomething went wrong\u001b[39m\u001b[38;5;124m\"\u001b[39m)\n",
      "\u001b[1;31mValueError\u001b[0m: Something went wrong"
     ]
    }
   ],
   "source": [
    "def function1():\n",
    "    function2()\n",
    "\n",
    "def function2():\n",
    "    function3()\n",
    "\n",
    "def function3():\n",
    "    raise ValueError(\"Something went wrong\")\n",
    "\n",
    "try:\n",
    "    function1()\n",
    "except ValueError as e:\n",
    "    print(\"An error occurred:\", e)\n",
    "    raise e"
   ]
  },
  {
   "cell_type": "code",
   "execution_count": 38,
   "id": "ee1a734b",
   "metadata": {},
   "outputs": [
    {
     "name": "stdout",
     "output_type": "stream",
     "text": [
      "ACHTUNG! Remove the pipeline of exp `Exp 1 [ERROR] Test Exp - Test exp descr`? (y/n) y\n",
      "train started\n"
     ]
    },
    {
     "ename": "ValueError",
     "evalue": "sdf dsf dsf dsfdsf",
     "output_type": "error",
     "traceback": [
      "\u001b[1;31m---------------------------------------------------------------------------\u001b[0m",
      "\u001b[1;31mValueError\u001b[0m                                Traceback (most recent call last)",
      "Cell \u001b[1;32mIn[38], line 2\u001b[0m\n\u001b[0;32m      1\u001b[0m xman\u001b[38;5;241m.\u001b[39mproj\u001b[38;5;241m.\u001b[39mexp(\u001b[38;5;124m'\u001b[39m\u001b[38;5;124m1.1\u001b[39m\u001b[38;5;124m'\u001b[39m)\u001b[38;5;241m.\u001b[39mdestroy_pipeline()\u001b[38;5;241m.\u001b[39mmake_pipeline(train, params)\n\u001b[1;32m----> 2\u001b[0m \u001b[43mxman\u001b[49m\u001b[38;5;241;43m.\u001b[39;49m\u001b[43mproj\u001b[49m\u001b[38;5;241;43m.\u001b[39;49m\u001b[43mexp\u001b[49m\u001b[43m(\u001b[49m\u001b[38;5;124;43m'\u001b[39;49m\u001b[38;5;124;43m1.1\u001b[39;49m\u001b[38;5;124;43m'\u001b[39;49m\u001b[43m)\u001b[49m\u001b[38;5;241;43m.\u001b[39;49m\u001b[43mstart\u001b[49m\u001b[43m(\u001b[49m\u001b[43m)\u001b[49m\n",
      "File \u001b[1;32mC:\\workspace\\xman\\src\\xman\\exp.py:168\u001b[0m, in \u001b[0;36mExp.start\u001b[1;34m(self)\u001b[0m\n\u001b[0;32m    166\u001b[0m \u001b[38;5;28;01mif\u001b[39;00m pipeline\u001b[38;5;241m.\u001b[39mfinished:\n\u001b[0;32m    167\u001b[0m     \u001b[38;5;28;01mraise\u001b[39;00m IllegalOperationXManError(\u001b[38;5;124mf\u001b[39m\u001b[38;5;124m\"\u001b[39m\u001b[38;5;124m`\u001b[39m\u001b[38;5;132;01m{\u001b[39;00m\u001b[38;5;28mself\u001b[39m\u001b[38;5;132;01m}\u001b[39;00m\u001b[38;5;124m` was already finished!\u001b[39m\u001b[38;5;124m\"\u001b[39m)\n\u001b[1;32m--> 168\u001b[0m \u001b[43mpipeline\u001b[49m\u001b[38;5;241;43m.\u001b[39;49m\u001b[43m_start\u001b[49m\u001b[43m(\u001b[49m\u001b[43m)\u001b[49m\n",
      "File \u001b[1;32mC:\\workspace\\xman\\src\\xman\\pipeline.py:64\u001b[0m, in \u001b[0;36mPipeline._start\u001b[1;34m(self)\u001b[0m\n\u001b[0;32m     62\u001b[0m \u001b[38;5;28mself\u001b[39m\u001b[38;5;241m.\u001b[39mexp\u001b[38;5;241m.\u001b[39m_save_and_update()\n\u001b[0;32m     63\u001b[0m \u001b[38;5;28;01mif\u001b[39;00m error \u001b[38;5;129;01mis\u001b[39;00m \u001b[38;5;129;01mnot\u001b[39;00m \u001b[38;5;28;01mNone\u001b[39;00m:\n\u001b[1;32m---> 64\u001b[0m     \u001b[38;5;28;01mraise\u001b[39;00m error\n",
      "File \u001b[1;32mC:\\workspace\\xman\\src\\xman\\pipeline.py:57\u001b[0m, in \u001b[0;36mPipeline._start\u001b[1;34m(self)\u001b[0m\n\u001b[0;32m     55\u001b[0m error \u001b[38;5;241m=\u001b[39m \u001b[38;5;28;01mNone\u001b[39;00m\n\u001b[0;32m     56\u001b[0m \u001b[38;5;28;01mtry\u001b[39;00m:\n\u001b[1;32m---> 57\u001b[0m     \u001b[38;5;28mself\u001b[39m\u001b[38;5;241m.\u001b[39mresult \u001b[38;5;241m=\u001b[39m \u001b[38;5;28mself\u001b[39m\u001b[38;5;241m.\u001b[39mrun_func(\u001b[38;5;28mself\u001b[39m\u001b[38;5;241m.\u001b[39mpulse, \u001b[38;5;241m*\u001b[39m\u001b[38;5;241m*\u001b[39m\u001b[38;5;28mself\u001b[39m\u001b[38;5;241m.\u001b[39mparams)\n\u001b[0;32m     58\u001b[0m     \u001b[38;5;28mself\u001b[39m\u001b[38;5;241m.\u001b[39mfinished \u001b[38;5;241m=\u001b[39m \u001b[38;5;28;01mTrue\u001b[39;00m\n\u001b[0;32m     59\u001b[0m \u001b[38;5;28;01mexcept\u001b[39;00m \u001b[38;5;167;01mException\u001b[39;00m \u001b[38;5;28;01mas\u001b[39;00m e:\n",
      "Cell \u001b[1;32mIn[28], line 6\u001b[0m, in \u001b[0;36mtrain\u001b[1;34m(pulse, p1, p2, np1, np2)\u001b[0m\n\u001b[0;32m      4\u001b[0m     \u001b[38;5;28;01mfrom\u001b[39;00m \u001b[38;5;21;01mxman\u001b[39;00m\u001b[38;5;21;01m.\u001b[39;00m\u001b[38;5;21;01merror\u001b[39;00m \u001b[38;5;28;01mimport\u001b[39;00m ArgumentsXManError\n\u001b[0;32m      5\u001b[0m \u001b[38;5;66;03m#     raise ArgumentsXManError(f\"Error text\")\u001b[39;00m\n\u001b[1;32m----> 6\u001b[0m     \u001b[38;5;28;01mraise\u001b[39;00m \u001b[38;5;167;01mValueError\u001b[39;00m(\u001b[38;5;124m'\u001b[39m\u001b[38;5;124msdf dsf dsf dsfdsf\u001b[39m\u001b[38;5;124m'\u001b[39m)\n\u001b[0;32m      8\u001b[0m     \u001b[38;5;28;01mimport\u001b[39;00m \u001b[38;5;21;01mtime\u001b[39;00m\n\u001b[0;32m      9\u001b[0m     time\u001b[38;5;241m.\u001b[39msleep(\u001b[38;5;241m3\u001b[39m)\n",
      "\u001b[1;31mValueError\u001b[0m: sdf dsf dsf dsfdsf"
     ]
    }
   ],
   "source": [
    "xman.proj.exp('1.1').destroy_pipeline().make_pipeline(train, params)\n",
    "xman.proj.exp('1.1').start()"
   ]
  },
  {
   "cell_type": "code",
   "execution_count": 38,
   "id": "7e97519f",
   "metadata": {},
   "outputs": [
    {
     "data": {
      "text/plain": [
       "('Error',)"
      ]
     },
     "execution_count": 38,
     "metadata": {},
     "output_type": "execute_result"
    }
   ],
   "source": [
    "xman.proj.exp('1.1').error.args"
   ]
  },
  {
   "cell_type": "code",
   "execution_count": 4,
   "id": "573648b3",
   "metadata": {},
   "outputs": [
    {
     "data": {
      "text/plain": [
       "Proj [EMPTY] Test Project - Test project descr"
      ]
     },
     "execution_count": 4,
     "metadata": {},
     "output_type": "execute_result"
    }
   ],
   "source": [
    "xman.proj"
   ]
  },
  {
   "cell_type": "code",
   "execution_count": 5,
   "id": "5aa40d66",
   "metadata": {},
   "outputs": [],
   "source": [
    "group = xman.proj.group(1)"
   ]
  },
  {
   "cell_type": "code",
   "execution_count": 6,
   "id": "d2f1bd37",
   "metadata": {},
   "outputs": [
    {
     "data": {
      "text/plain": [
       "Group 1 [EMPTY] Test Group - Test group descr"
      ]
     },
     "execution_count": 6,
     "metadata": {},
     "output_type": "execute_result"
    }
   ],
   "source": [
    "group"
   ]
  },
  {
   "cell_type": "code",
   "execution_count": 8,
   "id": "a626c123",
   "metadata": {},
   "outputs": [
    {
     "data": {
      "text/plain": [
       "Exp 1 [DONE *] Test Exp - Test exp descr"
      ]
     },
     "execution_count": 8,
     "metadata": {},
     "output_type": "execute_result"
    }
   ],
   "source": [
    "xman.proj.exp('1.1').set_manual_status('DONE', 'resolution')"
   ]
  },
  {
   "cell_type": "code",
   "execution_count": 12,
   "id": "910cf50b",
   "metadata": {},
   "outputs": [
    {
     "data": {
      "text/plain": [
       "Exp 2 [EMPTY] qewrwq2 - ewrwerwqer"
      ]
     },
     "execution_count": 12,
     "metadata": {},
     "output_type": "execute_result"
    }
   ],
   "source": [
    "xman.proj.make_exp(1, \"qewrwq2\", \"ewrwerwqer\")"
   ]
  },
  {
   "cell_type": "code",
   "execution_count": null,
   "id": "7c1a4eed",
   "metadata": {},
   "outputs": [],
   "source": []
  },
  {
   "cell_type": "code",
   "execution_count": 26,
   "id": "7a4fb071",
   "metadata": {},
   "outputs": [
    {
     "name": "stdout",
     "output_type": "stream",
     "text": [
      "Proj [EMPTY] Test Project - Test project descr    \n",
      "    Resolution: -= auto status =-    \n",
      "    \n",
      "    Group 1 [EMPTY] Test Group - Test group descr    \n",
      "        Resolution: -= auto status =-    \n",
      "        \n",
      "        Exp 1 [EMPTY] New name - new descr    \n",
      "            Resolution: -= auto status =-    \n",
      "        \n",
      "        Exp 2 [EMPTY] New name2 - newsdf descrsdfd    \n",
      "            Resolution: -= auto status =-\n"
     ]
    }
   ],
   "source": [
    "xman.proj.info()"
   ]
  },
  {
   "cell_type": "code",
   "execution_count": null,
   "id": "2a1ddf6d",
   "metadata": {},
   "outputs": [],
   "source": []
  },
  {
   "cell_type": "code",
   "execution_count": 24,
   "id": "604bd501",
   "metadata": {},
   "outputs": [],
   "source": [
    "xman.proj.exp('1.2').edit('New name2', 'newsdf descrsdfd')"
   ]
  },
  {
   "cell_type": "code",
   "execution_count": 22,
   "id": "81701672",
   "metadata": {},
   "outputs": [],
   "source": [
    "exp = xman.proj.exp('1.2')"
   ]
  },
  {
   "cell_type": "code",
   "execution_count": 25,
   "id": "660a3547",
   "metadata": {},
   "outputs": [
    {
     "data": {
      "text/plain": [
       "Exp 2 [EMPTY] New name2 - newsdf descrsdfd"
      ]
     },
     "execution_count": 25,
     "metadata": {},
     "output_type": "execute_result"
    }
   ],
   "source": [
    "exp"
   ]
  },
  {
   "cell_type": "code",
   "execution_count": 16,
   "id": "d2d67ada",
   "metadata": {},
   "outputs": [
    {
     "data": {
      "text/plain": [
       "Exp 2 [EMPTY] New name - new descr"
      ]
     },
     "execution_count": 16,
     "metadata": {},
     "output_type": "execute_result"
    }
   ],
   "source": [
    "group.exp('New name')"
   ]
  },
  {
   "cell_type": "code",
   "execution_count": 21,
   "id": "7c4352c5",
   "metadata": {},
   "outputs": [
    {
     "name": "stdout",
     "output_type": "stream",
     "text": [
      "ACHTUNG! Remove `Exp 2 [EMPTY] qewrwq2 - ewrwerwqer` and its `gitignore/experiments/group1\\exp2` dir with all its content? (y/n) y\n"
     ]
    },
    {
     "data": {
      "text/plain": [
       "Exp 2 [EMPTY] qewrwq2 - ewrwerwqer"
      ]
     },
     "execution_count": 21,
     "metadata": {},
     "output_type": "execute_result"
    }
   ],
   "source": [
    "group.destroy_exp(2)"
   ]
  },
  {
   "cell_type": "code",
   "execution_count": null,
   "id": "c3e2113c",
   "metadata": {},
   "outputs": [],
   "source": []
  },
  {
   "cell_type": "code",
   "execution_count": 168,
   "id": "be864cb9",
   "metadata": {},
   "outputs": [],
   "source": [
    "from xman.error import XManError, IllegalOperationXManError\n",
    "import traceback as tb\n",
    "import re\n",
    "\n",
    "error = None\n",
    "try:\n",
    "    raise IllegalOperationXManError('Error message!')\n",
    "except Exception as e:\n",
    "    error = e\n",
    "#     print(e.stack)\n",
    "#     print(size(e))\n",
    "#     print(e.message)"
   ]
  },
  {
   "cell_type": "code",
   "execution_count": 137,
   "id": "90ac80e5",
   "metadata": {},
   "outputs": [
    {
     "name": "stdout",
     "output_type": "stream",
     "text": [
      "[]\n"
     ]
    }
   ],
   "source": [
    "l = [1, 2, 3]\n",
    "print(l[:-0])"
   ]
  },
  {
   "cell_type": "code",
   "execution_count": 122,
   "id": "defc8500",
   "metadata": {},
   "outputs": [
    {
     "ename": "SyntaxError",
     "evalue": "(unicode error) 'unicodeescape' codec can't decode bytes in position 8-9: truncated \\UXXXXXXXX escape (560862291.py, line 4)",
     "output_type": "error",
     "traceback": [
      "\u001b[1;36m  Cell \u001b[1;32mIn[122], line 4\u001b[1;36m\u001b[0m\n\u001b[1;33m    raise IllegalOperationXManError('Error message!')\"\"\"\u001b[0m\n\u001b[1;37m                                                        ^\u001b[0m\n\u001b[1;31mSyntaxError\u001b[0m\u001b[1;31m:\u001b[0m (unicode error) 'unicodeescape' codec can't decode bytes in position 8-9: truncated \\UXXXXXXXX escape\n"
     ]
    }
   ],
   "source": [
    "cls_name = IllegalOperationXManError\n",
    "regex = fr'raise {cls_name}'\n",
    "line = \"\"\"File \"C:\\Users\\gelert\\AppData\\Local\\Temp\\ipykernel_10372\\557370933.py\", line 6, in <module>\n",
    "    raise IllegalOperationXManError('Error message!')\"\"\"\n",
    "re.match(regex, line)"
   ]
  },
  {
   "cell_type": "code",
   "execution_count": null,
   "id": "b15a0f5d",
   "metadata": {},
   "outputs": [],
   "source": []
  },
  {
   "cell_type": "code",
   "execution_count": 153,
   "id": "b777867a",
   "metadata": {},
   "outputs": [
    {
     "data": {
      "text/plain": [
       "['  File \"C:\\\\Users\\\\gelert\\\\AppData\\\\Local\\\\Temp\\\\ipykernel_10372\\\\2624630614.py\", line 7, in <module>\\n    raise XManError(\\'Error message!\\')\\n']"
      ]
     },
     "execution_count": 153,
     "metadata": {},
     "output_type": "execute_result"
    }
   ],
   "source": [
    "traceback.format_tb(error.__traceback__)"
   ]
  },
  {
   "cell_type": "code",
   "execution_count": 163,
   "id": "28887771",
   "metadata": {},
   "outputs": [
    {
     "name": "stdout",
     "output_type": "stream",
     "text": [
      "Help on _Helper in module _sitebuiltins object:\n",
      "\n",
      "class _Helper(builtins.object)\n",
      " |  Define the builtin 'help'.\n",
      " |  \n",
      " |  This is a wrapper around pydoc.help that provides a helpful message\n",
      " |  when 'help' is typed at the Python interactive prompt.\n",
      " |  \n",
      " |  Calling help() at the Python prompt starts an interactive help session.\n",
      " |  Calling help(thing) prints help for the python object 'thing'.\n",
      " |  \n",
      " |  Methods defined here:\n",
      " |  \n",
      " |  __call__(self, *args, **kwds)\n",
      " |      Call self as a function.\n",
      " |  \n",
      " |  __repr__(self)\n",
      " |      Return repr(self).\n",
      " |  \n",
      " |  ----------------------------------------------------------------------\n",
      " |  Data descriptors defined here:\n",
      " |  \n",
      " |  __dict__\n",
      " |      dictionary for instance variables (if defined)\n",
      " |  \n",
      " |  __weakref__\n",
      " |      list of weak references to the object (if defined)\n",
      "\n"
     ]
    }
   ],
   "source": [
    "e = ValueError('val err')\n",
    "\n",
    "help(help)\n"
   ]
  },
  {
   "cell_type": "code",
   "execution_count": null,
   "id": "87e638f3",
   "metadata": {},
   "outputs": [],
   "source": []
  },
  {
   "cell_type": "code",
   "execution_count": null,
   "id": "2c1195f5",
   "metadata": {},
   "outputs": [],
   "source": []
  }
 ],
 "metadata": {
  "kernelspec": {
   "display_name": "Python 3 (ipykernel)",
   "language": "python",
   "name": "python3"
  },
  "language_info": {
   "codemirror_mode": {
    "name": "ipython",
    "version": 3
   },
   "file_extension": ".py",
   "mimetype": "text/x-python",
   "name": "python",
   "nbconvert_exporter": "python",
   "pygments_lexer": "ipython3",
   "version": "3.10.9"
  }
 },
 "nbformat": 4,
 "nbformat_minor": 5
}
