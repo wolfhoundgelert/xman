{
 "cells": [
  {
   "cell_type": "code",
   "execution_count": 1,
   "id": "b6a2d07c",
   "metadata": {
    "scrolled": true
   },
   "outputs": [],
   "source": [
    "%load_ext autoreload\n",
    "%autoreload 2\n",
    "\n",
    "import os\n",
    "import sys\n",
    "\n",
    "module_path = os.path.abspath(os.path.join('src'))\n",
    "sys.path.insert(0, module_path)"
   ]
  },
  {
   "cell_type": "code",
   "execution_count": 2,
   "id": "afe39168",
   "metadata": {},
   "outputs": [],
   "source": [
    "import xman\n",
    "\n",
    "PROJ_DIR = 'gitignore/experiments/'"
   ]
  },
  {
   "cell_type": "code",
   "execution_count": 11,
   "id": "bacd255e",
   "metadata": {},
   "outputs": [
    {
     "name": "stdout",
     "output_type": "stream",
     "text": [
      "\n",
      "experiments/\n",
      "    .data\n",
      "    .time\n",
      "    group1/\n",
      "        .data\n",
      "        .time\n",
      "        exp1/\n",
      "            .data\n",
      "            .time\n",
      "\n",
      "Proj [EMPTY] Test Project - Test project descr    \n",
      "    Resolution: -= auto status =-    \n",
      "    \n",
      "    Group 1 [EMPTY] Test Group - Test group descr    \n",
      "        Resolution: -= auto status =-    \n",
      "        \n",
      "        Exp 1 [EMPTY] Test Exp - Test exp descr    \n",
      "            Resolution: -= auto status =-\n"
     ]
    }
   ],
   "source": [
    "import shutil\n",
    "\n",
    "create_new = True\n",
    "if create_new:\n",
    "    if os.path.exists(PROJ_DIR):\n",
    "        shutil.rmtree(PROJ_DIR)\n",
    "    xman.make_proj(PROJ_DIR, 'Test Project', \"Test project descr\")\n",
    "    xman.proj.make_group(\"Test Group\", \"Test group descr\")\n",
    "    xman.proj.group(1).make_exp(\"Test Exp\", \"Test exp descr\")\n",
    "else:\n",
    "    xman.load_proj(PROJ_DIR)\n",
    "xman.dir_tree(PROJ_DIR)\n",
    "xman.proj.info()"
   ]
  },
  {
   "cell_type": "code",
   "execution_count": 4,
   "id": "3931db1b",
   "metadata": {},
   "outputs": [],
   "source": [
    "def train(pulse, p1, p2, np1=None, np2=None):\n",
    "    print(\"train started\")\n",
    "    import time\n",
    "    time.sleep(3)\n",
    "    pulse('ONE')\n",
    "    print(\"train is still in progress...\")\n",
    "    result = f\"p1={p1}, p2={p2}, np1={np1}, np2={np2}\"\n",
    "    time.sleep(3)\n",
    "    pulse('TWO', replace=False)\n",
    "    print(f\"Pulse checkpoints: `{pulse.intermediate_checkpoints}`, loc dir `{pulse.location_dir}`\")\n",
    "    print(f\"train finished with result `{result}`\")\n",
    "    return result\n",
    "\n",
    "params = {\n",
    "    'p1': 1,\n",
    "    'p2': 2,\n",
    "    'np1': 3,\n",
    "    'np2': 4,\n",
    "}"
   ]
  },
  {
   "cell_type": "code",
   "execution_count": 5,
   "id": "ee1a734b",
   "metadata": {},
   "outputs": [
    {
     "data": {
      "text/plain": [
       "Exp 1 [TODO] Test Exp - Test exp descr"
      ]
     },
     "execution_count": 5,
     "metadata": {},
     "output_type": "execute_result"
    }
   ],
   "source": [
    "# xman.proj.exp('1.1').destroy_pipeline().make_pipeline(train, params)\n",
    "xman.proj.exp('1.1').make_pipeline(train, params, True)"
   ]
  },
  {
   "cell_type": "code",
   "execution_count": 6,
   "id": "cb87d25e",
   "metadata": {},
   "outputs": [
    {
     "name": "stdout",
     "output_type": "stream",
     "text": [
      "train started\n",
      "train is still in progress...\n",
      "Pulse checkpoints: `['ONE', 'TWO']`, loc dir `gitignore\\experiments\\group1\\exp1`\n",
      "train finished with result `p1=1, p2=2, np1=3, np2=4`\n"
     ]
    },
    {
     "data": {
      "text/plain": [
       "Exp 1 [DONE] Test Exp - Test exp descr"
      ]
     },
     "execution_count": 6,
     "metadata": {},
     "output_type": "execute_result"
    }
   ],
   "source": [
    "xman.proj.exp('1.1').start()"
   ]
  },
  {
   "cell_type": "code",
   "execution_count": null,
   "id": "5e1cfe2f",
   "metadata": {},
   "outputs": [],
   "source": []
  },
  {
   "cell_type": "code",
   "execution_count": null,
   "id": "9a3972a5",
   "metadata": {},
   "outputs": [],
   "source": []
  },
  {
   "cell_type": "code",
   "execution_count": 7,
   "id": "7e97519f",
   "metadata": {
    "scrolled": true
   },
   "outputs": [
    {
     "name": "stdout",
     "output_type": "stream",
     "text": [
      "ATTENTION! Remove `Group 1 [DONE] Test Group - Test group descr` and all its `gitignore\\experiments\\group1` dir with all its content? (y/n) y\n"
     ]
    }
   ],
   "source": [
    "xman.proj.group(1).destroy_exp(1)"
   ]
  },
  {
   "cell_type": "code",
   "execution_count": 8,
   "id": "d30ccefd",
   "metadata": {},
   "outputs": [
    {
     "name": "stdout",
     "output_type": "stream",
     "text": [
      "ATTENTION! Remove `Proj [EMPTY] Test Project - Test project descr` and all its `gitignore\\experiments` dir with all its content? (y/n) y\n"
     ]
    }
   ],
   "source": [
    "xman.proj.destroy_group(1)"
   ]
  },
  {
   "cell_type": "code",
   "execution_count": null,
   "id": "385fb03a",
   "metadata": {},
   "outputs": [],
   "source": []
  },
  {
   "cell_type": "code",
   "execution_count": null,
   "id": "fe2602c6",
   "metadata": {},
   "outputs": [],
   "source": []
  },
  {
   "cell_type": "code",
   "execution_count": 9,
   "id": "573648b3",
   "metadata": {},
   "outputs": [
    {
     "data": {
      "text/plain": [
       "Proj [EMPTY] Test Project - Test project descr"
      ]
     },
     "execution_count": 9,
     "metadata": {},
     "output_type": "execute_result"
    }
   ],
   "source": [
    "xman.proj"
   ]
  },
  {
   "cell_type": "code",
   "execution_count": 10,
   "id": "5aa40d66",
   "metadata": {},
   "outputs": [
    {
     "ename": "NotExistsXManError",
     "evalue": "There's no item with num or name `1`!",
     "output_type": "error",
     "traceback": [
      "\u001b[1;31m---------------------------------------------------------------------------\u001b[0m",
      "\u001b[1;31mNotExistsXManError\u001b[0m                        Traceback (most recent call last)",
      "Cell \u001b[1;32mIn[10], line 1\u001b[0m\n\u001b[1;32m----> 1\u001b[0m group \u001b[38;5;241m=\u001b[39m \u001b[43mxman\u001b[49m\u001b[38;5;241;43m.\u001b[39;49m\u001b[43mproj\u001b[49m\u001b[38;5;241;43m.\u001b[39;49m\u001b[43mgroup\u001b[49m\u001b[43m(\u001b[49m\u001b[38;5;241;43m1\u001b[39;49m\u001b[43m)\u001b[49m\n",
      "File \u001b[1;32mC:\\workspace\\xman\\src\\xman\\proj.py:40\u001b[0m, in \u001b[0;36mExpProj.group\u001b[1;34m(self, num_or_name)\u001b[0m\n\u001b[0;32m     38\u001b[0m \u001b[38;5;28;01mdef\u001b[39;00m \u001b[38;5;21mgroup\u001b[39m(\u001b[38;5;28mself\u001b[39m, num_or_name) \u001b[38;5;241m-\u001b[39m\u001b[38;5;241m>\u001b[39m ExpGroup:\n\u001b[0;32m     39\u001b[0m     \u001b[38;5;28mself\u001b[39m\u001b[38;5;241m.\u001b[39m_update()\n\u001b[1;32m---> 40\u001b[0m     \u001b[38;5;28;01mreturn\u001b[39;00m \u001b[38;5;28;43mself\u001b[39;49m\u001b[38;5;241;43m.\u001b[39;49m\u001b[43m_group\u001b[49m\u001b[43m(\u001b[49m\u001b[43mnum_or_name\u001b[49m\u001b[43m)\u001b[49m\n",
      "File \u001b[1;32mC:\\workspace\\xman\\src\\xman\\proj.py:42\u001b[0m, in \u001b[0;36mExpProj._group\u001b[1;34m(self, num_or_name)\u001b[0m\n\u001b[1;32m---> 42\u001b[0m \u001b[38;5;28;01mdef\u001b[39;00m \u001b[38;5;21m_group\u001b[39m(\u001b[38;5;28mself\u001b[39m, num_or_name) \u001b[38;5;241m-\u001b[39m\u001b[38;5;241m>\u001b[39m ExpGroup: \u001b[38;5;28;01mreturn\u001b[39;00m \u001b[38;5;28;43mself\u001b[39;49m\u001b[38;5;241;43m.\u001b[39;49m\u001b[43m_get_child_by_num_or_name\u001b[49m\u001b[43m(\u001b[49m\u001b[43mnum_or_name\u001b[49m\u001b[43m)\u001b[49m\n",
      "File \u001b[1;32mC:\\workspace\\xman\\src\\xman\\structbox.py:109\u001b[0m, in \u001b[0;36mExpStructBox._get_child_by_num_or_name\u001b[1;34m(self, num_or_name)\u001b[0m\n\u001b[0;32m    107\u001b[0m \u001b[38;5;28;01melif\u001b[39;00m util\u001b[38;5;241m.\u001b[39mis_name(num_or_name) \u001b[38;5;129;01mand\u001b[39;00m num_or_name \u001b[38;5;129;01min\u001b[39;00m \u001b[38;5;28mself\u001b[39m\u001b[38;5;241m.\u001b[39m__name_to_child:\n\u001b[0;32m    108\u001b[0m     \u001b[38;5;28;01mreturn\u001b[39;00m \u001b[38;5;28mself\u001b[39m\u001b[38;5;241m.\u001b[39m__name_to_child[num_or_name]\n\u001b[1;32m--> 109\u001b[0m \u001b[38;5;28;01mraise\u001b[39;00m NotExistsXManError(\u001b[38;5;124mf\u001b[39m\u001b[38;5;124m\"\u001b[39m\u001b[38;5;124mThere\u001b[39m\u001b[38;5;124m'\u001b[39m\u001b[38;5;124ms no item with num or name `\u001b[39m\u001b[38;5;132;01m{\u001b[39;00mnum_or_name\u001b[38;5;132;01m}\u001b[39;00m\u001b[38;5;124m`!\u001b[39m\u001b[38;5;124m\"\u001b[39m)\n",
      "\u001b[1;31mNotExistsXManError\u001b[0m: There's no item with num or name `1`!"
     ]
    }
   ],
   "source": [
    "group = xman.proj.group(1)"
   ]
  },
  {
   "cell_type": "code",
   "execution_count": 9,
   "id": "d2f1bd37",
   "metadata": {},
   "outputs": [
    {
     "data": {
      "text/plain": [
       "Group 1 [EMPTY] Test Group - Test group descr"
      ]
     },
     "execution_count": 9,
     "metadata": {},
     "output_type": "execute_result"
    }
   ],
   "source": [
    "group"
   ]
  },
  {
   "cell_type": "code",
   "execution_count": 12,
   "id": "a626c123",
   "metadata": {},
   "outputs": [
    {
     "data": {
      "text/plain": [
       "Exp 1 [DONE *] Test Exp - Test exp descr"
      ]
     },
     "execution_count": 12,
     "metadata": {},
     "output_type": "execute_result"
    }
   ],
   "source": [
    "xman.proj.exp('1.1').set_manual_status('DONE', 'resolution')"
   ]
  },
  {
   "cell_type": "code",
   "execution_count": 13,
   "id": "910cf50b",
   "metadata": {},
   "outputs": [
    {
     "data": {
      "text/plain": [
       "Exp 2 [EMPTY] qewrwq2 - ewrwerwqer"
      ]
     },
     "execution_count": 13,
     "metadata": {},
     "output_type": "execute_result"
    }
   ],
   "source": [
    "xman.proj.make_exp(1, \"qewrwq2\", \"ewrwerwqer\")"
   ]
  },
  {
   "cell_type": "code",
   "execution_count": 14,
   "id": "7c1a4eed",
   "metadata": {},
   "outputs": [
    {
     "name": "stdout",
     "output_type": "stream",
     "text": [
      "Exp 1 [DONE *] Test Exp - Test exp descr    \n",
      "    Resolution: resolution\n"
     ]
    }
   ],
   "source": [
    "xman.proj.exp('1.1').info()"
   ]
  },
  {
   "cell_type": "code",
   "execution_count": 15,
   "id": "7a4fb071",
   "metadata": {},
   "outputs": [
    {
     "name": "stdout",
     "output_type": "stream",
     "text": [
      "Proj [IN_PROGRESS] Test Project - Test project descr    \n",
      "    Resolution: -= auto status =-    \n",
      "    \n",
      "    Group 1 [IN_PROGRESS] Test Group - Test group descr    \n",
      "        Resolution: -= auto status =-    \n",
      "        \n",
      "        Exp 1 [DONE *] Test Exp - Test exp descr    \n",
      "            Resolution: resolution    \n",
      "        \n",
      "        Exp 2 [EMPTY] qewrwq2 - ewrwerwqer    \n",
      "            Resolution: -= auto status =-\n"
     ]
    }
   ],
   "source": [
    "xman.proj.info()"
   ]
  },
  {
   "cell_type": "code",
   "execution_count": null,
   "id": "2a1ddf6d",
   "metadata": {},
   "outputs": [],
   "source": []
  },
  {
   "cell_type": "code",
   "execution_count": 16,
   "id": "604bd501",
   "metadata": {},
   "outputs": [],
   "source": [
    "xman.proj.exp('1.2').edit('New name2', 'newsdf descrsdfd')"
   ]
  },
  {
   "cell_type": "code",
   "execution_count": 17,
   "id": "81701672",
   "metadata": {},
   "outputs": [],
   "source": [
    "exp = xman.proj.exp('1.2')"
   ]
  },
  {
   "cell_type": "code",
   "execution_count": 18,
   "id": "660a3547",
   "metadata": {},
   "outputs": [
    {
     "data": {
      "text/plain": [
       "Exp 2 [EMPTY] New name2 - newsdf descrsdfd"
      ]
     },
     "execution_count": 18,
     "metadata": {},
     "output_type": "execute_result"
    }
   ],
   "source": [
    "exp"
   ]
  },
  {
   "cell_type": "code",
   "execution_count": 19,
   "id": "d2d67ada",
   "metadata": {},
   "outputs": [
    {
     "ename": "NameError",
     "evalue": "name 'group' is not defined",
     "output_type": "error",
     "traceback": [
      "\u001b[1;31m---------------------------------------------------------------------------\u001b[0m",
      "\u001b[1;31mNameError\u001b[0m                                 Traceback (most recent call last)",
      "Cell \u001b[1;32mIn[19], line 1\u001b[0m\n\u001b[1;32m----> 1\u001b[0m \u001b[43mgroup\u001b[49m\u001b[38;5;241m.\u001b[39mexp(\u001b[38;5;124m'\u001b[39m\u001b[38;5;124mNew name\u001b[39m\u001b[38;5;124m'\u001b[39m)\n",
      "\u001b[1;31mNameError\u001b[0m: name 'group' is not defined"
     ]
    }
   ],
   "source": [
    "group.exp('New name')"
   ]
  },
  {
   "cell_type": "code",
   "execution_count": 20,
   "id": "7c4352c5",
   "metadata": {},
   "outputs": [
    {
     "ename": "NameError",
     "evalue": "name 'group' is not defined",
     "output_type": "error",
     "traceback": [
      "\u001b[1;31m---------------------------------------------------------------------------\u001b[0m",
      "\u001b[1;31mNameError\u001b[0m                                 Traceback (most recent call last)",
      "Cell \u001b[1;32mIn[20], line 1\u001b[0m\n\u001b[1;32m----> 1\u001b[0m \u001b[43mgroup\u001b[49m\u001b[38;5;241m.\u001b[39mdestroy_exp(\u001b[38;5;241m2\u001b[39m)\n",
      "\u001b[1;31mNameError\u001b[0m: name 'group' is not defined"
     ]
    }
   ],
   "source": [
    "group.destroy_exp(2)"
   ]
  },
  {
   "cell_type": "code",
   "execution_count": null,
   "id": "c3e2113c",
   "metadata": {},
   "outputs": [],
   "source": []
  },
  {
   "cell_type": "code",
   "execution_count": 168,
   "id": "be864cb9",
   "metadata": {},
   "outputs": [],
   "source": [
    "from xman.error import XManError, IllegalOperationXManError\n",
    "import traceback as tb\n",
    "import re\n",
    "\n",
    "error = None\n",
    "try:\n",
    "    raise IllegalOperationXManError('Error message!')\n",
    "except Exception as e:\n",
    "    error = e\n",
    "#     print(e.stack)\n",
    "#     print(size(e))\n",
    "#     print(e.message)"
   ]
  },
  {
   "cell_type": "code",
   "execution_count": 137,
   "id": "90ac80e5",
   "metadata": {},
   "outputs": [
    {
     "name": "stdout",
     "output_type": "stream",
     "text": [
      "[]\n"
     ]
    }
   ],
   "source": [
    "l = [1, 2, 3]\n",
    "print(l[:-0])"
   ]
  },
  {
   "cell_type": "code",
   "execution_count": 122,
   "id": "defc8500",
   "metadata": {},
   "outputs": [
    {
     "ename": "SyntaxError",
     "evalue": "(unicode error) 'unicodeescape' codec can't decode bytes in position 8-9: truncated \\UXXXXXXXX escape (560862291.py, line 4)",
     "output_type": "error",
     "traceback": [
      "\u001b[1;36m  Cell \u001b[1;32mIn[122], line 4\u001b[1;36m\u001b[0m\n\u001b[1;33m    raise IllegalOperationXManError('Error message!')\"\"\"\u001b[0m\n\u001b[1;37m                                                        ^\u001b[0m\n\u001b[1;31mSyntaxError\u001b[0m\u001b[1;31m:\u001b[0m (unicode error) 'unicodeescape' codec can't decode bytes in position 8-9: truncated \\UXXXXXXXX escape\n"
     ]
    }
   ],
   "source": [
    "cls_name = IllegalOperationXManError\n",
    "regex = fr'raise {cls_name}'\n",
    "line = \"\"\"File \"C:\\Users\\gelert\\AppData\\Local\\Temp\\ipykernel_10372\\557370933.py\", line 6, in <module>\n",
    "    raise IllegalOperationXManError('Error message!')\"\"\"\n",
    "re.match(regex, line)"
   ]
  },
  {
   "cell_type": "code",
   "execution_count": null,
   "id": "b15a0f5d",
   "metadata": {},
   "outputs": [],
   "source": []
  },
  {
   "cell_type": "code",
   "execution_count": 153,
   "id": "b777867a",
   "metadata": {},
   "outputs": [
    {
     "data": {
      "text/plain": [
       "['  File \"C:\\\\Users\\\\gelert\\\\AppData\\\\Local\\\\Temp\\\\ipykernel_10372\\\\2624630614.py\", line 7, in <module>\\n    raise XManError(\\'Error message!\\')\\n']"
      ]
     },
     "execution_count": 153,
     "metadata": {},
     "output_type": "execute_result"
    }
   ],
   "source": [
    "traceback.format_tb(error.__traceback__)"
   ]
  },
  {
   "cell_type": "code",
   "execution_count": 163,
   "id": "28887771",
   "metadata": {},
   "outputs": [
    {
     "name": "stdout",
     "output_type": "stream",
     "text": [
      "Help on _Helper in module _sitebuiltins object:\n",
      "\n",
      "class _Helper(builtins.object)\n",
      " |  Define the builtin 'help'.\n",
      " |  \n",
      " |  This is a wrapper around pydoc.help that provides a helpful message\n",
      " |  when 'help' is typed at the Python interactive prompt.\n",
      " |  \n",
      " |  Calling help() at the Python prompt starts an interactive help session.\n",
      " |  Calling help(thing) prints help for the python object 'thing'.\n",
      " |  \n",
      " |  Methods defined here:\n",
      " |  \n",
      " |  __call__(self, *args, **kwds)\n",
      " |      Call self as a function.\n",
      " |  \n",
      " |  __repr__(self)\n",
      " |      Return repr(self).\n",
      " |  \n",
      " |  ----------------------------------------------------------------------\n",
      " |  Data descriptors defined here:\n",
      " |  \n",
      " |  __dict__\n",
      " |      dictionary for instance variables (if defined)\n",
      " |  \n",
      " |  __weakref__\n",
      " |      list of weak references to the object (if defined)\n",
      "\n"
     ]
    }
   ],
   "source": [
    "e = ValueError('val err')\n",
    "\n",
    "help(help)\n"
   ]
  },
  {
   "cell_type": "code",
   "execution_count": null,
   "id": "87e638f3",
   "metadata": {},
   "outputs": [],
   "source": []
  },
  {
   "cell_type": "code",
   "execution_count": 21,
   "id": "2c1195f5",
   "metadata": {
    "scrolled": true
   },
   "outputs": [
    {
     "name": "stdout",
     "output_type": "stream",
     "text": [
      "CPU times: total: 10min 47s\n",
      "Wall time: 11min 17s\n"
     ]
    }
   ],
   "source": [
    "%%time\n",
    "for i in range(1000):\n",
    "    xman.proj.make_exp(1, f\"Exp auto {i+1}/1000\", \"Profiler\")"
   ]
  },
  {
   "cell_type": "code",
   "execution_count": 21,
   "id": "fa4fd501",
   "metadata": {},
   "outputs": [
    {
     "name": "stdout",
     "output_type": "stream",
     "text": [
      "CPU times: total: 7.05 s\n",
      "Wall time: 7.29 s\n"
     ]
    }
   ],
   "source": [
    "%%time\n",
    "for i in range(100):\n",
    "    xman.proj.make_exp(1, f\"Exp auto {i+1}/100\", \"Profiler\")"
   ]
  },
  {
   "cell_type": "code",
   "execution_count": 23,
   "id": "0bda8401",
   "metadata": {},
   "outputs": [
    {
     "name": "stdout",
     "output_type": "stream",
     "text": [
      "CPU times: total: 1.03 s\n",
      "Wall time: 1.04 s\n"
     ]
    },
    {
     "data": {
      "text/plain": [
       "Exp 1102 [EMPTY] Exp aut - Profiler"
      ]
     },
     "execution_count": 23,
     "metadata": {},
     "output_type": "execute_result"
    }
   ],
   "source": [
    "%%time\n",
    "xman.proj.make_exp(1, f\"Exp aut\", \"Profiler\")"
   ]
  },
  {
   "cell_type": "code",
   "execution_count": 22,
   "id": "4071351e",
   "metadata": {},
   "outputs": [
    {
     "name": "stdout",
     "output_type": "stream",
     "text": [
      "\n",
      "group1/\n",
      "    .data\n",
      "    .time\n",
      "    exp1/\n",
      "        .data\n",
      "        .time\n",
      "    exp2/\n",
      "        .data\n",
      "        .time\n",
      "    exp3/\n",
      "        .data\n",
      "        .time\n",
      "    exp4/\n",
      "        .data\n",
      "        .time\n",
      "    exp5/\n",
      "        .data\n",
      "        .time\n",
      "    exp6/\n",
      "        .data\n",
      "        .time\n",
      "    exp7/\n",
      "        .data\n",
      "        .time\n",
      "    exp8/\n",
      "        .data\n",
      "        .time\n",
      "    exp9/\n",
      "        .data\n",
      "        .time\n",
      "    exp10/\n",
      "        .data\n",
      "        .time\n",
      "    exp11/\n",
      "        .data\n",
      "        .time\n",
      "    exp12/\n",
      "        .data\n",
      "        .time\n",
      "    exp13/\n",
      "        .data\n",
      "        .time\n",
      "    exp14/\n",
      "        .data\n",
      "        .time\n",
      "    exp15/\n",
      "        .data\n",
      "        .time\n",
      "    exp16/\n",
      "        .data\n",
      "        .time\n",
      "    exp17/\n",
      "        .data\n",
      "        .time\n",
      "    exp18/\n",
      "        .data\n",
      "        .time\n",
      "    exp19/\n",
      "        .data\n",
      "        .time\n",
      "    exp20/\n",
      "        .data\n",
      "        .time\n",
      "    exp21/\n",
      "        .data\n",
      "        .time\n",
      "    exp22/\n",
      "        .data\n",
      "        .time\n",
      "    exp23/\n",
      "        .data\n",
      "        .time\n",
      "    exp24/\n",
      "        .data\n",
      "        .time\n",
      "    exp25/\n",
      "        .data\n",
      "        .time\n",
      "    exp26/\n",
      "        .data\n",
      "        .time\n",
      "    exp27/\n",
      "        .data\n",
      "        .time\n",
      "    exp28/\n",
      "        .data\n",
      "        .time\n",
      "    exp29/\n",
      "        .data\n",
      "        .time\n",
      "    exp30/\n",
      "        .data\n",
      "        .time\n",
      "    exp31/\n",
      "        .data\n",
      "        .time\n",
      "    exp32/\n",
      "        .data\n",
      "        .time\n",
      "    exp33/\n",
      "        .data\n",
      "        .time\n",
      "    exp34/\n",
      "        .data\n",
      "        .time\n",
      "    exp35/\n",
      "        .data\n",
      "        .time\n",
      "    exp36/\n",
      "        .data\n",
      "        .time\n",
      "    exp37/\n",
      "        .data\n",
      "        .time\n",
      "    exp38/\n",
      "        .data\n",
      "        .time\n",
      "    exp39/\n",
      "        .data\n",
      "        .time\n",
      "    exp40/\n",
      "        .data\n",
      "        .time\n",
      "    exp41/\n",
      "        .data\n",
      "        .time\n",
      "    exp42/\n",
      "        .data\n",
      "        .time\n",
      "    exp43/\n",
      "        .data\n",
      "        .time\n",
      "    exp44/\n",
      "        .data\n",
      "        .time\n",
      "    exp45/\n",
      "        .data\n",
      "        .time\n",
      "    exp46/\n",
      "        .data\n",
      "        .time\n",
      "    exp47/\n",
      "        .data\n",
      "        .time\n",
      "    exp48/\n",
      "        .data\n",
      "        .time\n",
      "    exp49/\n",
      "        .data\n",
      "        .time\n",
      "    exp50/\n",
      "        .data\n",
      "        .time\n",
      "    exp51/\n",
      "        .data\n",
      "        .time\n",
      "    exp52/\n",
      "        .data\n",
      "        .time\n",
      "    exp53/\n",
      "        .data\n",
      "        .time\n",
      "    exp54/\n",
      "        .data\n",
      "        .time\n",
      "    exp55/\n",
      "        .data\n",
      "        .time\n",
      "    exp56/\n",
      "        .data\n",
      "        .time\n",
      "    exp57/\n",
      "        .data\n",
      "        .time\n",
      "    exp58/\n",
      "        .data\n",
      "        .time\n",
      "    exp59/\n",
      "        .data\n",
      "        .time\n",
      "    exp60/\n",
      "        .data\n",
      "        .time\n",
      "    exp61/\n",
      "        .data\n",
      "        .time\n",
      "    exp62/\n",
      "        .data\n",
      "        .time\n",
      "    exp63/\n",
      "        .data\n",
      "        .time\n",
      "    exp64/\n",
      "        .data\n",
      "        .time\n",
      "    exp65/\n",
      "        .data\n",
      "        .time\n",
      "    exp66/\n",
      "        .data\n",
      "        .time\n",
      "    exp67/\n",
      "        .data\n",
      "        .time\n",
      "    exp68/\n",
      "        .data\n",
      "        .time\n",
      "    exp69/\n",
      "        .data\n",
      "        .time\n",
      "    exp70/\n",
      "        .data\n",
      "        .time\n",
      "    exp71/\n",
      "        .data\n",
      "        .time\n",
      "    exp72/\n",
      "        .data\n",
      "        .time\n",
      "    exp73/\n",
      "        .data\n",
      "        .time\n",
      "    exp74/\n",
      "        .data\n",
      "        .time\n",
      "    exp75/\n",
      "        .data\n",
      "        .time\n",
      "    exp76/\n",
      "        .data\n",
      "        .time\n",
      "    exp77/\n",
      "        .data\n",
      "        .time\n",
      "    exp78/\n",
      "        .data\n",
      "        .time\n",
      "    exp79/\n",
      "        .data\n",
      "        .time\n",
      "    exp80/\n",
      "        .data\n",
      "        .time\n",
      "    exp81/\n",
      "        .data\n",
      "        .time\n",
      "    exp82/\n",
      "        .data\n",
      "        .time\n",
      "    exp83/\n",
      "        .data\n",
      "        .time\n",
      "    exp84/\n",
      "        .data\n",
      "        .time\n",
      "    exp85/\n",
      "        .data\n",
      "        .time\n",
      "    exp86/\n",
      "        .data\n",
      "        .time\n",
      "    exp87/\n",
      "        .data\n",
      "        .time\n",
      "    exp88/\n",
      "        .data\n",
      "        .time\n",
      "    exp89/\n",
      "        .data\n",
      "        .time\n",
      "    exp90/\n",
      "        .data\n",
      "        .time\n",
      "    exp91/\n",
      "        .data\n",
      "        .time\n",
      "    exp92/\n",
      "        .data\n",
      "        .time\n",
      "    exp93/\n",
      "        .data\n",
      "        .time\n",
      "    exp94/\n",
      "        .data\n",
      "        .time\n",
      "    exp95/\n",
      "        .data\n",
      "        .time\n",
      "    exp96/\n",
      "        .data\n",
      "        .time\n",
      "    exp97/\n",
      "        .data\n",
      "        .time\n",
      "    exp98/\n",
      "        .data\n",
      "        .time\n",
      "    exp99/\n",
      "        .data\n",
      "        .time\n",
      "    exp100/\n",
      "        .data\n",
      "        .time\n",
      "    exp101/\n",
      "        .data\n",
      "        .time\n",
      "    exp102/\n",
      "        .data\n",
      "        .time\n",
      "\n",
      "CPU times: total: 203 ms\n",
      "Wall time: 247 ms\n"
     ]
    }
   ],
   "source": [
    "%%time\n",
    "xman.proj.group(1).tree()"
   ]
  },
  {
   "cell_type": "code",
   "execution_count": 23,
   "id": "d02cf191",
   "metadata": {},
   "outputs": [
    {
     "name": "stdout",
     "output_type": "stream",
     "text": [
      "Proj [IN_PROGRESS] Test Project - Test project descr    \n",
      "    Resolution: -= auto status =-    \n",
      "    \n",
      "    Group 1 [IN_PROGRESS] Test Group - Test group descr    \n",
      "        Resolution: -= auto status =-    \n",
      "        \n",
      "        Exp 1 [DONE *] Test Exp - Test exp descr    \n",
      "            Resolution: resolution    \n",
      "        \n",
      "        Exp 2 [EMPTY] New name2 - newsdf descrsdfd    \n",
      "            Resolution: -= auto status =-    \n",
      "        \n",
      "        Exp 3 [EMPTY] Exp auto 1/100 - Profiler    \n",
      "            Resolution: -= auto status =-    \n",
      "        \n",
      "        Exp 4 [EMPTY] Exp auto 2/100 - Profiler    \n",
      "            Resolution: -= auto status =-    \n",
      "        \n",
      "        Exp 5 [EMPTY] Exp auto 3/100 - Profiler    \n",
      "            Resolution: -= auto status =-    \n",
      "        \n",
      "        Exp 6 [EMPTY] Exp auto 4/100 - Profiler    \n",
      "            Resolution: -= auto status =-    \n",
      "        \n",
      "        Exp 7 [EMPTY] Exp auto 5/100 - Profiler    \n",
      "            Resolution: -= auto status =-    \n",
      "        \n",
      "        Exp 8 [EMPTY] Exp auto 6/100 - Profiler    \n",
      "            Resolution: -= auto status =-    \n",
      "        \n",
      "        Exp 9 [EMPTY] Exp auto 7/100 - Profiler    \n",
      "            Resolution: -= auto status =-    \n",
      "        \n",
      "        Exp 10 [EMPTY] Exp auto 8/100 - Profiler    \n",
      "            Resolution: -= auto status =-    \n",
      "        \n",
      "        Exp 11 [EMPTY] Exp auto 9/100 - Profiler    \n",
      "            Resolution: -= auto status =-    \n",
      "        \n",
      "        Exp 12 [EMPTY] Exp auto 10/100 - Profiler    \n",
      "            Resolution: -= auto status =-    \n",
      "        \n",
      "        Exp 13 [EMPTY] Exp auto 11/100 - Profiler    \n",
      "            Resolution: -= auto status =-    \n",
      "        \n",
      "        Exp 14 [EMPTY] Exp auto 12/100 - Profiler    \n",
      "            Resolution: -= auto status =-    \n",
      "        \n",
      "        Exp 15 [EMPTY] Exp auto 13/100 - Profiler    \n",
      "            Resolution: -= auto status =-    \n",
      "        \n",
      "        Exp 16 [EMPTY] Exp auto 14/100 - Profiler    \n",
      "            Resolution: -= auto status =-    \n",
      "        \n",
      "        Exp 17 [EMPTY] Exp auto 15/100 - Profiler    \n",
      "            Resolution: -= auto status =-    \n",
      "        \n",
      "        Exp 18 [EMPTY] Exp auto 16/100 - Profiler    \n",
      "            Resolution: -= auto status =-    \n",
      "        \n",
      "        Exp 19 [EMPTY] Exp auto 17/100 - Profiler    \n",
      "            Resolution: -= auto status =-    \n",
      "        \n",
      "        Exp 20 [EMPTY] Exp auto 18/100 - Profiler    \n",
      "            Resolution: -= auto status =-    \n",
      "        \n",
      "        Exp 21 [EMPTY] Exp auto 19/100 - Profiler    \n",
      "            Resolution: -= auto status =-    \n",
      "        \n",
      "        Exp 22 [EMPTY] Exp auto 20/100 - Profiler    \n",
      "            Resolution: -= auto status =-    \n",
      "        \n",
      "        Exp 23 [EMPTY] Exp auto 21/100 - Profiler    \n",
      "            Resolution: -= auto status =-    \n",
      "        \n",
      "        Exp 24 [EMPTY] Exp auto 22/100 - Profiler    \n",
      "            Resolution: -= auto status =-    \n",
      "        \n",
      "        Exp 25 [EMPTY] Exp auto 23/100 - Profiler    \n",
      "            Resolution: -= auto status =-    \n",
      "        \n",
      "        Exp 26 [EMPTY] Exp auto 24/100 - Profiler    \n",
      "            Resolution: -= auto status =-    \n",
      "        \n",
      "        Exp 27 [EMPTY] Exp auto 25/100 - Profiler    \n",
      "            Resolution: -= auto status =-    \n",
      "        \n",
      "        Exp 28 [EMPTY] Exp auto 26/100 - Profiler    \n",
      "            Resolution: -= auto status =-    \n",
      "        \n",
      "        Exp 29 [EMPTY] Exp auto 27/100 - Profiler    \n",
      "            Resolution: -= auto status =-    \n",
      "        \n",
      "        Exp 30 [EMPTY] Exp auto 28/100 - Profiler    \n",
      "            Resolution: -= auto status =-    \n",
      "        \n",
      "        Exp 31 [EMPTY] Exp auto 29/100 - Profiler    \n",
      "            Resolution: -= auto status =-    \n",
      "        \n",
      "        Exp 32 [EMPTY] Exp auto 30/100 - Profiler    \n",
      "            Resolution: -= auto status =-    \n",
      "        \n",
      "        Exp 33 [EMPTY] Exp auto 31/100 - Profiler    \n",
      "            Resolution: -= auto status =-    \n",
      "        \n",
      "        Exp 34 [EMPTY] Exp auto 32/100 - Profiler    \n",
      "            Resolution: -= auto status =-    \n",
      "        \n",
      "        Exp 35 [EMPTY] Exp auto 33/100 - Profiler    \n",
      "            Resolution: -= auto status =-    \n",
      "        \n",
      "        Exp 36 [EMPTY] Exp auto 34/100 - Profiler    \n",
      "            Resolution: -= auto status =-    \n",
      "        \n",
      "        Exp 37 [EMPTY] Exp auto 35/100 - Profiler    \n",
      "            Resolution: -= auto status =-    \n",
      "        \n",
      "        Exp 38 [EMPTY] Exp auto 36/100 - Profiler    \n",
      "            Resolution: -= auto status =-    \n",
      "        \n",
      "        Exp 39 [EMPTY] Exp auto 37/100 - Profiler    \n",
      "            Resolution: -= auto status =-    \n",
      "        \n",
      "        Exp 40 [EMPTY] Exp auto 38/100 - Profiler    \n",
      "            Resolution: -= auto status =-    \n",
      "        \n",
      "        Exp 41 [EMPTY] Exp auto 39/100 - Profiler    \n",
      "            Resolution: -= auto status =-    \n",
      "        \n",
      "        Exp 42 [EMPTY] Exp auto 40/100 - Profiler    \n",
      "            Resolution: -= auto status =-    \n",
      "        \n",
      "        Exp 43 [EMPTY] Exp auto 41/100 - Profiler    \n",
      "            Resolution: -= auto status =-    \n",
      "        \n",
      "        Exp 44 [EMPTY] Exp auto 42/100 - Profiler    \n",
      "            Resolution: -= auto status =-    \n",
      "        \n",
      "        Exp 45 [EMPTY] Exp auto 43/100 - Profiler    \n",
      "            Resolution: -= auto status =-    \n",
      "        \n",
      "        Exp 46 [EMPTY] Exp auto 44/100 - Profiler    \n",
      "            Resolution: -= auto status =-    \n",
      "        \n",
      "        Exp 47 [EMPTY] Exp auto 45/100 - Profiler    \n",
      "            Resolution: -= auto status =-    \n",
      "        \n",
      "        Exp 48 [EMPTY] Exp auto 46/100 - Profiler    \n",
      "            Resolution: -= auto status =-    \n",
      "        \n",
      "        Exp 49 [EMPTY] Exp auto 47/100 - Profiler    \n",
      "            Resolution: -= auto status =-    \n",
      "        \n",
      "        Exp 50 [EMPTY] Exp auto 48/100 - Profiler    \n",
      "            Resolution: -= auto status =-    \n",
      "        \n",
      "        Exp 51 [EMPTY] Exp auto 49/100 - Profiler    \n",
      "            Resolution: -= auto status =-    \n",
      "        \n",
      "        Exp 52 [EMPTY] Exp auto 50/100 - Profiler    \n",
      "            Resolution: -= auto status =-    \n",
      "        \n",
      "        Exp 53 [EMPTY] Exp auto 51/100 - Profiler    \n",
      "            Resolution: -= auto status =-    \n",
      "        \n",
      "        Exp 54 [EMPTY] Exp auto 52/100 - Profiler    \n",
      "            Resolution: -= auto status =-    \n",
      "        \n",
      "        Exp 55 [EMPTY] Exp auto 53/100 - Profiler    \n",
      "            Resolution: -= auto status =-    \n",
      "        \n",
      "        Exp 56 [EMPTY] Exp auto 54/100 - Profiler    \n",
      "            Resolution: -= auto status =-    \n",
      "        \n",
      "        Exp 57 [EMPTY] Exp auto 55/100 - Profiler    \n",
      "            Resolution: -= auto status =-    \n",
      "        \n",
      "        Exp 58 [EMPTY] Exp auto 56/100 - Profiler    \n",
      "            Resolution: -= auto status =-    \n",
      "        \n",
      "        Exp 59 [EMPTY] Exp auto 57/100 - Profiler    \n",
      "            Resolution: -= auto status =-    \n",
      "        \n",
      "        Exp 60 [EMPTY] Exp auto 58/100 - Profiler    \n",
      "            Resolution: -= auto status =-    \n",
      "        \n",
      "        Exp 61 [EMPTY] Exp auto 59/100 - Profiler    \n",
      "            Resolution: -= auto status =-    \n",
      "        \n",
      "        Exp 62 [EMPTY] Exp auto 60/100 - Profiler    \n",
      "            Resolution: -= auto status =-    \n",
      "        \n",
      "        Exp 63 [EMPTY] Exp auto 61/100 - Profiler    \n",
      "            Resolution: -= auto status =-    \n",
      "        \n",
      "        Exp 64 [EMPTY] Exp auto 62/100 - Profiler    \n",
      "            Resolution: -= auto status =-    \n",
      "        \n",
      "        Exp 65 [EMPTY] Exp auto 63/100 - Profiler    \n",
      "            Resolution: -= auto status =-    \n",
      "        \n",
      "        Exp 66 [EMPTY] Exp auto 64/100 - Profiler    \n",
      "            Resolution: -= auto status =-    \n",
      "        \n",
      "        Exp 67 [EMPTY] Exp auto 65/100 - Profiler    \n",
      "            Resolution: -= auto status =-    \n",
      "        \n",
      "        Exp 68 [EMPTY] Exp auto 66/100 - Profiler    \n",
      "            Resolution: -= auto status =-    \n",
      "        \n",
      "        Exp 69 [EMPTY] Exp auto 67/100 - Profiler    \n",
      "            Resolution: -= auto status =-    \n",
      "        \n",
      "        Exp 70 [EMPTY] Exp auto 68/100 - Profiler    \n",
      "            Resolution: -= auto status =-    \n",
      "        \n",
      "        Exp 71 [EMPTY] Exp auto 69/100 - Profiler    \n",
      "            Resolution: -= auto status =-    \n",
      "        \n",
      "        Exp 72 [EMPTY] Exp auto 70/100 - Profiler    \n",
      "            Resolution: -= auto status =-    \n",
      "        \n",
      "        Exp 73 [EMPTY] Exp auto 71/100 - Profiler    \n",
      "            Resolution: -= auto status =-    \n",
      "        \n",
      "        Exp 74 [EMPTY] Exp auto 72/100 - Profiler    \n",
      "            Resolution: -= auto status =-    \n",
      "        \n",
      "        Exp 75 [EMPTY] Exp auto 73/100 - Profiler    \n",
      "            Resolution: -= auto status =-    \n",
      "        \n",
      "        Exp 76 [EMPTY] Exp auto 74/100 - Profiler    \n",
      "            Resolution: -= auto status =-    \n",
      "        \n",
      "        Exp 77 [EMPTY] Exp auto 75/100 - Profiler    \n",
      "            Resolution: -= auto status =-    \n",
      "        \n",
      "        Exp 78 [EMPTY] Exp auto 76/100 - Profiler    \n",
      "            Resolution: -= auto status =-    \n",
      "        \n",
      "        Exp 79 [EMPTY] Exp auto 77/100 - Profiler    \n",
      "            Resolution: -= auto status =-    \n",
      "        \n",
      "        Exp 80 [EMPTY] Exp auto 78/100 - Profiler    \n",
      "            Resolution: -= auto status =-    \n",
      "        \n",
      "        Exp 81 [EMPTY] Exp auto 79/100 - Profiler    \n",
      "            Resolution: -= auto status =-    \n",
      "        \n",
      "        Exp 82 [EMPTY] Exp auto 80/100 - Profiler    \n",
      "            Resolution: -= auto status =-    \n",
      "        \n",
      "        Exp 83 [EMPTY] Exp auto 81/100 - Profiler    \n",
      "            Resolution: -= auto status =-    \n",
      "        \n",
      "        Exp 84 [EMPTY] Exp auto 82/100 - Profiler    \n",
      "            Resolution: -= auto status =-    \n",
      "        \n",
      "        Exp 85 [EMPTY] Exp auto 83/100 - Profiler    \n",
      "            Resolution: -= auto status =-    \n",
      "        \n",
      "        Exp 86 [EMPTY] Exp auto 84/100 - Profiler    \n",
      "            Resolution: -= auto status =-    \n",
      "        \n",
      "        Exp 87 [EMPTY] Exp auto 85/100 - Profiler    \n",
      "            Resolution: -= auto status =-    \n",
      "        \n",
      "        Exp 88 [EMPTY] Exp auto 86/100 - Profiler    \n",
      "            Resolution: -= auto status =-    \n",
      "        \n",
      "        Exp 89 [EMPTY] Exp auto 87/100 - Profiler    \n",
      "            Resolution: -= auto status =-    \n",
      "        \n",
      "        Exp 90 [EMPTY] Exp auto 88/100 - Profiler    \n",
      "            Resolution: -= auto status =-    \n",
      "        \n",
      "        Exp 91 [EMPTY] Exp auto 89/100 - Profiler    \n",
      "            Resolution: -= auto status =-    \n",
      "        \n",
      "        Exp 92 [EMPTY] Exp auto 90/100 - Profiler    \n",
      "            Resolution: -= auto status =-    \n",
      "        \n",
      "        Exp 93 [EMPTY] Exp auto 91/100 - Profiler    \n",
      "            Resolution: -= auto status =-    \n",
      "        \n",
      "        Exp 94 [EMPTY] Exp auto 92/100 - Profiler    \n",
      "            Resolution: -= auto status =-    \n",
      "        \n",
      "        Exp 95 [EMPTY] Exp auto 93/100 - Profiler    \n",
      "            Resolution: -= auto status =-    \n",
      "        \n",
      "        Exp 96 [EMPTY] Exp auto 94/100 - Profiler    \n",
      "            Resolution: -= auto status =-    \n",
      "        \n",
      "        Exp 97 [EMPTY] Exp auto 95/100 - Profiler    \n",
      "            Resolution: -= auto status =-    \n",
      "        \n",
      "        Exp 98 [EMPTY] Exp auto 96/100 - Profiler    \n",
      "            Resolution: -= auto status =-    \n",
      "        \n",
      "        Exp 99 [EMPTY] Exp auto 97/100 - Profiler    \n",
      "            Resolution: -= auto status =-    \n",
      "        \n",
      "        Exp 100 [EMPTY] Exp auto 98/100 - Profiler    \n",
      "            Resolution: -= auto status =-    \n",
      "        \n",
      "        Exp 101 [EMPTY] Exp auto 99/100 - Profiler    \n",
      "            Resolution: -= auto status =-    \n",
      "        \n",
      "        Exp 102 [EMPTY] Exp auto 100/100 - Profiler    \n",
      "            Resolution: -= auto status =-\n",
      "CPU times: total: 266 ms\n",
      "Wall time: 276 ms\n"
     ]
    }
   ],
   "source": [
    "%%time\n",
    "xman.proj.info()"
   ]
  }
 ],
 "metadata": {
  "kernelspec": {
   "display_name": "Python 3 (ipykernel)",
   "language": "python",
   "name": "python3"
  },
  "language_info": {
   "codemirror_mode": {
    "name": "ipython",
    "version": 3
   },
   "file_extension": ".py",
   "mimetype": "text/x-python",
   "name": "python",
   "nbconvert_exporter": "python",
   "pygments_lexer": "ipython3",
   "version": "3.10.9"
  }
 },
 "nbformat": 4,
 "nbformat_minor": 5
}
