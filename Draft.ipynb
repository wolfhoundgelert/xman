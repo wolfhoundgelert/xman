{
 "cells": [
  {
   "cell_type": "code",
   "execution_count": 1,
   "id": "b6a2d07c",
   "metadata": {
    "scrolled": true
   },
   "outputs": [],
   "source": [
    "%load_ext autoreload\n",
    "%autoreload 2\n",
    "\n",
    "import os\n",
    "import sys\n",
    "\n",
    "module_path = os.path.abspath(os.path.join('src'))\n",
    "sys.path.insert(0, module_path)"
   ]
  },
  {
   "cell_type": "code",
   "execution_count": 2,
   "id": "afe39168",
   "metadata": {},
   "outputs": [],
   "source": [
    "import xman"
   ]
  },
  {
   "cell_type": "code",
   "execution_count": 3,
   "id": "bacd255e",
   "metadata": {},
   "outputs": [
    {
     "name": "stdout",
     "output_type": "stream",
     "text": [
      "\n",
      "experiments/\n",
      "    .data\n",
      "    .time\n",
      "    group1/\n",
      "        .data\n",
      "        .time\n",
      "        exp1/\n",
      "            .data\n",
      "            .time\n",
      "\n",
      "Proj [EMPTY] Test Project - This is a test experimental project\n",
      "\n",
      "    Group 1 [EMPTY] Test Group - Test group descr\n",
      "        Exp 1 [EMPTY] Test Exp - Test Exp Descr\n"
     ]
    }
   ],
   "source": [
    "create_new = True\n",
    "if create_new:\n",
    "    xman.make_proj('gitignore/experiments/', 'Test Project', \"This is a test experimental project\")\n",
    "    xman.proj.make_group(\"Test Group\", \"Test group descr\")\n",
    "    xman.proj.group(1).make_exp(\"Test Exp\", \"Test Exp Descr\")\n",
    "else:\n",
    "    xman.load_proj('gitignore/experiments/')\n",
    "xman.dir_tree('gitignore/experiments/')\n",
    "xman.proj.info()"
   ]
  },
  {
   "cell_type": "code",
   "execution_count": null,
   "id": "a4870328",
   "metadata": {},
   "outputs": [],
   "source": []
  },
  {
   "cell_type": "code",
   "execution_count": 6,
   "id": "3931db1b",
   "metadata": {},
   "outputs": [],
   "source": [
    "def train(pulse, p1, p2, np1=None, np2=None):\n",
    "    print(\"train in progress...\")\n",
    "    result = f\"p1={p1}, p2={p2}, np1={np1}, np2={np2}\"\n",
    "    return result\n",
    "\n",
    "params = {\n",
    "    'p1': 1,\n",
    "    'p2': 2,\n",
    "    'np1': 3,\n",
    "    'np2': 4,\n",
    "}"
   ]
  },
  {
   "cell_type": "code",
   "execution_count": 6,
   "id": "ee1a734b",
   "metadata": {},
   "outputs": [
    {
     "ename": "EOFError",
     "evalue": "Ran out of input",
     "output_type": "error",
     "traceback": [
      "\u001b[1;31m---------------------------------------------------------------------------\u001b[0m",
      "\u001b[1;31mEOFError\u001b[0m                                  Traceback (most recent call last)",
      "Cell \u001b[1;32mIn[6], line 1\u001b[0m\n\u001b[1;32m----> 1\u001b[0m \u001b[43mxman\u001b[49m\u001b[38;5;241;43m.\u001b[39;49m\u001b[43mproj\u001b[49m\u001b[38;5;241;43m.\u001b[39;49m\u001b[43mexp\u001b[49m\u001b[43m(\u001b[49m\u001b[38;5;241;43m1.1\u001b[39;49m\u001b[43m)\u001b[49m\u001b[38;5;241m.\u001b[39mattach_pipeline(train, params)\n",
      "File \u001b[1;32mC:\\workspace\\xman\\src\\xman\\proj.py:50\u001b[0m, in \u001b[0;36mExpProj.exp\u001b[1;34m(self, dot_num)\u001b[0m\n\u001b[0;32m     48\u001b[0m \u001b[38;5;28;01mdef\u001b[39;00m \u001b[38;5;21mexp\u001b[39m(\u001b[38;5;28mself\u001b[39m, dot_num: \u001b[38;5;28mfloat\u001b[39m) \u001b[38;5;241m-\u001b[39m\u001b[38;5;241m>\u001b[39m Exp:  \u001b[38;5;66;03m# dot_num: 1.1, 1.2, 2.3...\u001b[39;00m\n\u001b[0;32m     49\u001b[0m     group_num, exp_num \u001b[38;5;241m=\u001b[39m util\u001b[38;5;241m.\u001b[39mparse_group_and_exp_num(dot_num)\n\u001b[1;32m---> 50\u001b[0m     \u001b[38;5;28;01mreturn\u001b[39;00m \u001b[38;5;28;43mself\u001b[39;49m\u001b[38;5;241;43m.\u001b[39;49m\u001b[43mgroup\u001b[49m\u001b[43m(\u001b[49m\u001b[43mgroup_num\u001b[49m\u001b[43m)\u001b[49m\u001b[38;5;241m.\u001b[39mexp(exp_num)\n",
      "File \u001b[1;32mC:\\workspace\\xman\\src\\xman\\proj.py:32\u001b[0m, in \u001b[0;36mExpProj.group\u001b[1;34m(self, num_or_name)\u001b[0m\n\u001b[0;32m     31\u001b[0m \u001b[38;5;28;01mdef\u001b[39;00m \u001b[38;5;21mgroup\u001b[39m(\u001b[38;5;28mself\u001b[39m, num_or_name) \u001b[38;5;241m-\u001b[39m\u001b[38;5;241m>\u001b[39m ExpGroup:\n\u001b[1;32m---> 32\u001b[0m     \u001b[38;5;28;01mreturn\u001b[39;00m \u001b[38;5;28;43mself\u001b[39;49m\u001b[38;5;241;43m.\u001b[39;49m\u001b[43m_get_child_by_num_or_name\u001b[49m\u001b[43m(\u001b[49m\u001b[43mnum_or_name\u001b[49m\u001b[43m)\u001b[49m\n",
      "File \u001b[1;32mC:\\workspace\\xman\\src\\xman\\struct.py:260\u001b[0m, in \u001b[0;36mExpStructBox._get_child_by_num_or_name\u001b[1;34m(self, num_or_name)\u001b[0m\n\u001b[0;32m    259\u001b[0m \u001b[38;5;28;01mdef\u001b[39;00m \u001b[38;5;21m_get_child_by_num_or_name\u001b[39m(\u001b[38;5;28mself\u001b[39m, num_or_name):\n\u001b[1;32m--> 260\u001b[0m     \u001b[38;5;28;43mself\u001b[39;49m\u001b[38;5;241;43m.\u001b[39;49m\u001b[43m_update\u001b[49m\u001b[43m(\u001b[49m\u001b[43m)\u001b[49m\n\u001b[0;32m    261\u001b[0m     \u001b[38;5;28;01mif\u001b[39;00m util\u001b[38;5;241m.\u001b[39mis_num(num_or_name) \u001b[38;5;129;01mand\u001b[39;00m num_or_name \u001b[38;5;129;01min\u001b[39;00m \u001b[38;5;28mself\u001b[39m\u001b[38;5;241m.\u001b[39m__num_to_child:\n\u001b[0;32m    262\u001b[0m         \u001b[38;5;28;01mreturn\u001b[39;00m \u001b[38;5;28mself\u001b[39m\u001b[38;5;241m.\u001b[39m__num_to_child[num_or_name]\n",
      "File \u001b[1;32mC:\\workspace\\xman\\src\\xman\\struct.py:247\u001b[0m, in \u001b[0;36mExpStructBox._update\u001b[1;34m(self)\u001b[0m\n\u001b[0;32m    245\u001b[0m         \u001b[38;5;28mself\u001b[39m\u001b[38;5;241m.\u001b[39mremove(child)\n\u001b[0;32m    246\u001b[0m \u001b[38;5;28;01mfor\u001b[39;00m child \u001b[38;5;129;01min\u001b[39;00m \u001b[38;5;28mself\u001b[39m\u001b[38;5;241m.\u001b[39mchildren():\n\u001b[1;32m--> 247\u001b[0m     \u001b[43mchild\u001b[49m\u001b[38;5;241;43m.\u001b[39;49m\u001b[43m_update\u001b[49m\u001b[43m(\u001b[49m\u001b[43m)\u001b[49m\n\u001b[0;32m    248\u001b[0m \u001b[38;5;28mself\u001b[39m\u001b[38;5;241m.\u001b[39m__process_status()\n",
      "File \u001b[1;32mC:\\workspace\\xman\\src\\xman\\struct.py:247\u001b[0m, in \u001b[0;36mExpStructBox._update\u001b[1;34m(self)\u001b[0m\n\u001b[0;32m    245\u001b[0m         \u001b[38;5;28mself\u001b[39m\u001b[38;5;241m.\u001b[39mremove(child)\n\u001b[0;32m    246\u001b[0m \u001b[38;5;28;01mfor\u001b[39;00m child \u001b[38;5;129;01min\u001b[39;00m \u001b[38;5;28mself\u001b[39m\u001b[38;5;241m.\u001b[39mchildren():\n\u001b[1;32m--> 247\u001b[0m     \u001b[43mchild\u001b[49m\u001b[38;5;241;43m.\u001b[39;49m\u001b[43m_update\u001b[49m\u001b[43m(\u001b[49m\u001b[43m)\u001b[49m\n\u001b[0;32m    248\u001b[0m \u001b[38;5;28mself\u001b[39m\u001b[38;5;241m.\u001b[39m__process_status()\n",
      "File \u001b[1;32mC:\\workspace\\xman\\src\\xman\\exp.py:30\u001b[0m, in \u001b[0;36mExp._update\u001b[1;34m(self)\u001b[0m\n\u001b[0;32m     29\u001b[0m \u001b[38;5;28;01mdef\u001b[39;00m \u001b[38;5;21m_update\u001b[39m(\u001b[38;5;28mself\u001b[39m):\n\u001b[1;32m---> 30\u001b[0m     \u001b[38;5;28;43msuper\u001b[39;49m\u001b[43m(\u001b[49m\u001b[43m)\u001b[49m\u001b[38;5;241;43m.\u001b[39;49m\u001b[43m_update\u001b[49m\u001b[43m(\u001b[49m\u001b[43m)\u001b[49m\n\u001b[0;32m     31\u001b[0m     util\u001b[38;5;241m.\u001b[39mdebug(\u001b[38;5;124mf\u001b[39m\u001b[38;5;124m\"\u001b[39m\u001b[38;5;124mExp.update()\u001b[39m\u001b[38;5;124m\"\u001b[39m)  \u001b[38;5;66;03m# TODO remove debug\u001b[39;00m\n\u001b[0;32m     32\u001b[0m     \u001b[38;5;28;01mif\u001b[39;00m \u001b[38;5;28mself\u001b[39m\u001b[38;5;241m.\u001b[39mdata\u001b[38;5;241m.\u001b[39mmanual_status \u001b[38;5;129;01mis\u001b[39;00m \u001b[38;5;129;01mnot\u001b[39;00m \u001b[38;5;28;01mNone\u001b[39;00m:\n",
      "File \u001b[1;32mC:\\workspace\\xman\\src\\xman\\struct.py:138\u001b[0m, in \u001b[0;36mExpStruct._update\u001b[1;34m(self)\u001b[0m\n\u001b[0;32m    136\u001b[0m     t \u001b[38;5;241m=\u001b[39m dill\u001b[38;5;241m.\u001b[39mload(f)\n\u001b[0;32m    137\u001b[0m \u001b[38;5;28;01mif\u001b[39;00m \u001b[38;5;28mself\u001b[39m\u001b[38;5;241m.\u001b[39m__time \u001b[38;5;241m!=\u001b[39m t:\n\u001b[1;32m--> 138\u001b[0m     \u001b[38;5;28;43mself\u001b[39;49m\u001b[38;5;241;43m.\u001b[39;49m\u001b[43m__load_data\u001b[49m\u001b[43m(\u001b[49m\u001b[43m)\u001b[49m\n\u001b[0;32m    139\u001b[0m     \u001b[38;5;28mself\u001b[39m\u001b[38;5;241m.\u001b[39m__time \u001b[38;5;241m==\u001b[39m t\n",
      "File \u001b[1;32mC:\\workspace\\xman\\src\\xman\\struct.py:123\u001b[0m, in \u001b[0;36mExpStruct.__load_data\u001b[1;34m(self)\u001b[0m\n\u001b[0;32m    121\u001b[0m fp \u001b[38;5;241m=\u001b[39m os\u001b[38;5;241m.\u001b[39mpath\u001b[38;5;241m.\u001b[39mjoin(\u001b[38;5;28mself\u001b[39m\u001b[38;5;241m.\u001b[39mlocation_dir, ExpStruct\u001b[38;5;241m.\u001b[39m__DATA_FILE)\n\u001b[0;32m    122\u001b[0m \u001b[38;5;28;01mwith\u001b[39;00m \u001b[38;5;28mopen\u001b[39m(fp, \u001b[38;5;124m'\u001b[39m\u001b[38;5;124mrb\u001b[39m\u001b[38;5;124m'\u001b[39m) \u001b[38;5;28;01mas\u001b[39;00m f:\n\u001b[1;32m--> 123\u001b[0m     \u001b[38;5;28mself\u001b[39m\u001b[38;5;241m.\u001b[39mdata \u001b[38;5;241m=\u001b[39m \u001b[43mdill\u001b[49m\u001b[38;5;241;43m.\u001b[39;49m\u001b[43mload\u001b[49m\u001b[43m(\u001b[49m\u001b[43mf\u001b[49m\u001b[43m)\u001b[49m\n",
      "\u001b[1;31mEOFError\u001b[0m: Ran out of input"
     ]
    }
   ],
   "source": [
    "xman.proj.exp(1.1).attach_pipeline(train, params)"
   ]
  },
  {
   "cell_type": "code",
   "execution_count": 13,
   "id": "ccdb1ec0",
   "metadata": {},
   "outputs": [
    {
     "ename": "AssertionError",
     "evalue": "`Exp 1 [DONE] Test Exp - Test Exp Descr` was already started and the current status is `DONE`!",
     "output_type": "error",
     "traceback": [
      "\u001b[1;31m---------------------------------------------------------------------------\u001b[0m",
      "\u001b[1;31mAssertionError\u001b[0m                            Traceback (most recent call last)",
      "Cell \u001b[1;32mIn[13], line 1\u001b[0m\n\u001b[1;32m----> 1\u001b[0m \u001b[43mxman\u001b[49m\u001b[38;5;241;43m.\u001b[39;49m\u001b[43mproj\u001b[49m\u001b[38;5;241;43m.\u001b[39;49m\u001b[43mexp\u001b[49m\u001b[43m(\u001b[49m\u001b[38;5;241;43m1.1\u001b[39;49m\u001b[43m)\u001b[49m\u001b[38;5;241;43m.\u001b[39;49m\u001b[43mstart\u001b[49m\u001b[43m(\u001b[49m\u001b[43m)\u001b[49m\n",
      "File \u001b[1;32mC:\\workspace\\xman\\src\\xman\\exp.py:108\u001b[0m, in \u001b[0;36mExp.start\u001b[1;34m(self)\u001b[0m\n\u001b[0;32m    106\u001b[0m     \u001b[38;5;28;01mraise\u001b[39;00m \u001b[38;5;167;01mAssertionError\u001b[39;00m(\u001b[38;5;124mf\u001b[39m\u001b[38;5;124m\"\u001b[39m\u001b[38;5;124m`\u001b[39m\u001b[38;5;132;01m{\u001b[39;00m\u001b[38;5;28mself\u001b[39m\u001b[38;5;132;01m}\u001b[39;00m\u001b[38;5;124m` there\u001b[39m\u001b[38;5;124m'\u001b[39m\u001b[38;5;124ms an error during the previous start!\u001b[39m\u001b[38;5;124m\"\u001b[39m)\n\u001b[0;32m    107\u001b[0m \u001b[38;5;28;01mif\u001b[39;00m pipeline\u001b[38;5;241m.\u001b[39mstarted:\n\u001b[1;32m--> 108\u001b[0m     \u001b[38;5;28;01mraise\u001b[39;00m \u001b[38;5;167;01mAssertionError\u001b[39;00m(\u001b[38;5;124mf\u001b[39m\u001b[38;5;124m\"\u001b[39m\u001b[38;5;124m`\u001b[39m\u001b[38;5;132;01m{\u001b[39;00m\u001b[38;5;28mself\u001b[39m\u001b[38;5;132;01m}\u001b[39;00m\u001b[38;5;124m` was already started and the current status is `\u001b[39m\u001b[38;5;132;01m{\u001b[39;00m\u001b[38;5;28mself\u001b[39m\u001b[38;5;241m.\u001b[39mstatus\u001b[38;5;132;01m}\u001b[39;00m\u001b[38;5;124m`!\u001b[39m\u001b[38;5;124m\"\u001b[39m)\n\u001b[0;32m    109\u001b[0m \u001b[38;5;28;01mif\u001b[39;00m pipeline\u001b[38;5;241m.\u001b[39mfinished:\n\u001b[0;32m    110\u001b[0m     \u001b[38;5;28;01mraise\u001b[39;00m \u001b[38;5;167;01mAssertionError\u001b[39;00m(\u001b[38;5;124mf\u001b[39m\u001b[38;5;124m\"\u001b[39m\u001b[38;5;124m`\u001b[39m\u001b[38;5;132;01m{\u001b[39;00m\u001b[38;5;28mself\u001b[39m\u001b[38;5;132;01m}\u001b[39;00m\u001b[38;5;124m` was already finished!\u001b[39m\u001b[38;5;124m\"\u001b[39m)\n",
      "\u001b[1;31mAssertionError\u001b[0m: `Exp 1 [DONE] Test Exp - Test Exp Descr` was already started and the current status is `DONE`!"
     ]
    }
   ],
   "source": [
    "xman.proj.exp(1.1).start()"
   ]
  },
  {
   "cell_type": "code",
   "execution_count": 4,
   "id": "9e272ae5",
   "metadata": {},
   "outputs": [
    {
     "name": "stdout",
     "output_type": "stream",
     "text": [
      "Proj [DONE] Test Project - This is a test experimental project\n",
      "\n",
      "    Group 1 [DONE] Test Group - Test group descr\n",
      "        Exp 1 [DONE] Test Exp - Test Exp Descr\n"
     ]
    }
   ],
   "source": [
    "print(xman.proj)"
   ]
  },
  {
   "cell_type": "code",
   "execution_count": 5,
   "id": "4c04a154",
   "metadata": {},
   "outputs": [
    {
     "ename": "AttributeError",
     "evalue": "'NoneType' object has no attribute 'exp'",
     "output_type": "error",
     "traceback": [
      "\u001b[1;31m---------------------------------------------------------------------------\u001b[0m",
      "\u001b[1;31mAttributeError\u001b[0m                            Traceback (most recent call last)",
      "Cell \u001b[1;32mIn[5], line 1\u001b[0m\n\u001b[1;32m----> 1\u001b[0m \u001b[43mxman\u001b[49m\u001b[38;5;241;43m.\u001b[39;49m\u001b[43mproj\u001b[49m\u001b[38;5;241;43m.\u001b[39;49m\u001b[43mexp\u001b[49m(\u001b[38;5;241m1.1\u001b[39m)\u001b[38;5;241m.\u001b[39minfo()\n",
      "\u001b[1;31mAttributeError\u001b[0m: 'NoneType' object has no attribute 'exp'"
     ]
    }
   ],
   "source": [
    "xman.proj.exp(1.1).info()"
   ]
  },
  {
   "cell_type": "code",
   "execution_count": 11,
   "id": "e1970f90",
   "metadata": {},
   "outputs": [
    {
     "name": "stdout",
     "output_type": "stream",
     "text": [
      "DEBUG: Exp.update()\n",
      "DEBUG: Exp.update()\n",
      "Proj [DONE] Test Project - This is a test experimental project\n",
      "\n",
      "    Group 1 [DONE] Test Group - Test group descr\n",
      "        Exp 1 [DONE] Test Exp - Test Exp Descr\n",
      "        Exp 2 [DONE] Another New Exp - Another new exp descr\n"
     ]
    }
   ],
   "source": [
    "xman.proj.info()"
   ]
  },
  {
   "cell_type": "code",
   "execution_count": null,
   "id": "a658d39f",
   "metadata": {},
   "outputs": [],
   "source": []
  },
  {
   "cell_type": "code",
   "execution_count": 7,
   "id": "07c62d82",
   "metadata": {},
   "outputs": [
    {
     "name": "stdout",
     "output_type": "stream",
     "text": [
      "DEBUG: Exp.update()\n",
      "DEBUG: Exp.update()\n",
      "DEBUG: Exp.update()\n",
      "DEBUG: Exp.update()\n"
     ]
    },
    {
     "data": {
      "text/plain": [
       "Exp 2 [EMPTY] Another New Exp - Another new exp descr"
      ]
     },
     "execution_count": 7,
     "metadata": {},
     "output_type": "execute_result"
    }
   ],
   "source": [
    "xman.proj.group(1).make_exp(\"Another New Exp\", \"Another new exp descr\")"
   ]
  },
  {
   "cell_type": "code",
   "execution_count": 5,
   "id": "d2223729",
   "metadata": {},
   "outputs": [
    {
     "name": "stdout",
     "output_type": "stream",
     "text": [
      "ACHTUNG! Remove `gitignore/experiments/group1\\exp2` dir with all its content? (y/n) y\n"
     ]
    }
   ],
   "source": [
    "xman.proj.group(1).remove_exp(2)"
   ]
  },
  {
   "cell_type": "code",
   "execution_count": null,
   "id": "6a3b3b8b",
   "metadata": {},
   "outputs": [],
   "source": []
  },
  {
   "cell_type": "code",
   "execution_count": 10,
   "id": "6093916d",
   "metadata": {},
   "outputs": [
    {
     "name": "stdout",
     "output_type": "stream",
     "text": [
      "DEBUG: Exp.update()\n",
      "DEBUG: Exp.update()\n",
      "DEBUG: Exp.update()\n",
      "DEBUG: Exp.update()\n",
      "DEBUG: Exp.update()\n"
     ]
    }
   ],
   "source": [
    "xman.proj.exp(1.2).set_manual_status('DONE', 'fooooo')"
   ]
  },
  {
   "cell_type": "code",
   "execution_count": 13,
   "id": "e618b60a",
   "metadata": {},
   "outputs": [
    {
     "name": "stdout",
     "output_type": "stream",
     "text": [
      "DEBUG: Exp.update()\n",
      "DEBUG: Exp.update()\n",
      "DEBUG: Exp.update()\n",
      "DEBUG: Exp.update()\n",
      "DEBUG: Exp.update()\n"
     ]
    },
    {
     "data": {
      "text/plain": [
       "'p1=1, p2=2, np1=3, np2=4'"
      ]
     },
     "execution_count": 13,
     "metadata": {},
     "output_type": "execute_result"
    }
   ],
   "source": [
    "xman.proj.exp(1.1).result"
   ]
  },
  {
   "cell_type": "code",
   "execution_count": 6,
   "id": "29f3e6c9",
   "metadata": {},
   "outputs": [
    {
     "ename": "ValueError",
     "evalue": "A child with the name `Exp r3-1` already exists!",
     "output_type": "error",
     "traceback": [
      "\u001b[1;31m---------------------------------------------------------------------------\u001b[0m",
      "\u001b[1;31mValueError\u001b[0m                                Traceback (most recent call last)",
      "File \u001b[1;32m<timed exec>:2\u001b[0m\n",
      "File \u001b[1;32mC:\\workspace\\xman\\src\\xman\\group.py:24\u001b[0m, in \u001b[0;36mExpGroup.make_exp\u001b[1;34m(self, name, descr, num)\u001b[0m\n\u001b[0;32m     23\u001b[0m \u001b[38;5;28;01mdef\u001b[39;00m \u001b[38;5;21mmake_exp\u001b[39m(\u001b[38;5;28mself\u001b[39m, name, descr, num\u001b[38;5;241m=\u001b[39m\u001b[38;5;28;01mNone\u001b[39;00m) \u001b[38;5;241m-\u001b[39m\u001b[38;5;241m>\u001b[39m Exp:\n\u001b[1;32m---> 24\u001b[0m     \u001b[38;5;28;01mreturn\u001b[39;00m \u001b[38;5;28;43mself\u001b[39;49m\u001b[38;5;241;43m.\u001b[39;49m\u001b[43m_make_child\u001b[49m\u001b[43m(\u001b[49m\u001b[43mname\u001b[49m\u001b[43m,\u001b[49m\u001b[43m \u001b[49m\u001b[43mdescr\u001b[49m\u001b[43m,\u001b[49m\u001b[43m \u001b[49m\u001b[43mnum\u001b[49m\u001b[43m)\u001b[49m\n",
      "File \u001b[1;32mC:\\workspace\\xman\\src\\xman\\struct.py:278\u001b[0m, in \u001b[0;36mExpStructBox._make_child\u001b[1;34m(self, name, descr, num)\u001b[0m\n\u001b[0;32m    276\u001b[0m util\u001b[38;5;241m.\u001b[39mcheck_num(num, \u001b[38;5;28;01mTrue\u001b[39;00m)\n\u001b[0;32m    277\u001b[0m \u001b[38;5;28;01mif\u001b[39;00m \u001b[38;5;28mself\u001b[39m\u001b[38;5;241m.\u001b[39m_has_child_num_or_name(name):\n\u001b[1;32m--> 278\u001b[0m     \u001b[38;5;28;01mraise\u001b[39;00m \u001b[38;5;167;01mValueError\u001b[39;00m(\u001b[38;5;124mf\u001b[39m\u001b[38;5;124m\"\u001b[39m\u001b[38;5;124mA child with the name `\u001b[39m\u001b[38;5;132;01m{\u001b[39;00mname\u001b[38;5;132;01m}\u001b[39;00m\u001b[38;5;124m` already exists!\u001b[39m\u001b[38;5;124m\"\u001b[39m)\n\u001b[0;32m    279\u001b[0m \u001b[38;5;28;01mif\u001b[39;00m num \u001b[38;5;129;01mis\u001b[39;00m \u001b[38;5;129;01mnot\u001b[39;00m \u001b[38;5;28;01mNone\u001b[39;00m:\n\u001b[0;32m    280\u001b[0m     \u001b[38;5;28;01mif\u001b[39;00m \u001b[38;5;28mself\u001b[39m\u001b[38;5;241m.\u001b[39m_has_child_num_or_name(num):\n",
      "\u001b[1;31mValueError\u001b[0m: A child with the name `Exp r3-1` already exists!"
     ]
    }
   ],
   "source": [
    "%%time\n",
    "for i in range(1):\n",
    "    xman.proj.group(1).make_exp(f\"Exp r3-{i+1}\", f\"descr for exp r3-{i+1}\")"
   ]
  },
  {
   "cell_type": "code",
   "execution_count": 4,
   "id": "74b62efb",
   "metadata": {},
   "outputs": [
    {
     "name": "stdout",
     "output_type": "stream",
     "text": [
      "CPU times: total: 7.98 s\n",
      "Wall time: 8.86 s\n"
     ]
    }
   ],
   "source": [
    "%%time\n",
    "group = xman.proj.group(1)\n",
    "for i in range(100):\n",
    "    group.make_exp(f\"Exp r4-{i+1}\", f\"descr for exp r4-{i+1}\")"
   ]
  },
  {
   "cell_type": "code",
   "execution_count": 8,
   "id": "d82b4e96",
   "metadata": {},
   "outputs": [
    {
     "name": "stdout",
     "output_type": "stream",
     "text": [
      "Proj [IN_PROGRESS] Test Project - This is a test experimental project\n",
      "\n",
      "    Group 1 [IN_PROGRESS] Test Group - Test group descr\n",
      "        Exp 1 [DONE] Test Exp - Test Exp Descr\n",
      "        Exp 2 [EMPTY] Exp r3-1 - descr for exp r3-1\n",
      "        Exp 3 [EMPTY] Exp r3-2 - descr for exp r3-2\n",
      "        Exp 4 [EMPTY] Exp r3-3 - descr for exp r3-3\n",
      "        Exp 5 [EMPTY] Exp r3-4 - descr for exp r3-4\n",
      "        Exp 6 [EMPTY] Exp r3-5 - descr for exp r3-5\n",
      "        Exp 7 [EMPTY] Exp r3-6 - descr for exp r3-6\n",
      "        Exp 8 [EMPTY] Exp r3-7 - descr for exp r3-7\n",
      "        Exp 9 [EMPTY] Exp r3-8 - descr for exp r3-8\n",
      "        Exp 10 [EMPTY] Exp r3-9 - descr for exp r3-9\n",
      "        Exp 11 [EMPTY] Exp r3-10 - descr for exp r3-10\n",
      "        Exp 12 [EMPTY] Exp r3-11 - descr for exp r3-11\n",
      "        Exp 13 [EMPTY] Exp r3-12 - descr for exp r3-12\n",
      "        Exp 14 [EMPTY] Exp r3-13 - descr for exp r3-13\n",
      "        Exp 15 [EMPTY] Exp r3-14 - descr for exp r3-14\n",
      "        Exp 16 [EMPTY] Exp r3-15 - descr for exp r3-15\n",
      "        Exp 17 [EMPTY] Exp r3-16 - descr for exp r3-16\n",
      "        Exp 18 [EMPTY] Exp r3-17 - descr for exp r3-17\n",
      "        Exp 19 [EMPTY] Exp r3-18 - descr for exp r3-18\n",
      "        Exp 20 [EMPTY] Exp r3-19 - descr for exp r3-19\n",
      "        Exp 21 [EMPTY] Exp r3-20 - descr for exp r3-20\n",
      "        Exp 22 [EMPTY] Exp r3-21 - descr for exp r3-21\n",
      "        Exp 23 [EMPTY] Exp r3-22 - descr for exp r3-22\n",
      "        Exp 24 [EMPTY] Exp r3-23 - descr for exp r3-23\n",
      "        Exp 25 [EMPTY] Exp r3-24 - descr for exp r3-24\n",
      "        Exp 26 [EMPTY] Exp r3-25 - descr for exp r3-25\n",
      "        Exp 27 [EMPTY] Exp r3-26 - descr for exp r3-26\n",
      "        Exp 28 [EMPTY] Exp r3-27 - descr for exp r3-27\n",
      "        Exp 29 [EMPTY] Exp r3-28 - descr for exp r3-28\n",
      "        Exp 30 [EMPTY] Exp r3-29 - descr for exp r3-29\n",
      "        Exp 31 [EMPTY] Exp r3-30 - descr for exp r3-30\n",
      "        Exp 32 [EMPTY] Exp r3-31 - descr for exp r3-31\n",
      "        Exp 33 [EMPTY] Exp r3-32 - descr for exp r3-32\n",
      "        Exp 34 [EMPTY] Exp r3-33 - descr for exp r3-33\n",
      "        Exp 35 [EMPTY] Exp r3-34 - descr for exp r3-34\n",
      "        Exp 36 [EMPTY] Exp r3-35 - descr for exp r3-35\n",
      "        Exp 37 [EMPTY] Exp r3-36 - descr for exp r3-36\n",
      "        Exp 38 [EMPTY] Exp r3-37 - descr for exp r3-37\n",
      "        Exp 39 [EMPTY] Exp r3-38 - descr for exp r3-38\n",
      "        Exp 40 [EMPTY] Exp r3-39 - descr for exp r3-39\n",
      "        Exp 41 [EMPTY] Exp r3-40 - descr for exp r3-40\n",
      "        Exp 42 [EMPTY] Exp r3-41 - descr for exp r3-41\n",
      "        Exp 43 [EMPTY] Exp r3-42 - descr for exp r3-42\n",
      "        Exp 44 [EMPTY] Exp r3-43 - descr for exp r3-43\n",
      "        Exp 45 [EMPTY] Exp r3-44 - descr for exp r3-44\n",
      "        Exp 46 [EMPTY] Exp r3-45 - descr for exp r3-45\n",
      "        Exp 47 [EMPTY] Exp r3-46 - descr for exp r3-46\n",
      "        Exp 48 [EMPTY] Exp r3-47 - descr for exp r3-47\n",
      "        Exp 49 [EMPTY] Exp r3-48 - descr for exp r3-48\n",
      "        Exp 50 [EMPTY] Exp r3-49 - descr for exp r3-49\n",
      "        Exp 51 [EMPTY] Exp r3-50 - descr for exp r3-50\n",
      "        Exp 52 [EMPTY] Exp r3-51 - descr for exp r3-51\n",
      "        Exp 53 [EMPTY] Exp r3-52 - descr for exp r3-52\n",
      "        Exp 54 [EMPTY] Exp r3-53 - descr for exp r3-53\n",
      "        Exp 55 [EMPTY] Exp r3-54 - descr for exp r3-54\n",
      "        Exp 56 [EMPTY] Exp r3-55 - descr for exp r3-55\n",
      "        Exp 57 [EMPTY] Exp r3-56 - descr for exp r3-56\n",
      "        Exp 58 [EMPTY] Exp r3-57 - descr for exp r3-57\n",
      "        Exp 59 [EMPTY] Exp r3-58 - descr for exp r3-58\n",
      "        Exp 60 [EMPTY] Exp r3-59 - descr for exp r3-59\n",
      "        Exp 61 [EMPTY] Exp r3-60 - descr for exp r3-60\n",
      "        Exp 62 [EMPTY] Exp r3-61 - descr for exp r3-61\n",
      "        Exp 63 [EMPTY] Exp r3-62 - descr for exp r3-62\n",
      "        Exp 64 [EMPTY] Exp r3-63 - descr for exp r3-63\n",
      "        Exp 65 [EMPTY] Exp r3-64 - descr for exp r3-64\n",
      "        Exp 66 [EMPTY] Exp r3-65 - descr for exp r3-65\n",
      "        Exp 67 [EMPTY] Exp r3-66 - descr for exp r3-66\n",
      "        Exp 68 [EMPTY] Exp r3-67 - descr for exp r3-67\n",
      "        Exp 69 [EMPTY] Exp r3-68 - descr for exp r3-68\n",
      "        Exp 70 [EMPTY] Exp r3-69 - descr for exp r3-69\n",
      "        Exp 71 [EMPTY] Exp r3-70 - descr for exp r3-70\n",
      "        Exp 72 [EMPTY] Exp r3-71 - descr for exp r3-71\n",
      "        Exp 73 [EMPTY] Exp r3-72 - descr for exp r3-72\n",
      "        Exp 74 [EMPTY] Exp r3-73 - descr for exp r3-73\n",
      "        Exp 75 [EMPTY] Exp r3-74 - descr for exp r3-74\n",
      "        Exp 76 [EMPTY] Exp r3-75 - descr for exp r3-75\n",
      "        Exp 77 [EMPTY] Exp r3-76 - descr for exp r3-76\n",
      "        Exp 78 [EMPTY] Exp r3-77 - descr for exp r3-77\n",
      "        Exp 79 [EMPTY] Exp r3-78 - descr for exp r3-78\n",
      "        Exp 80 [EMPTY] Exp r3-79 - descr for exp r3-79\n",
      "        Exp 81 [EMPTY] Exp r3-80 - descr for exp r3-80\n",
      "        Exp 82 [EMPTY] Exp r3-81 - descr for exp r3-81\n",
      "        Exp 83 [EMPTY] Exp r3-82 - descr for exp r3-82\n",
      "        Exp 84 [EMPTY] Exp r3-83 - descr for exp r3-83\n",
      "        Exp 85 [EMPTY] Exp r3-84 - descr for exp r3-84\n",
      "        Exp 86 [EMPTY] Exp r3-85 - descr for exp r3-85\n",
      "        Exp 87 [EMPTY] Exp r3-86 - descr for exp r3-86\n",
      "        Exp 88 [EMPTY] Exp r3-87 - descr for exp r3-87\n",
      "        Exp 89 [EMPTY] Exp r3-88 - descr for exp r3-88\n",
      "        Exp 90 [EMPTY] Exp r3-89 - descr for exp r3-89\n",
      "        Exp 91 [EMPTY] Exp r3-90 - descr for exp r3-90\n",
      "        Exp 92 [EMPTY] Exp r3-91 - descr for exp r3-91\n",
      "        Exp 93 [EMPTY] Exp r3-92 - descr for exp r3-92\n",
      "        Exp 94 [EMPTY] Exp r3-93 - descr for exp r3-93\n",
      "        Exp 95 [EMPTY] Exp r3-94 - descr for exp r3-94\n",
      "        Exp 96 [EMPTY] Exp r3-95 - descr for exp r3-95\n",
      "        Exp 97 [EMPTY] Exp r3-96 - descr for exp r3-96\n",
      "        Exp 98 [EMPTY] Exp r3-97 - descr for exp r3-97\n",
      "        Exp 99 [EMPTY] Exp r3-98 - descr for exp r3-98\n",
      "        Exp 100 [EMPTY] Exp r3-99 - descr for exp r3-99\n",
      "        Exp 101 [EMPTY] Exp r3-100 - descr for exp r3-100\n",
      "CPU times: total: 188 ms\n",
      "Wall time: 240 ms\n"
     ]
    }
   ],
   "source": [
    "%%time\n",
    "xman.proj.info()"
   ]
  }
 ],
 "metadata": {
  "kernelspec": {
   "display_name": "Python 3 (ipykernel)",
   "language": "python",
   "name": "python3"
  },
  "language_info": {
   "codemirror_mode": {
    "name": "ipython",
    "version": 3
   },
   "file_extension": ".py",
   "mimetype": "text/x-python",
   "name": "python",
   "nbconvert_exporter": "python",
   "pygments_lexer": "ipython3",
   "version": "3.10.9"
  }
 },
 "nbformat": 4,
 "nbformat_minor": 5
}
