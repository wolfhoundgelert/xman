{
 "cells": [
  {
   "cell_type": "code",
   "execution_count": 1,
   "id": "b6a2d07c",
   "metadata": {
    "scrolled": true
   },
   "outputs": [],
   "source": [
    "%load_ext autoreload\n",
    "%autoreload 2\n",
    "\n",
    "import os\n",
    "import sys\n",
    "\n",
    "module_path = os.path.abspath(os.path.join('src'))\n",
    "sys.path.insert(0, module_path)"
   ]
  },
  {
   "cell_type": "code",
   "execution_count": 2,
   "id": "afe39168",
   "metadata": {},
   "outputs": [],
   "source": [
    "import xman"
   ]
  },
  {
   "cell_type": "code",
   "execution_count": 17,
   "id": "bacd255e",
   "metadata": {},
   "outputs": [
    {
     "name": "stdout",
     "output_type": "stream",
     "text": [
      "\n",
      "experiments/\n",
      "    .data\n",
      "    .time\n",
      "    group1/\n",
      "        .data\n",
      "        .time\n",
      "        exp1/\n",
      "            .data\n",
      "            .time\n",
      "\n",
      "Proj [EMPTY] Test Project - This is a test experimental project\n",
      "\n",
      "    Group 1 [EMPTY] Test Group - Test group descr\n",
      "        Exp 1 [DONE] Test Exp - Test Exp Descr\n"
     ]
    }
   ],
   "source": [
    "create_new = False\n",
    "if create_new:\n",
    "    xman.make_proj('gitignore/experiments/', 'Test Project', \"This is a test experimental project\")\n",
    "    xman.proj.make_group(\"Test Group\", \"Test group descr\")\n",
    "    xman.proj.group(1).make_exp(\"Test Exp\", \"Test Exp Descr\")\n",
    "else:\n",
    "    xman.load_proj('gitignore/experiments/')\n",
    "xman.dir_tree('gitignore/experiments/')\n",
    "xman.proj.info()"
   ]
  },
  {
   "cell_type": "code",
   "execution_count": null,
   "id": "a4870328",
   "metadata": {},
   "outputs": [],
   "source": []
  },
  {
   "cell_type": "code",
   "execution_count": 4,
   "id": "3931db1b",
   "metadata": {},
   "outputs": [],
   "source": [
    "def train(pulse, p1, p2, np1=None, np2=None):\n",
    "    print(\"train in progress...\")\n",
    "    result = f\"p1={p1}, p2={p2}, np1={np1}, np2={np2}\"\n",
    "    return result\n",
    "\n",
    "params = {\n",
    "    'p1': 1,\n",
    "    'p2': 2,\n",
    "    'np1': 3,\n",
    "    'np2': 4,\n",
    "}"
   ]
  },
  {
   "cell_type": "code",
   "execution_count": 16,
   "id": "ee1a734b",
   "metadata": {},
   "outputs": [
    {
     "name": "stdout",
     "output_type": "stream",
     "text": [
      "DEBUG: Exp._update(), status: EMPTY, resolution: auto status\n",
      "DEBUG: Exp._update(), status: TODO, resolution: auto status\n",
      "train in progress...\n",
      "DEBUG: Exp._update(), status: DONE, resolution: auto status\n"
     ]
    },
    {
     "data": {
      "text/plain": [
       "'p1=1, p2=2, np1=3, np2=4'"
      ]
     },
     "execution_count": 16,
     "metadata": {},
     "output_type": "execute_result"
    }
   ],
   "source": [
    "xman.proj.exp(1.1).remove_pipeline().attach_pipeline(train, params).start()\n",
    "xman.proj.exp(1.1).result"
   ]
  },
  {
   "cell_type": "code",
   "execution_count": 7,
   "id": "06ed712b",
   "metadata": {},
   "outputs": [
    {
     "name": "stdout",
     "output_type": "stream",
     "text": [
      "DEBUG: Exp._update(), status: SUCCESS, resolution: Everything is alright\n",
      "Exp 1 [SUCCESS] Test Exp - Test Exp Descr\n",
      "    Resolution: Everything is alright\n"
     ]
    }
   ],
   "source": [
    "xman.proj.exp(1.1).success('Everything is alright')\n",
    "xman.proj.exp(1.1).info()"
   ]
  },
  {
   "cell_type": "code",
   "execution_count": 8,
   "id": "ee672aa6",
   "metadata": {},
   "outputs": [
    {
     "name": "stdout",
     "output_type": "stream",
     "text": [
      "DEBUG: Exp._update(), status: EMPTY, resolution: auto status\n",
      "Exp 1 [EMPTY] Test Exp - Test Exp Descr\n",
      "    Resolution: auto status\n"
     ]
    }
   ],
   "source": [
    "xman.proj.exp(1.1).remove_manual_status()\n",
    "xman.proj.exp(1.1).info()"
   ]
  },
  {
   "cell_type": "code",
   "execution_count": 9,
   "id": "08739d9a",
   "metadata": {},
   "outputs": [
    {
     "name": "stdout",
     "output_type": "stream",
     "text": [
      "Exp 1 [EMPTY] Test Exp - Test Exp Descr\n",
      "    Resolution: auto status\n"
     ]
    }
   ],
   "source": [
    "xman.proj.exp(1.1).info()"
   ]
  },
  {
   "cell_type": "code",
   "execution_count": 10,
   "id": "d338197f",
   "metadata": {},
   "outputs": [
    {
     "data": {
      "text/plain": [
       "Proj [EMPTY] Test Project - This is a test experimental project\n",
       "\n",
       "    Group 1 [EMPTY] Test Group - Test group descr\n",
       "        Exp 1 [EMPTY] Test Exp - Test Exp Descr"
      ]
     },
     "execution_count": 10,
     "metadata": {},
     "output_type": "execute_result"
    }
   ],
   "source": [
    "xman.proj"
   ]
  },
  {
   "cell_type": "code",
   "execution_count": null,
   "id": "bea3e9e4",
   "metadata": {},
   "outputs": [],
   "source": []
  },
  {
   "cell_type": "code",
   "execution_count": 11,
   "id": "b2741dd5",
   "metadata": {},
   "outputs": [
    {
     "data": {
      "text/plain": [
       "'0.0.0'"
      ]
     },
     "execution_count": 11,
     "metadata": {},
     "output_type": "execute_result"
    }
   ],
   "source": [
    "xman.__version__"
   ]
  },
  {
   "cell_type": "code",
   "execution_count": null,
   "id": "8c8df25b",
   "metadata": {},
   "outputs": [],
   "source": []
  },
  {
   "cell_type": "code",
   "execution_count": 21,
   "id": "e18b14a9",
   "metadata": {},
   "outputs": [
    {
     "name": "stdout",
     "output_type": "stream",
     "text": [
      "1680511142.7018135\n"
     ]
    }
   ],
   "source": [
    "import os\n",
    "import time\n",
    "import pickle\n",
    "\n",
    "fp = 'test.tmp'\n",
    "with open(fp, 'wb') as f:\n",
    "    t = time.time()\n",
    "    pickle.dump(t, f)\n",
    "    print(t)"
   ]
  },
  {
   "cell_type": "code",
   "execution_count": 23,
   "id": "b094459a",
   "metadata": {},
   "outputs": [
    {
     "name": "stdout",
     "output_type": "stream",
     "text": [
      "1680511142.7018135\n"
     ]
    }
   ],
   "source": [
    "with open(fp, 'rb') as f:\n",
    "    t = pickle.load(f)\n",
    "print(t)"
   ]
  },
  {
   "cell_type": "code",
   "execution_count": 5,
   "id": "41509935",
   "metadata": {},
   "outputs": [
    {
     "data": {
      "text/plain": [
       "float"
      ]
     },
     "execution_count": 5,
     "metadata": {},
     "output_type": "execute_result"
    }
   ],
   "source": [
    "import time\n",
    "type(time.time())"
   ]
  },
  {
   "cell_type": "code",
   "execution_count": null,
   "id": "c4b7f6af",
   "metadata": {},
   "outputs": [],
   "source": []
  },
  {
   "cell_type": "code",
   "execution_count": null,
   "id": "357dc61a",
   "metadata": {},
   "outputs": [],
   "source": []
  },
  {
   "cell_type": "code",
   "execution_count": null,
   "id": "8f1fe906",
   "metadata": {},
   "outputs": [],
   "source": []
  },
  {
   "cell_type": "code",
   "execution_count": null,
   "id": "01634f89",
   "metadata": {},
   "outputs": [],
   "source": []
  }
 ],
 "metadata": {
  "kernelspec": {
   "display_name": "Python 3 (ipykernel)",
   "language": "python",
   "name": "python3"
  },
  "language_info": {
   "codemirror_mode": {
    "name": "ipython",
    "version": 3
   },
   "file_extension": ".py",
   "mimetype": "text/x-python",
   "name": "python",
   "nbconvert_exporter": "python",
   "pygments_lexer": "ipython3",
   "version": "3.10.9"
  }
 },
 "nbformat": 4,
 "nbformat_minor": 5
}
