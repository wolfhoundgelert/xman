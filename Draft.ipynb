{
 "cells": [
  {
   "cell_type": "code",
   "execution_count": 1,
   "id": "b6a2d07c",
   "metadata": {
    "scrolled": true
   },
   "outputs": [],
   "source": [
    "%load_ext autoreload\n",
    "%autoreload 2\n",
    "\n",
    "import os\n",
    "import sys\n",
    "\n",
    "module_path = os.path.abspath(os.path.join('src'))\n",
    "sys.path.insert(0, module_path)"
   ]
  },
  {
   "cell_type": "code",
   "execution_count": 2,
   "id": "afe39168",
   "metadata": {},
   "outputs": [],
   "source": [
    "import xman"
   ]
  },
  {
   "cell_type": "code",
   "execution_count": 8,
   "id": "bacd255e",
   "metadata": {},
   "outputs": [],
   "source": [
    "# proj = xman.make_proj('gitignore/experiments/', 'Test Project', \"This is a test experimental project\")\n",
    "proj = xman.load_proj('gitignore/experiments/')"
   ]
  },
  {
   "cell_type": "code",
   "execution_count": 10,
   "id": "a15c2964",
   "metadata": {},
   "outputs": [
    {
     "data": {
      "text/plain": [
       "Proj [TODO] New Proj - New Proj descr\n",
       "\n",
       "    Group 1 [TODO] New Group - New Group descr\n",
       "        Exp 1 [TODO] New Exp - New Exp descr\n",
       "        Exp 2 [TODO] Exp 1 - Exp 1 descr\n",
       "        Exp 3 [TODO] Exp 2 - another exp 2\n",
       "\n",
       "    Group 2 [TODO] Some net - Try some net with default params"
      ]
     },
     "execution_count": 10,
     "metadata": {},
     "output_type": "execute_result"
    }
   ],
   "source": [
    "proj"
   ]
  },
  {
   "cell_type": "code",
   "execution_count": null,
   "id": "b6de7fcd",
   "metadata": {},
   "outputs": [],
   "source": []
  },
  {
   "cell_type": "code",
   "execution_count": null,
   "id": "96f238a5",
   "metadata": {},
   "outputs": [],
   "source": []
  },
  {
   "cell_type": "code",
   "execution_count": null,
   "id": "a4870328",
   "metadata": {},
   "outputs": [],
   "source": []
  },
  {
   "cell_type": "code",
   "execution_count": 13,
   "id": "3931db1b",
   "metadata": {},
   "outputs": [
    {
     "name": "stdout",
     "output_type": "stream",
     "text": [
      "train in progress...\n"
     ]
    },
    {
     "data": {
      "text/plain": [
       "'p1=1, p2=2, np1=3, np2=4'"
      ]
     },
     "execution_count": 13,
     "metadata": {},
     "output_type": "execute_result"
    }
   ],
   "source": [
    "def train(p1, p2, np1=None, np2=None):\n",
    "    print(\"train in progress...\")\n",
    "    result = f\"p1={p1}, p2={p2}, np1={np1}, np2={np2}\"\n",
    "    return result\n",
    "\n",
    "executor = train\n",
    "params = [1, 2]\n",
    "nparams = [3, 4]\n",
    "\n",
    "executor(*params, *nparams)"
   ]
  },
  {
   "cell_type": "code",
   "execution_count": 14,
   "id": "32fffd27",
   "metadata": {},
   "outputs": [
    {
     "name": "stdout",
     "output_type": "stream",
     "text": [
      "train in progress...\n"
     ]
    },
    {
     "data": {
      "text/plain": [
       "'p1=1, p2=2, np1=3, np2=4'"
      ]
     },
     "execution_count": 14,
     "metadata": {},
     "output_type": "execute_result"
    }
   ],
   "source": [
    "params = [1, 2, 3, 4]\n",
    "\n",
    "executor(*params)"
   ]
  },
  {
   "cell_type": "code",
   "execution_count": 20,
   "id": "b1f58854",
   "metadata": {},
   "outputs": [
    {
     "name": "stdout",
     "output_type": "stream",
     "text": [
      "train in progress...\n"
     ]
    },
    {
     "data": {
      "text/plain": [
       "'p1=1, p2=2, np1=None, np2=4'"
      ]
     },
     "execution_count": 20,
     "metadata": {},
     "output_type": "execute_result"
    }
   ],
   "source": [
    "params = [1, 2]\n",
    "nparams = {'np2': 4}\n",
    "\n",
    "executor(*params, **nparams)"
   ]
  },
  {
   "cell_type": "code",
   "execution_count": 22,
   "id": "780db92d",
   "metadata": {},
   "outputs": [
    {
     "ename": "SyntaxError",
     "evalue": "positional argument follows keyword argument (2877135814.py, line 4)",
     "output_type": "error",
     "traceback": [
      "\u001b[1;36m  Cell \u001b[1;32mIn[22], line 4\u001b[1;36m\u001b[0m\n\u001b[1;33m    test(np=2, 1)\u001b[0m\n\u001b[1;37m                ^\u001b[0m\n\u001b[1;31mSyntaxError\u001b[0m\u001b[1;31m:\u001b[0m positional argument follows keyword argument\n"
     ]
    }
   ],
   "source": [
    "def test(p, np=None):\n",
    "    print(p, np)\n",
    "\n",
    "test(np=2, 1)"
   ]
  },
  {
   "cell_type": "code",
   "execution_count": 42,
   "id": "7c21ebb0",
   "metadata": {},
   "outputs": [
    {
     "name": "stdout",
     "output_type": "stream",
     "text": [
      "1 2\n"
     ]
    },
    {
     "data": {
      "text/plain": [
       "3"
      ]
     },
     "execution_count": 42,
     "metadata": {},
     "output_type": "execute_result"
    }
   ],
   "source": [
    "d = {'b':2, 'a':1}\n",
    "def f(a, b=None):\n",
    "    print(a, b)\n",
    "    return a + b\n",
    "    \n",
    "f(**d)"
   ]
  },
  {
   "cell_type": "code",
   "execution_count": 43,
   "id": "50e2be66",
   "metadata": {},
   "outputs": [
    {
     "data": {
      "text/plain": [
       "function"
      ]
     },
     "execution_count": 43,
     "metadata": {},
     "output_type": "execute_result"
    }
   ],
   "source": [
    "type(f)"
   ]
  },
  {
   "cell_type": "code",
   "execution_count": 51,
   "id": "56dca779",
   "metadata": {},
   "outputs": [],
   "source": [
    "from typing import Any, Callable\n",
    "\n",
    "class Pipeline:\n",
    "\n",
    "    def __init__(self, func: Callable[Any, Any], params: dict):\n",
    "        self.func = func\n",
    "        self.params = params\n",
    "        self.result = None\n",
    "\n",
    "    def run(self):\n",
    "        # TODO try-catch, return status object or PipelineResult\n",
    "        self.result = self.func(**self.params)\n",
    "        return self.result"
   ]
  },
  {
   "cell_type": "code",
   "execution_count": 49,
   "id": "4f9a7900",
   "metadata": {},
   "outputs": [
    {
     "name": "stdout",
     "output_type": "stream",
     "text": [
      "1 2\n"
     ]
    },
    {
     "data": {
      "text/plain": [
       "3"
      ]
     },
     "execution_count": 49,
     "metadata": {},
     "output_type": "execute_result"
    }
   ],
   "source": [
    "p = Pipeline(f, d)\n",
    "p.run()"
   ]
  },
  {
   "cell_type": "code",
   "execution_count": null,
   "id": "b27a8e57",
   "metadata": {},
   "outputs": [],
   "source": []
  },
  {
   "cell_type": "code",
   "execution_count": null,
   "id": "5be7f7a0",
   "metadata": {},
   "outputs": [],
   "source": []
  }
 ],
 "metadata": {
  "kernelspec": {
   "display_name": "Python 3 (ipykernel)",
   "language": "python",
   "name": "python3"
  },
  "language_info": {
   "codemirror_mode": {
    "name": "ipython",
    "version": 3
   },
   "file_extension": ".py",
   "mimetype": "text/x-python",
   "name": "python",
   "nbconvert_exporter": "python",
   "pygments_lexer": "ipython3",
   "version": "3.10.9"
  }
 },
 "nbformat": 4,
 "nbformat_minor": 5
}
