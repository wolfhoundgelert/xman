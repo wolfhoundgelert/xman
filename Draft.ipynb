{
 "cells": [
  {
   "cell_type": "code",
   "execution_count": 1,
   "id": "b6a2d07c",
   "metadata": {
    "scrolled": true
   },
   "outputs": [],
   "source": [
    "%load_ext autoreload\n",
    "%autoreload 2\n",
    "\n",
    "import os\n",
    "import sys\n",
    "\n",
    "module_path = os.path.abspath(os.path.join('src'))\n",
    "sys.path.insert(0, module_path)"
   ]
  },
  {
   "cell_type": "code",
   "execution_count": 4,
   "id": "afe39168",
   "metadata": {},
   "outputs": [],
   "source": [
    "import xman"
   ]
  },
  {
   "cell_type": "code",
   "execution_count": 6,
   "id": "bacd255e",
   "metadata": {
    "collapsed": true
   },
   "outputs": [
    {
     "ename": "AssertionError",
     "evalue": "Directory `gitignore/experiments/` should be empty!",
     "output_type": "error",
     "traceback": [
      "\u001b[1;31m---------------------------------------------------------------------------\u001b[0m",
      "\u001b[1;31mAssertionError\u001b[0m                            Traceback (most recent call last)",
      "Cell \u001b[1;32mIn[6], line 1\u001b[0m\n\u001b[1;32m----> 1\u001b[0m \u001b[43mxman\u001b[49m\u001b[38;5;241;43m.\u001b[39;49m\u001b[43mmake_proj\u001b[49m\u001b[43m(\u001b[49m\u001b[38;5;124;43m'\u001b[39;49m\u001b[38;5;124;43mgitignore/experiments/\u001b[39;49m\u001b[38;5;124;43m'\u001b[39;49m\u001b[43m,\u001b[49m\u001b[43m \u001b[49m\u001b[38;5;124;43m'\u001b[39;49m\u001b[38;5;124;43mTest Project\u001b[39;49m\u001b[38;5;124;43m'\u001b[39;49m\u001b[43m,\u001b[49m\u001b[43m \u001b[49m\u001b[38;5;124;43m\"\u001b[39;49m\u001b[38;5;124;43mThis is a test experimental project\u001b[39;49m\u001b[38;5;124;43m\"\u001b[39;49m\u001b[43m)\u001b[49m\n",
      "File \u001b[1;32mC:\\workspace\\xman\\src\\xman\\__init__.py:6\u001b[0m, in \u001b[0;36mmake_proj\u001b[1;34m(location_dir, name, descr)\u001b[0m\n\u001b[0;32m      5\u001b[0m \u001b[38;5;28;01mdef\u001b[39;00m \u001b[38;5;21mmake_proj\u001b[39m(location_dir: \u001b[38;5;28mstr\u001b[39m, name: \u001b[38;5;28mstr\u001b[39m, descr: \u001b[38;5;28mstr\u001b[39m) \u001b[38;5;241m-\u001b[39m\u001b[38;5;241m>\u001b[39m ExpProj:\n\u001b[1;32m----> 6\u001b[0m     \u001b[38;5;28;01mreturn\u001b[39;00m \u001b[43mExpProj\u001b[49m\u001b[38;5;241;43m.\u001b[39;49m\u001b[43m_make\u001b[49m\u001b[43m(\u001b[49m\u001b[43mlocation_dir\u001b[49m\u001b[43m,\u001b[49m\u001b[43m \u001b[49m\u001b[43mname\u001b[49m\u001b[43m,\u001b[49m\u001b[43m \u001b[49m\u001b[43mdescr\u001b[49m\u001b[43m)\u001b[49m\n",
      "File \u001b[1;32mC:\\workspace\\xman\\src\\xman\\proj.py:38\u001b[0m, in \u001b[0;36mExpProj._make\u001b[1;34m(location_dir, name, descr)\u001b[0m\n\u001b[0;32m     36\u001b[0m \u001b[38;5;129m@staticmethod\u001b[39m\n\u001b[0;32m     37\u001b[0m \u001b[38;5;28;01mdef\u001b[39;00m \u001b[38;5;21m_make\u001b[39m(location_dir, name, descr):\n\u001b[1;32m---> 38\u001b[0m     location_dir \u001b[38;5;241m=\u001b[39m \u001b[43mutil\u001b[49m\u001b[38;5;241;43m.\u001b[39;49m\u001b[43m_make_dir\u001b[49m\u001b[43m(\u001b[49m\u001b[43mlocation_dir\u001b[49m\u001b[43m)\u001b[49m\n\u001b[0;32m     39\u001b[0m     data \u001b[38;5;241m=\u001b[39m ExpProjData(name, descr)\n\u001b[0;32m     40\u001b[0m     proj \u001b[38;5;241m=\u001b[39m ExpProj(location_dir, data)\n",
      "File \u001b[1;32mC:\\workspace\\xman\\src\\xman\\util.py:10\u001b[0m, in \u001b[0;36m_make_dir\u001b[1;34m(dir_path)\u001b[0m\n\u001b[0;32m      8\u001b[0m         \u001b[38;5;28;01mraise\u001b[39;00m \u001b[38;5;167;01mNotADirectoryError\u001b[39;00m(\u001b[38;5;124mf\u001b[39m\u001b[38;5;124m\"\u001b[39m\u001b[38;5;124m`\u001b[39m\u001b[38;5;132;01m{\u001b[39;00mdir_path\u001b[38;5;132;01m}\u001b[39;00m\u001b[38;5;124m` is not a directory!\u001b[39m\u001b[38;5;124m\"\u001b[39m)\n\u001b[0;32m      9\u001b[0m     \u001b[38;5;28;01melif\u001b[39;00m \u001b[38;5;28mlen\u001b[39m(os\u001b[38;5;241m.\u001b[39mlistdir(dir_path)) \u001b[38;5;241m>\u001b[39m \u001b[38;5;241m0\u001b[39m:\n\u001b[1;32m---> 10\u001b[0m         \u001b[38;5;28;01mraise\u001b[39;00m \u001b[38;5;167;01mAssertionError\u001b[39;00m(\u001b[38;5;124mf\u001b[39m\u001b[38;5;124m\"\u001b[39m\u001b[38;5;124mDirectory `\u001b[39m\u001b[38;5;132;01m{\u001b[39;00mdir_path\u001b[38;5;132;01m}\u001b[39;00m\u001b[38;5;124m` should be empty!\u001b[39m\u001b[38;5;124m\"\u001b[39m)\n\u001b[0;32m     11\u001b[0m \u001b[38;5;28;01melse\u001b[39;00m:\n\u001b[0;32m     12\u001b[0m     os\u001b[38;5;241m.\u001b[39mmkdir(dir_path)\n",
      "\u001b[1;31mAssertionError\u001b[0m: Directory `gitignore/experiments/` should be empty!"
     ]
    }
   ],
   "source": [
    "xman.make_proj('gitignore/experiments/', 'Test Project', \"This is a test experimental project\")"
   ]
  },
  {
   "cell_type": "code",
   "execution_count": 7,
   "id": "0b88a881",
   "metadata": {},
   "outputs": [
    {
     "name": "stdout",
     "output_type": "stream",
     "text": [
      "\n",
      "experiments/\n",
      "    group1/\n",
      "        exp1/\n",
      "            exp.pkl\n",
      "        exp_group.pkl\n",
      "    exp_proj.pkl\n",
      "\n"
     ]
    }
   ],
   "source": [
    "xman.print_dir_tree('gitignore/experiments/')"
   ]
  },
  {
   "cell_type": "code",
   "execution_count": 10,
   "id": "bcb8843c",
   "metadata": {},
   "outputs": [],
   "source": [
    "proj = xman.load_proj('gitignore/experiments/')"
   ]
  },
  {
   "cell_type": "code",
   "execution_count": 13,
   "id": "86ae3324",
   "metadata": {},
   "outputs": [
    {
     "data": {
      "text/plain": [
       "Group 3, name `Some net`, descr `Try some net with default params`, status `None`, exps []"
      ]
     },
     "execution_count": 13,
     "metadata": {},
     "output_type": "execute_result"
    }
   ],
   "source": [
    "proj.make_group('Some net', 'Try some net with default params')"
   ]
  },
  {
   "cell_type": "code",
   "execution_count": 20,
   "id": "966dfb40",
   "metadata": {},
   "outputs": [
    {
     "data": {
      "text/plain": [
       "[Group 1, name `New Group`, descr `New Group descr`, status `None`, exps ['Exp 1, name `New Exp`, descr `New Exp descr`, status `TODO`']]"
      ]
     },
     "execution_count": 20,
     "metadata": {},
     "output_type": "execute_result"
    }
   ],
   "source": [
    "proj.groups()"
   ]
  },
  {
   "cell_type": "code",
   "execution_count": 19,
   "id": "2f1bbfc1",
   "metadata": {},
   "outputs": [
    {
     "name": "stdout",
     "output_type": "stream",
     "text": [
      "ACHTUNG! Remove `gitignore/experiments/group3` dir with all its content? (y/n) y\n"
     ]
    }
   ],
   "source": [
    "proj.remove_group(3)"
   ]
  },
  {
   "cell_type": "code",
   "execution_count": null,
   "id": "f1a4fbcf",
   "metadata": {},
   "outputs": [],
   "source": [
    "proj.groups()"
   ]
  },
  {
   "cell_type": "code",
   "execution_count": 21,
   "id": "34b002d6",
   "metadata": {},
   "outputs": [
    {
     "data": {
      "text/plain": [
       "Exp 2, name `Exp 1`, descr `Exp 1 descr`, status `TODO`"
      ]
     },
     "execution_count": 21,
     "metadata": {},
     "output_type": "execute_result"
    }
   ],
   "source": [
    "proj.group(1).make_exp('Exp 1', 'Exp 1 descr')"
   ]
  },
  {
   "cell_type": "code",
   "execution_count": 24,
   "id": "f5520d7d",
   "metadata": {},
   "outputs": [
    {
     "data": {
      "text/plain": [
       "IN_PROGRESS"
      ]
     },
     "execution_count": 24,
     "metadata": {},
     "output_type": "execute_result"
    }
   ],
   "source": [
    "proj.exp(1.1).set_manual_status('IN_PROGRESS', None)"
   ]
  },
  {
   "cell_type": "code",
   "execution_count": 25,
   "id": "607e77f1",
   "metadata": {},
   "outputs": [],
   "source": [
    "proj.exp(1.1).remove_manual_status()"
   ]
  },
  {
   "cell_type": "code",
   "execution_count": 26,
   "id": "4d64b66c",
   "metadata": {},
   "outputs": [
    {
     "data": {
      "text/plain": [
       "TODO"
      ]
     },
     "execution_count": 26,
     "metadata": {},
     "output_type": "execute_result"
    }
   ],
   "source": [
    "proj.exp(1.1).status"
   ]
  },
  {
   "cell_type": "code",
   "execution_count": 27,
   "id": "ead9bc51",
   "metadata": {},
   "outputs": [
    {
     "data": {
      "text/plain": [
       "Exp 3, name `Exp 2`, descr `another exp 2`, status `TODO`"
      ]
     },
     "execution_count": 27,
     "metadata": {},
     "output_type": "execute_result"
    }
   ],
   "source": [
    "proj.group(1).make_exp('Exp 2', 'another exp 2')"
   ]
  },
  {
   "cell_type": "code",
   "execution_count": 29,
   "id": "64825ce6",
   "metadata": {},
   "outputs": [
    {
     "data": {
      "text/plain": [
       "TODO"
      ]
     },
     "execution_count": 29,
     "metadata": {},
     "output_type": "execute_result"
    }
   ],
   "source": [
    "proj.exp(1.1).status\n",
    "proj.exp(1.1).status\n",
    "proj.exp(1.1).status"
   ]
  },
  {
   "cell_type": "code",
   "execution_count": 30,
   "id": "d585d1cc",
   "metadata": {},
   "outputs": [
    {
     "data": {
      "text/plain": [
       "False"
      ]
     },
     "execution_count": 30,
     "metadata": {},
     "output_type": "execute_result"
    }
   ],
   "source": [
    "proj.has_group(3)"
   ]
  },
  {
   "cell_type": "code",
   "execution_count": null,
   "id": "c63c1098",
   "metadata": {},
   "outputs": [],
   "source": []
  },
  {
   "cell_type": "code",
   "execution_count": null,
   "id": "7f3c1fb2",
   "metadata": {},
   "outputs": [],
   "source": []
  },
  {
   "cell_type": "code",
   "execution_count": null,
   "id": "60aaa05d",
   "metadata": {},
   "outputs": [],
   "source": []
  },
  {
   "cell_type": "code",
   "execution_count": null,
   "id": "ffb1eb7f",
   "metadata": {},
   "outputs": [],
   "source": []
  },
  {
   "cell_type": "code",
   "execution_count": null,
   "id": "a90831ab",
   "metadata": {},
   "outputs": [],
   "source": []
  }
 ],
 "metadata": {
  "kernelspec": {
   "display_name": "Python 3 (ipykernel)",
   "language": "python",
   "name": "python3"
  },
  "language_info": {
   "codemirror_mode": {
    "name": "ipython",
    "version": 3
   },
   "file_extension": ".py",
   "mimetype": "text/x-python",
   "name": "python",
   "nbconvert_exporter": "python",
   "pygments_lexer": "ipython3",
   "version": "3.10.9"
  }
 },
 "nbformat": 4,
 "nbformat_minor": 5
}
