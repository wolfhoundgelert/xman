{
 "cells": [
  {
   "cell_type": "code",
   "execution_count": 1,
   "id": "b6a2d07c",
   "metadata": {
    "scrolled": true
   },
   "outputs": [],
   "source": [
    "%load_ext autoreload\n",
    "%autoreload 2\n",
    "\n",
    "import os\n",
    "import sys\n",
    "\n",
    "module_path = os.path.abspath(os.path.join('src'))\n",
    "sys.path.insert(0, module_path)"
   ]
  },
  {
   "cell_type": "code",
   "execution_count": 3,
   "id": "afe39168",
   "metadata": {},
   "outputs": [],
   "source": [
    "import xman"
   ]
  },
  {
   "cell_type": "code",
   "execution_count": 4,
   "id": "bacd255e",
   "metadata": {},
   "outputs": [
    {
     "name": "stdout",
     "output_type": "stream",
     "text": [
      "DEBUG: Exp.update()\n",
      "DEBUG: Exp.update()\n",
      "\n",
      "experiments/\n",
      "    .data\n",
      "    .time\n",
      "    group1/\n",
      "        .data\n",
      "        .time\n",
      "        exp1/\n",
      "            .data\n",
      "            .time\n",
      "        exp2/\n",
      "            .data\n",
      "            .time\n",
      "\n",
      "Proj [IN_PROGRESS] Test Project - This is a test experimental project\n",
      "\n",
      "    Group 1 [IN_PROGRESS] Test Group - Test group descr\n",
      "        Exp 1 [DONE] Test Exp - Test Exp Descr\n",
      "        Exp 2 [EMPTY] Another New Exp - Another new exp descr\n"
     ]
    }
   ],
   "source": [
    "create_new = False\n",
    "if create_new:\n",
    "    xman.make_proj('gitignore/experiments/', 'Test Project', \"This is a test experimental project\")\n",
    "    xman.proj.make_group(\"Test Group\", \"Test group descr\")\n",
    "    xman.proj.group(1).make_exp(\"Test Exp\", \"Test Exp Descr\")\n",
    "else:\n",
    "    xman.load_proj('gitignore/experiments/')\n",
    "xman.dir_tree('gitignore/experiments/')\n",
    "xman.proj.info()"
   ]
  },
  {
   "cell_type": "code",
   "execution_count": null,
   "id": "a4870328",
   "metadata": {},
   "outputs": [],
   "source": []
  },
  {
   "cell_type": "code",
   "execution_count": 11,
   "id": "3931db1b",
   "metadata": {},
   "outputs": [],
   "source": [
    "def train(pulse, p1, p2, np1=None, np2=None):\n",
    "    print(\"train in progress...\")\n",
    "    result = f\"p1={p1}, p2={p2}, np1={np1}, np2={np2}\"\n",
    "    return result\n",
    "\n",
    "params = {\n",
    "    'p1': 1,\n",
    "    'p2': 2,\n",
    "    'np1': 3,\n",
    "    'np2': 4,\n",
    "}"
   ]
  },
  {
   "cell_type": "code",
   "execution_count": 12,
   "id": "ee1a734b",
   "metadata": {},
   "outputs": [
    {
     "ename": "AssertionError",
     "evalue": "`Exp 1 [DONE] Test Exp - Test Exp Descr` already has a pipeline!",
     "output_type": "error",
     "traceback": [
      "\u001b[1;31m---------------------------------------------------------------------------\u001b[0m",
      "\u001b[1;31mAssertionError\u001b[0m                            Traceback (most recent call last)",
      "Cell \u001b[1;32mIn[12], line 1\u001b[0m\n\u001b[1;32m----> 1\u001b[0m \u001b[43mxman\u001b[49m\u001b[38;5;241;43m.\u001b[39;49m\u001b[43mproj\u001b[49m\u001b[38;5;241;43m.\u001b[39;49m\u001b[43mexp\u001b[49m\u001b[43m(\u001b[49m\u001b[38;5;241;43m1.1\u001b[39;49m\u001b[43m)\u001b[49m\u001b[38;5;241;43m.\u001b[39;49m\u001b[43mattach_pipeline\u001b[49m\u001b[43m(\u001b[49m\u001b[43mtrain\u001b[49m\u001b[43m,\u001b[49m\u001b[43m \u001b[49m\u001b[43mparams\u001b[49m\u001b[43m)\u001b[49m\n",
      "File \u001b[1;32mC:\\workspace\\xman\\src\\xman\\exp.py:86\u001b[0m, in \u001b[0;36mExp.attach_pipeline\u001b[1;34m(self, run_func, params)\u001b[0m\n\u001b[0;32m     84\u001b[0m \u001b[38;5;28mself\u001b[39m\u001b[38;5;241m.\u001b[39m_update()\n\u001b[0;32m     85\u001b[0m \u001b[38;5;28;01mif\u001b[39;00m \u001b[38;5;28mself\u001b[39m\u001b[38;5;241m.\u001b[39mdata\u001b[38;5;241m.\u001b[39mpipeline \u001b[38;5;129;01mis\u001b[39;00m \u001b[38;5;129;01mnot\u001b[39;00m \u001b[38;5;28;01mNone\u001b[39;00m:\n\u001b[1;32m---> 86\u001b[0m     \u001b[38;5;28;01mraise\u001b[39;00m \u001b[38;5;167;01mAssertionError\u001b[39;00m(\u001b[38;5;124mf\u001b[39m\u001b[38;5;124m\"\u001b[39m\u001b[38;5;124m`\u001b[39m\u001b[38;5;132;01m{\u001b[39;00m\u001b[38;5;28mself\u001b[39m\u001b[38;5;132;01m}\u001b[39;00m\u001b[38;5;124m` already has a pipeline!\u001b[39m\u001b[38;5;124m\"\u001b[39m)\n\u001b[0;32m     87\u001b[0m pipeline \u001b[38;5;241m=\u001b[39m Pipeline(\u001b[38;5;28mself\u001b[39m, run_func, params)\n\u001b[0;32m     88\u001b[0m \u001b[38;5;28mself\u001b[39m\u001b[38;5;241m.\u001b[39mdata\u001b[38;5;241m.\u001b[39mpipeline \u001b[38;5;241m=\u001b[39m pipeline\n",
      "\u001b[1;31mAssertionError\u001b[0m: `Exp 1 [DONE] Test Exp - Test Exp Descr` already has a pipeline!"
     ]
    }
   ],
   "source": [
    "xman.proj.exp(1.1).attach_pipeline(train, params)"
   ]
  },
  {
   "cell_type": "code",
   "execution_count": 13,
   "id": "ccdb1ec0",
   "metadata": {},
   "outputs": [
    {
     "ename": "AssertionError",
     "evalue": "`Exp 1 [DONE] Test Exp - Test Exp Descr` was already started and the current status is `DONE`!",
     "output_type": "error",
     "traceback": [
      "\u001b[1;31m---------------------------------------------------------------------------\u001b[0m",
      "\u001b[1;31mAssertionError\u001b[0m                            Traceback (most recent call last)",
      "Cell \u001b[1;32mIn[13], line 1\u001b[0m\n\u001b[1;32m----> 1\u001b[0m \u001b[43mxman\u001b[49m\u001b[38;5;241;43m.\u001b[39;49m\u001b[43mproj\u001b[49m\u001b[38;5;241;43m.\u001b[39;49m\u001b[43mexp\u001b[49m\u001b[43m(\u001b[49m\u001b[38;5;241;43m1.1\u001b[39;49m\u001b[43m)\u001b[49m\u001b[38;5;241;43m.\u001b[39;49m\u001b[43mstart\u001b[49m\u001b[43m(\u001b[49m\u001b[43m)\u001b[49m\n",
      "File \u001b[1;32mC:\\workspace\\xman\\src\\xman\\exp.py:108\u001b[0m, in \u001b[0;36mExp.start\u001b[1;34m(self)\u001b[0m\n\u001b[0;32m    106\u001b[0m     \u001b[38;5;28;01mraise\u001b[39;00m \u001b[38;5;167;01mAssertionError\u001b[39;00m(\u001b[38;5;124mf\u001b[39m\u001b[38;5;124m\"\u001b[39m\u001b[38;5;124m`\u001b[39m\u001b[38;5;132;01m{\u001b[39;00m\u001b[38;5;28mself\u001b[39m\u001b[38;5;132;01m}\u001b[39;00m\u001b[38;5;124m` there\u001b[39m\u001b[38;5;124m'\u001b[39m\u001b[38;5;124ms an error during the previous start!\u001b[39m\u001b[38;5;124m\"\u001b[39m)\n\u001b[0;32m    107\u001b[0m \u001b[38;5;28;01mif\u001b[39;00m pipeline\u001b[38;5;241m.\u001b[39mstarted:\n\u001b[1;32m--> 108\u001b[0m     \u001b[38;5;28;01mraise\u001b[39;00m \u001b[38;5;167;01mAssertionError\u001b[39;00m(\u001b[38;5;124mf\u001b[39m\u001b[38;5;124m\"\u001b[39m\u001b[38;5;124m`\u001b[39m\u001b[38;5;132;01m{\u001b[39;00m\u001b[38;5;28mself\u001b[39m\u001b[38;5;132;01m}\u001b[39;00m\u001b[38;5;124m` was already started and the current status is `\u001b[39m\u001b[38;5;132;01m{\u001b[39;00m\u001b[38;5;28mself\u001b[39m\u001b[38;5;241m.\u001b[39mstatus\u001b[38;5;132;01m}\u001b[39;00m\u001b[38;5;124m`!\u001b[39m\u001b[38;5;124m\"\u001b[39m)\n\u001b[0;32m    109\u001b[0m \u001b[38;5;28;01mif\u001b[39;00m pipeline\u001b[38;5;241m.\u001b[39mfinished:\n\u001b[0;32m    110\u001b[0m     \u001b[38;5;28;01mraise\u001b[39;00m \u001b[38;5;167;01mAssertionError\u001b[39;00m(\u001b[38;5;124mf\u001b[39m\u001b[38;5;124m\"\u001b[39m\u001b[38;5;124m`\u001b[39m\u001b[38;5;132;01m{\u001b[39;00m\u001b[38;5;28mself\u001b[39m\u001b[38;5;132;01m}\u001b[39;00m\u001b[38;5;124m` was already finished!\u001b[39m\u001b[38;5;124m\"\u001b[39m)\n",
      "\u001b[1;31mAssertionError\u001b[0m: `Exp 1 [DONE] Test Exp - Test Exp Descr` was already started and the current status is `DONE`!"
     ]
    }
   ],
   "source": [
    "xman.proj.exp(1.1).start()"
   ]
  },
  {
   "cell_type": "code",
   "execution_count": 4,
   "id": "9e272ae5",
   "metadata": {},
   "outputs": [
    {
     "name": "stdout",
     "output_type": "stream",
     "text": [
      "Proj [DONE] Test Project - This is a test experimental project\n",
      "\n",
      "    Group 1 [DONE] Test Group - Test group descr\n",
      "        Exp 1 [DONE] Test Exp - Test Exp Descr\n"
     ]
    }
   ],
   "source": [
    "print(xman.proj)"
   ]
  },
  {
   "cell_type": "code",
   "execution_count": 5,
   "id": "4c04a154",
   "metadata": {},
   "outputs": [
    {
     "ename": "AttributeError",
     "evalue": "'NoneType' object has no attribute 'exp'",
     "output_type": "error",
     "traceback": [
      "\u001b[1;31m---------------------------------------------------------------------------\u001b[0m",
      "\u001b[1;31mAttributeError\u001b[0m                            Traceback (most recent call last)",
      "Cell \u001b[1;32mIn[5], line 1\u001b[0m\n\u001b[1;32m----> 1\u001b[0m \u001b[43mxman\u001b[49m\u001b[38;5;241;43m.\u001b[39;49m\u001b[43mproj\u001b[49m\u001b[38;5;241;43m.\u001b[39;49m\u001b[43mexp\u001b[49m(\u001b[38;5;241m1.1\u001b[39m)\u001b[38;5;241m.\u001b[39minfo()\n",
      "\u001b[1;31mAttributeError\u001b[0m: 'NoneType' object has no attribute 'exp'"
     ]
    }
   ],
   "source": [
    "xman.proj.exp(1.1).info()"
   ]
  },
  {
   "cell_type": "code",
   "execution_count": 6,
   "id": "e1970f90",
   "metadata": {},
   "outputs": [
    {
     "name": "stdout",
     "output_type": "stream",
     "text": [
      "Proj [IN_PROGRESS] Test Project - This is a test experimental project\n",
      "\n",
      "    Group 1 [IN_PROGRESS] Test Group - Test group descr\n",
      "        Exp 1 [DONE] Test Exp - Test Exp Descr\n"
     ]
    }
   ],
   "source": [
    "xman.proj.info()"
   ]
  },
  {
   "cell_type": "code",
   "execution_count": null,
   "id": "a658d39f",
   "metadata": {},
   "outputs": [],
   "source": []
  },
  {
   "cell_type": "code",
   "execution_count": 7,
   "id": "07c62d82",
   "metadata": {},
   "outputs": [
    {
     "name": "stdout",
     "output_type": "stream",
     "text": [
      "DEBUG: Exp.update()\n"
     ]
    },
    {
     "data": {
      "text/plain": [
       "Exp 2 [EMPTY] Another New Exp - Another new exp descr"
      ]
     },
     "execution_count": 7,
     "metadata": {},
     "output_type": "execute_result"
    }
   ],
   "source": [
    "xman.proj.group(1).make_exp(\"Another New Exp\", \"Another new exp descr\")"
   ]
  },
  {
   "cell_type": "code",
   "execution_count": 5,
   "id": "d2223729",
   "metadata": {},
   "outputs": [
    {
     "name": "stdout",
     "output_type": "stream",
     "text": [
      "ACHTUNG! Remove `gitignore/experiments/group1\\exp2` dir with all its content? (y/n) y\n"
     ]
    }
   ],
   "source": [
    "xman.proj.group(1).remove_exp(2)"
   ]
  },
  {
   "cell_type": "code",
   "execution_count": null,
   "id": "6a3b3b8b",
   "metadata": {},
   "outputs": [],
   "source": []
  },
  {
   "cell_type": "code",
   "execution_count": 9,
   "id": "08ada2ab",
   "metadata": {},
   "outputs": [
    {
     "ename": "NameError",
     "evalue": "name 'ExpStructBox' is not defined",
     "output_type": "error",
     "traceback": [
      "\u001b[1;31m---------------------------------------------------------------------------\u001b[0m",
      "\u001b[1;31mNameError\u001b[0m                                 Traceback (most recent call last)",
      "Cell \u001b[1;32mIn[9], line 1\u001b[0m\n\u001b[1;32m----> 1\u001b[0m \u001b[38;5;28;01mclass\u001b[39;00m \u001b[38;5;21;01mExpStructBox\u001b[39;00m:\n\u001b[0;32m      3\u001b[0m     \u001b[38;5;28;01mdef\u001b[39;00m \u001b[38;5;21m__init__\u001b[39m(\u001b[38;5;28mself\u001b[39m, parent: ExpStructBox \u001b[38;5;241m=\u001b[39m \u001b[38;5;28;01mNone\u001b[39;00m):\n\u001b[0;32m      4\u001b[0m         \u001b[38;5;28mself\u001b[39m\u001b[38;5;241m.\u001b[39mparent \u001b[38;5;241m=\u001b[39m parent\n",
      "Cell \u001b[1;32mIn[9], line 3\u001b[0m, in \u001b[0;36mExpStructBox\u001b[1;34m()\u001b[0m\n\u001b[0;32m      1\u001b[0m \u001b[38;5;28;01mclass\u001b[39;00m \u001b[38;5;21;01mExpStructBox\u001b[39;00m:\n\u001b[1;32m----> 3\u001b[0m     \u001b[38;5;28;01mdef\u001b[39;00m \u001b[38;5;21m__init__\u001b[39m(\u001b[38;5;28mself\u001b[39m, parent: \u001b[43mExpStructBox\u001b[49m \u001b[38;5;241m=\u001b[39m \u001b[38;5;28;01mNone\u001b[39;00m):\n\u001b[0;32m      4\u001b[0m         \u001b[38;5;28mself\u001b[39m\u001b[38;5;241m.\u001b[39mparent \u001b[38;5;241m=\u001b[39m parent\n",
      "\u001b[1;31mNameError\u001b[0m: name 'ExpStructBox' is not defined"
     ]
    }
   ],
   "source": [
    "class ExpStructBox:\n",
    "\n",
    "    def __init__(self, parent: ExpStructBox = None):\n",
    "        self.parent = parent"
   ]
  },
  {
   "cell_type": "code",
   "execution_count": null,
   "id": "3161b91a",
   "metadata": {},
   "outputs": [],
   "source": []
  }
 ],
 "metadata": {
  "kernelspec": {
   "display_name": "Python 3 (ipykernel)",
   "language": "python",
   "name": "python3"
  },
  "language_info": {
   "codemirror_mode": {
    "name": "ipython",
    "version": 3
   },
   "file_extension": ".py",
   "mimetype": "text/x-python",
   "name": "python",
   "nbconvert_exporter": "python",
   "pygments_lexer": "ipython3",
   "version": "3.10.9"
  }
 },
 "nbformat": 4,
 "nbformat_minor": 5
}
