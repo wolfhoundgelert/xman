{
 "cells": [
  {
   "cell_type": "code",
   "execution_count": 1,
   "id": "b6a2d07c",
   "metadata": {
    "scrolled": true
   },
   "outputs": [],
   "source": [
    "%load_ext autoreload\n",
    "%autoreload 2\n",
    "\n",
    "import os\n",
    "import sys\n",
    "\n",
    "module_path = os.path.abspath(os.path.join('src'))\n",
    "sys.path.insert(0, module_path)"
   ]
  },
  {
   "cell_type": "code",
   "execution_count": 2,
   "id": "afe39168",
   "metadata": {},
   "outputs": [],
   "source": [
    "import xman"
   ]
  },
  {
   "cell_type": "code",
   "execution_count": 3,
   "id": "bacd255e",
   "metadata": {},
   "outputs": [
    {
     "name": "stdout",
     "output_type": "stream",
     "text": [
      "33.78343439102173 60 True\n",
      "33.78443455696106 60 True\n",
      "33.78543496131897 60 True\n",
      "\n",
      "experiments/\n",
      "    .data\n",
      "    .time\n",
      "    group1/\n",
      "        .data\n",
      "        .time\n",
      "        exp1/\n",
      "            .data\n",
      "            .time\n",
      "\n",
      "33.78953170776367 60 True\n",
      "33.79153037071228 60 True\n",
      "33.792628049850464 60 True\n",
      "Proj [IN_PROGRESS] Test Project - This is a test experimental project\n",
      "\n",
      "    Group 1 [IN_PROGRESS] Test Group - Test group descr\n",
      "        Exp 1 [IN_PROGRESS: ACTIVE] Test Exp - Test Exp Descr\n"
     ]
    }
   ],
   "source": [
    "create_new = False\n",
    "if create_new:\n",
    "    xman.make_proj('gitignore/experiments/', 'Test Project', \"This is a test experimental project\")\n",
    "    xman.proj.make_group(\"Test Group\", \"Test group descr\")\n",
    "    xman.proj.group(1).make_exp(\"Test Exp\", \"Test Exp Descr\")\n",
    "else:\n",
    "    xman.load_proj('gitignore/experiments/')\n",
    "xman.dir_tree('gitignore/experiments/')\n",
    "xman.proj.info()"
   ]
  },
  {
   "cell_type": "code",
   "execution_count": 19,
   "id": "3931db1b",
   "metadata": {},
   "outputs": [],
   "source": [
    "def train(pulse, p1, p2, np1=None, np2=None):\n",
    "    print(\"train started\")\n",
    "    import time\n",
    "    time.sleep(60)\n",
    "    pulse()\n",
    "    print(\"train is still in progress...\")\n",
    "    result = f\"p1={p1}, p2={p2}, np1={np1}, np2={np2}\"\n",
    "    time.sleep(60)\n",
    "    print(f\"train finished with result `{result}`\")\n",
    "    return result\n",
    "\n",
    "params = {\n",
    "    'p1': 1,\n",
    "    'p2': 2,\n",
    "    'np1': 3,\n",
    "    'np2': 4,\n",
    "}"
   ]
  },
  {
   "cell_type": "code",
   "execution_count": 20,
   "id": "ee1a734b",
   "metadata": {},
   "outputs": [
    {
     "data": {
      "text/plain": [
       "Exp 1 [TODO] Test Exp - Test Exp Descr"
      ]
     },
     "execution_count": 20,
     "metadata": {},
     "output_type": "execute_result"
    }
   ],
   "source": [
    "xman.proj.exp(1.1).remove_pipeline().attach_pipeline(train, params)"
   ]
  },
  {
   "cell_type": "code",
   "execution_count": 8,
   "id": "ccdb1ec0",
   "metadata": {},
   "outputs": [
    {
     "name": "stdout",
     "output_type": "stream",
     "text": [
      "train started\n",
      "train is still in progress...\n",
      "train finished with result `p1=1, p2=2, np1=3, np2=4`\n"
     ]
    }
   ],
   "source": [
    "xman.proj.exp(1.1).start()"
   ]
  },
  {
   "cell_type": "code",
   "execution_count": 43,
   "id": "4c04a154",
   "metadata": {},
   "outputs": [
    {
     "data": {
      "text/plain": [
       "Exp 1 [IN_PROGRESS: ACTIVE] Test Exp - Test Exp Descr"
      ]
     },
     "execution_count": 43,
     "metadata": {},
     "output_type": "execute_result"
    }
   ],
   "source": [
    "xman.proj.exp(1.1)"
   ]
  },
  {
   "cell_type": "code",
   "execution_count": 40,
   "id": "e1970f90",
   "metadata": {},
   "outputs": [
    {
     "name": "stdout",
     "output_type": "stream",
     "text": [
      "Proj [IN_PROGRESS] Test Project - This is a test experimental project\n",
      "\n",
      "    Group 1 [IN_PROGRESS] Test Group - Test group descr\n",
      "        Exp 1 [IN_PROGRESS: ACTIVE] Test Exp - Test Exp Descr\n"
     ]
    }
   ],
   "source": [
    "xman.proj.info()"
   ]
  },
  {
   "cell_type": "code",
   "execution_count": null,
   "id": "a658d39f",
   "metadata": {},
   "outputs": [],
   "source": []
  },
  {
   "cell_type": "code",
   "execution_count": 16,
   "id": "07c62d82",
   "metadata": {},
   "outputs": [
    {
     "data": {
      "text/plain": [
       "Exp 2 [EMPTY] Another New Exp - Another new exp descr"
      ]
     },
     "execution_count": 16,
     "metadata": {},
     "output_type": "execute_result"
    }
   ],
   "source": [
    "xman.proj.group(1).make_exp(\"Another New Exp\", \"Another new exp descr\")"
   ]
  },
  {
   "cell_type": "code",
   "execution_count": 19,
   "id": "d2223729",
   "metadata": {},
   "outputs": [
    {
     "name": "stdout",
     "output_type": "stream",
     "text": [
      "ACHTUNG! Remove `gitignore/experiments/group1\\exp2` dir with all its content? (y/n) y\n"
     ]
    }
   ],
   "source": [
    "xman.proj.group(1).remove_exp(2)"
   ]
  },
  {
   "cell_type": "code",
   "execution_count": 17,
   "id": "6a3b3b8b",
   "metadata": {},
   "outputs": [],
   "source": [
    "xman.proj.exp(1.2).set_manual_status('TODO', 'todoooooooo')"
   ]
  },
  {
   "cell_type": "code",
   "execution_count": null,
   "id": "55a17ab2",
   "metadata": {},
   "outputs": [],
   "source": []
  },
  {
   "cell_type": "code",
   "execution_count": 9,
   "id": "38f17699",
   "metadata": {},
   "outputs": [],
   "source": [
    "xman.proj.exp(1.1).set_manual_status('TODO', 'gooooooo')"
   ]
  },
  {
   "cell_type": "code",
   "execution_count": null,
   "id": "e1926ba2",
   "metadata": {},
   "outputs": [],
   "source": []
  },
  {
   "cell_type": "code",
   "execution_count": null,
   "id": "0948865b",
   "metadata": {},
   "outputs": [],
   "source": []
  },
  {
   "cell_type": "code",
   "execution_count": null,
   "id": "c37aa3d7",
   "metadata": {},
   "outputs": [],
   "source": []
  },
  {
   "cell_type": "code",
   "execution_count": null,
   "id": "f08b7898",
   "metadata": {},
   "outputs": [],
   "source": []
  },
  {
   "cell_type": "code",
   "execution_count": null,
   "id": "8b50d8e2",
   "metadata": {},
   "outputs": [],
   "source": []
  }
 ],
 "metadata": {
  "kernelspec": {
   "display_name": "Python 3 (ipykernel)",
   "language": "python",
   "name": "python3"
  },
  "language_info": {
   "codemirror_mode": {
    "name": "ipython",
    "version": 3
   },
   "file_extension": ".py",
   "mimetype": "text/x-python",
   "name": "python",
   "nbconvert_exporter": "python",
   "pygments_lexer": "ipython3",
   "version": "3.10.9"
  }
 },
 "nbformat": 4,
 "nbformat_minor": 5
}
