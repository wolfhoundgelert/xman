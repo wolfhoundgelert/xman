{
 "cells": [
  {
   "cell_type": "code",
   "execution_count": 1,
   "id": "b6a2d07c",
   "metadata": {
    "scrolled": true
   },
   "outputs": [],
   "source": [
    "%load_ext autoreload\n",
    "%autoreload 2\n",
    "\n",
    "import os\n",
    "import sys\n",
    "\n",
    "module_path = os.path.abspath(os.path.join('src'))\n",
    "sys.path.insert(0, module_path)"
   ]
  },
  {
   "cell_type": "code",
   "execution_count": 2,
   "id": "afe39168",
   "metadata": {},
   "outputs": [],
   "source": [
    "import xman\n",
    "\n",
    "PROJ_DIR = 'gitignore/experiments/'"
   ]
  },
  {
   "cell_type": "code",
   "execution_count": 11,
   "id": "bacd255e",
   "metadata": {},
   "outputs": [
    {
     "name": "stdout",
     "output_type": "stream",
     "text": [
      "\n",
      "experiments/\n",
      "    .data\n",
      "    .time\n",
      "    group1/\n",
      "        .data\n",
      "        .time\n",
      "        exp1/\n",
      "            .data\n",
      "            .time\n",
      "\n",
      "Proj [EMPTY] Test Project - Test project descr    \n",
      "    Resolution: -= auto status =-    \n",
      "    \n",
      "    Group 1 [EMPTY] Test Group - Test group descr    \n",
      "        Resolution: -= auto status =-    \n",
      "        \n",
      "        Exp 1 [EMPTY] Test Exp - Test exp descr    \n",
      "            Resolution: -= auto status =-\n"
     ]
    }
   ],
   "source": [
    "import shutil\n",
    "\n",
    "create_new = True\n",
    "if create_new:\n",
    "    if os.path.exists(PROJ_DIR):\n",
    "        shutil.rmtree(PROJ_DIR)\n",
    "    xman.make_proj(PROJ_DIR, 'Test Project', \"Test project descr\")\n",
    "    xman.proj.make_group(\"Test Group\", \"Test group descr\")\n",
    "    xman.proj.group(1).make_exp(\"Test Exp\", \"Test exp descr\")\n",
    "else:\n",
    "    xman.load_proj(PROJ_DIR)\n",
    "xman.dir_tree(PROJ_DIR)\n",
    "xman.proj.info()"
   ]
  },
  {
   "cell_type": "code",
   "execution_count": 23,
   "id": "3931db1b",
   "metadata": {},
   "outputs": [],
   "source": [
    "def train(pulse, p1, p2, np1=None, np2=None):\n",
    "    print(\"train started\")\n",
    "    import time\n",
    "    time.sleep(3)\n",
    "    pulse()\n",
    "    print(\"train is still in progress...\")\n",
    "    result = f\"p1={p1}, p2={p2}, np1={np1}, np2={np2}\"\n",
    "    time.sleep(3)\n",
    "    print(f\"train finished with result `{result}`\")\n",
    "    return result\n",
    "\n",
    "params = {\n",
    "    'p1': 1,\n",
    "    'p2': 2,\n",
    "    'np1': 3,\n",
    "    'np2': 4,\n",
    "}"
   ]
  },
  {
   "cell_type": "code",
   "execution_count": 26,
   "id": "ee1a734b",
   "metadata": {},
   "outputs": [
    {
     "name": "stdout",
     "output_type": "stream",
     "text": [
      "ACHTUNG! Remove the pipeline of exp `Exp 1 [TODO] Test Exp - Test exp descr`? (y/n) y\n"
     ]
    },
    {
     "data": {
      "text/plain": [
       "Exp 1 [TODO] Test Exp - Test exp descr"
      ]
     },
     "execution_count": 26,
     "metadata": {},
     "output_type": "execute_result"
    }
   ],
   "source": [
    "xman.proj.exp('1.1').remove_pipeline().make_pipeline(train, params)"
   ]
  },
  {
   "cell_type": "code",
   "execution_count": 8,
   "id": "ccdb1ec0",
   "metadata": {},
   "outputs": [
    {
     "name": "stdout",
     "output_type": "stream",
     "text": [
      "train started\n",
      "train is still in progress...\n",
      "train finished with result `p1=1, p2=2, np1=3, np2=4`\n"
     ]
    }
   ],
   "source": [
    "xman.proj.exp('1.1').start()"
   ]
  },
  {
   "cell_type": "code",
   "execution_count": 43,
   "id": "4c04a154",
   "metadata": {},
   "outputs": [
    {
     "data": {
      "text/plain": [
       "Exp 1 [IN_PROGRESS: ACTIVE] Test Exp - Test Exp Descr"
      ]
     },
     "execution_count": 43,
     "metadata": {},
     "output_type": "execute_result"
    }
   ],
   "source": [
    "xman.proj.exp('1.1')"
   ]
  },
  {
   "cell_type": "code",
   "execution_count": 44,
   "id": "e1970f90",
   "metadata": {},
   "outputs": [
    {
     "name": "stdout",
     "output_type": "stream",
     "text": [
      "Proj [DONE] Test Project - This is a test experimental project\n",
      "\n",
      "    Group 1 [DONE] Test Group - Test group descr\n",
      "        Exp 1 [DONE] Test Exp - Test Exp Descr\n"
     ]
    }
   ],
   "source": [
    "xman.proj.info()"
   ]
  },
  {
   "cell_type": "code",
   "execution_count": null,
   "id": "a658d39f",
   "metadata": {},
   "outputs": [],
   "source": []
  },
  {
   "cell_type": "code",
   "execution_count": 5,
   "id": "07c62d82",
   "metadata": {},
   "outputs": [
    {
     "data": {
      "text/plain": [
       "Exp 2 [EMPTY] Another New Exp - Another new exp descr"
      ]
     },
     "execution_count": 5,
     "metadata": {},
     "output_type": "execute_result"
    }
   ],
   "source": [
    "xman.proj.group(1).make_exp(\"Another New Exp\", \"Another new exp descr\")"
   ]
  },
  {
   "cell_type": "code",
   "execution_count": 19,
   "id": "d2223729",
   "metadata": {},
   "outputs": [
    {
     "name": "stdout",
     "output_type": "stream",
     "text": [
      "ACHTUNG! Remove `gitignore/experiments/group1\\exp2` dir with all its content? (y/n) y\n"
     ]
    }
   ],
   "source": [
    "xman.proj.group(1).remove_exp(2)"
   ]
  },
  {
   "cell_type": "code",
   "execution_count": 17,
   "id": "6a3b3b8b",
   "metadata": {},
   "outputs": [],
   "source": [
    "xman.proj.exp('1.2').set_manual_status('TODO', 'todoooooooo')"
   ]
  },
  {
   "cell_type": "code",
   "execution_count": null,
   "id": "55a17ab2",
   "metadata": {},
   "outputs": [],
   "source": []
  },
  {
   "cell_type": "code",
   "execution_count": 9,
   "id": "38f17699",
   "metadata": {},
   "outputs": [],
   "source": [
    "xman.proj.exp(1.1).set_manual_status('TODO', 'gooooooo')"
   ]
  },
  {
   "cell_type": "code",
   "execution_count": null,
   "id": "e1926ba2",
   "metadata": {},
   "outputs": [],
   "source": []
  },
  {
   "cell_type": "code",
   "execution_count": null,
   "id": "cbcf793d",
   "metadata": {},
   "outputs": [],
   "source": []
  },
  {
   "cell_type": "code",
   "execution_count": null,
   "id": "35a0da88",
   "metadata": {},
   "outputs": [],
   "source": []
  },
  {
   "cell_type": "code",
   "execution_count": 17,
   "id": "a31236b4",
   "metadata": {},
   "outputs": [
    {
     "data": {
      "text/plain": [
       "Exp 2 [EMPTY] hjgfhjgj - gkhjkhk"
      ]
     },
     "execution_count": 17,
     "metadata": {},
     "output_type": "execute_result"
    }
   ],
   "source": [
    "xman.proj.make_exp(1, 'hjgfhjgj', 'gkhjkhk')"
   ]
  },
  {
   "cell_type": "code",
   "execution_count": 28,
   "id": "683ee50a",
   "metadata": {},
   "outputs": [],
   "source": [
    "xman.proj.exp('1.1').set_manual_status('TODO', 'sdfsdfsdf')"
   ]
  },
  {
   "cell_type": "code",
   "execution_count": 26,
   "id": "cdc0b260",
   "metadata": {},
   "outputs": [],
   "source": [
    "xman.proj.group(1).set_manual_status('DONE', 'cxzdffesff')"
   ]
  },
  {
   "cell_type": "code",
   "execution_count": null,
   "id": "07badc66",
   "metadata": {},
   "outputs": [],
   "source": []
  },
  {
   "cell_type": "code",
   "execution_count": 73,
   "id": "0948865b",
   "metadata": {},
   "outputs": [
    {
     "data": {
      "text/plain": [
       "Exp 1 [TODO *] Test Exp - Test exp descr"
      ]
     },
     "execution_count": 73,
     "metadata": {},
     "output_type": "execute_result"
    }
   ],
   "source": [
    "xman.proj.exp('1.1')"
   ]
  },
  {
   "cell_type": "code",
   "execution_count": 79,
   "id": "c37aa3d7",
   "metadata": {},
   "outputs": [
    {
     "data": {
      "text/plain": [
       "Group 1 [EMPTY] Test Group - Test group descr\n",
       "    Exp 1 [EMPTY] Test Exp - Test exp descr\n",
       "    Exp 2 [EMPTY] Another New Exp - Another new exp descr"
      ]
     },
     "execution_count": 79,
     "metadata": {},
     "output_type": "execute_result"
    }
   ],
   "source": [
    "xman.proj.group(1)"
   ]
  },
  {
   "cell_type": "code",
   "execution_count": null,
   "id": "f08b7898",
   "metadata": {},
   "outputs": [],
   "source": []
  },
  {
   "cell_type": "code",
   "execution_count": 80,
   "id": "8b50d8e2",
   "metadata": {},
   "outputs": [
    {
     "ename": "ValueError",
     "evalue": "The workflow `('EMPTY', 'TODO', 'IN_PROGRESS', ('DONE', 'ERROR'), ('SUCCESS', 'FAIL'))` doesn't have status `FAILED`!",
     "output_type": "error",
     "traceback": [
      "\u001b[1;31m---------------------------------------------------------------------------\u001b[0m",
      "\u001b[1;31mValueError\u001b[0m                                Traceback (most recent call last)",
      "Cell \u001b[1;32mIn[80], line 1\u001b[0m\n\u001b[1;32m----> 1\u001b[0m \u001b[43mxman\u001b[49m\u001b[38;5;241;43m.\u001b[39;49m\u001b[43mproj\u001b[49m\u001b[38;5;241;43m.\u001b[39;49m\u001b[43mexp\u001b[49m\u001b[43m(\u001b[49m\u001b[38;5;124;43m'\u001b[39;49m\u001b[38;5;124;43m1.2\u001b[39;49m\u001b[38;5;124;43m'\u001b[39;49m\u001b[43m)\u001b[49m\u001b[38;5;241;43m.\u001b[39;49m\u001b[43mset_manual_status\u001b[49m\u001b[43m(\u001b[49m\u001b[38;5;124;43m'\u001b[39;49m\u001b[38;5;124;43mFAILED\u001b[39;49m\u001b[38;5;124;43m'\u001b[39;49m\u001b[43m,\u001b[49m\u001b[43m \u001b[49m\u001b[38;5;124;43m'\u001b[39;49m\u001b[38;5;124;43mTest wrong status\u001b[39;49m\u001b[38;5;124;43m'\u001b[39;49m\u001b[43m)\u001b[49m\n",
      "File \u001b[1;32mC:\\workspace\\xman\\src\\xman\\struct.py:180\u001b[0m, in \u001b[0;36mExpStruct.set_manual_status\u001b[1;34m(self, status, resolution)\u001b[0m\n\u001b[0;32m    178\u001b[0m \u001b[38;5;28;01mdef\u001b[39;00m \u001b[38;5;21mset_manual_status\u001b[39m(\u001b[38;5;28mself\u001b[39m, status: \u001b[38;5;28mstr\u001b[39m, resolution: \u001b[38;5;28mstr\u001b[39m):\n\u001b[0;32m    179\u001b[0m     \u001b[38;5;28mself\u001b[39m\u001b[38;5;241m.\u001b[39m_update()\n\u001b[1;32m--> 180\u001b[0m     \u001b[38;5;28mself\u001b[39m\u001b[38;5;241m.\u001b[39mstatus \u001b[38;5;241m=\u001b[39m \u001b[43mExpStructStatus\u001b[49m\u001b[43m(\u001b[49m\u001b[43mstatus\u001b[49m\u001b[43m,\u001b[49m\u001b[43m \u001b[49m\u001b[43mresolution\u001b[49m\u001b[43m,\u001b[49m\u001b[43m \u001b[49m\u001b[38;5;28;43;01mTrue\u001b[39;49;00m\u001b[43m)\u001b[49m\n\u001b[0;32m    181\u001b[0m     \u001b[38;5;28mself\u001b[39m\u001b[38;5;241m.\u001b[39m_data\u001b[38;5;241m.\u001b[39mmanual_status \u001b[38;5;241m=\u001b[39m status\n\u001b[0;32m    182\u001b[0m     \u001b[38;5;28mself\u001b[39m\u001b[38;5;241m.\u001b[39m_data\u001b[38;5;241m.\u001b[39mmanual_status_resolution \u001b[38;5;241m=\u001b[39m resolution\n",
      "File \u001b[1;32mC:\\workspace\\xman\\src\\xman\\struct.py:54\u001b[0m, in \u001b[0;36mExpStructStatus.__init__\u001b[1;34m(self, status, resolution, manual)\u001b[0m\n\u001b[0;32m     53\u001b[0m \u001b[38;5;28;01mdef\u001b[39;00m \u001b[38;5;21m__init__\u001b[39m(\u001b[38;5;28mself\u001b[39m, status: \u001b[38;5;28mstr\u001b[39m, resolution: \u001b[38;5;28mstr\u001b[39m \u001b[38;5;241m=\u001b[39m \u001b[38;5;28;01mNone\u001b[39;00m, manual: \u001b[38;5;28mbool\u001b[39m \u001b[38;5;241m=\u001b[39m \u001b[38;5;28;01mFalse\u001b[39;00m):\n\u001b[1;32m---> 54\u001b[0m     \u001b[38;5;28;43mself\u001b[39;49m\u001b[38;5;241;43m.\u001b[39;49m\u001b[43m__check\u001b[49m\u001b[43m(\u001b[49m\u001b[43mstatus\u001b[49m\u001b[43m,\u001b[49m\u001b[43m \u001b[49m\u001b[43mresolution\u001b[49m\u001b[43m)\u001b[49m\n\u001b[0;32m     55\u001b[0m     \u001b[38;5;28mself\u001b[39m\u001b[38;5;241m.\u001b[39mstatus \u001b[38;5;241m=\u001b[39m status\n\u001b[0;32m     56\u001b[0m     \u001b[38;5;28mself\u001b[39m\u001b[38;5;241m.\u001b[39mresolution \u001b[38;5;241m=\u001b[39m resolution\n",
      "File \u001b[1;32mC:\\workspace\\xman\\src\\xman\\struct.py:67\u001b[0m, in \u001b[0;36mExpStructStatus.__check\u001b[1;34m(self, status, resolution)\u001b[0m\n\u001b[0;32m     65\u001b[0m \u001b[38;5;28;01mdef\u001b[39;00m \u001b[38;5;21m__check\u001b[39m(\u001b[38;5;28mself\u001b[39m, status, resolution):\n\u001b[0;32m     66\u001b[0m     \u001b[38;5;28;01mif\u001b[39;00m \u001b[38;5;129;01mnot\u001b[39;00m ExpStructStatus\u001b[38;5;241m.\u001b[39m__has_workflow_status(\u001b[38;5;28mself\u001b[39m\u001b[38;5;241m.\u001b[39mworkflow, status):\n\u001b[1;32m---> 67\u001b[0m         \u001b[38;5;28;01mraise\u001b[39;00m \u001b[38;5;167;01mValueError\u001b[39;00m(\u001b[38;5;124mf\u001b[39m\u001b[38;5;124m\"\u001b[39m\u001b[38;5;124mThe workflow `\u001b[39m\u001b[38;5;132;01m{\u001b[39;00m\u001b[38;5;28mself\u001b[39m\u001b[38;5;241m.\u001b[39mworkflow\u001b[38;5;132;01m}\u001b[39;00m\u001b[38;5;124m` doesn\u001b[39m\u001b[38;5;124m'\u001b[39m\u001b[38;5;124mt have status `\u001b[39m\u001b[38;5;132;01m{\u001b[39;00mstatus\u001b[38;5;132;01m}\u001b[39;00m\u001b[38;5;124m`!\u001b[39m\u001b[38;5;124m\"\u001b[39m)\n\u001b[0;32m     68\u001b[0m     \u001b[38;5;28;01mif\u001b[39;00m status \u001b[38;5;129;01min\u001b[39;00m (ExpStructStatus\u001b[38;5;241m.\u001b[39mSUCCESS, ExpStructStatus\u001b[38;5;241m.\u001b[39mFAIL) \u001b[38;5;129;01mand\u001b[39;00m resolution \u001b[38;5;129;01mis\u001b[39;00m \u001b[38;5;28;01mNone\u001b[39;00m:\n\u001b[0;32m     69\u001b[0m         \u001b[38;5;28;01mraise\u001b[39;00m \u001b[38;5;167;01mValueError\u001b[39;00m(\u001b[38;5;124mf\u001b[39m\u001b[38;5;124m\"\u001b[39m\u001b[38;5;124mSUCCESS and FAIL manual statuses require setting resolutions!\u001b[39m\u001b[38;5;124m\"\u001b[39m)\n",
      "\u001b[1;31mValueError\u001b[0m: The workflow `('EMPTY', 'TODO', 'IN_PROGRESS', ('DONE', 'ERROR'), ('SUCCESS', 'FAIL'))` doesn't have status `FAILED`!"
     ]
    }
   ],
   "source": [
    "xman.proj.exp('1.2').set_manual_status('FAILED', 'Test wrong status')"
   ]
  },
  {
   "cell_type": "code",
   "execution_count": 81,
   "id": "e4f9af5b",
   "metadata": {},
   "outputs": [],
   "source": [
    "xman.proj.exp('1.2').set_manual_status('FAIL', 'test')"
   ]
  },
  {
   "cell_type": "code",
   "execution_count": 82,
   "id": "4d943907",
   "metadata": {},
   "outputs": [
    {
     "name": "stdout",
     "output_type": "stream",
     "text": [
      "Exp 2 [FAIL *] Another New Exp - Another new exp descr\n",
      "    Resolution: test\n"
     ]
    }
   ],
   "source": [
    "xman.proj.exp('1.2').info()"
   ]
  },
  {
   "cell_type": "code",
   "execution_count": 69,
   "id": "a7fc5df5",
   "metadata": {},
   "outputs": [
    {
     "ename": "ValueError",
     "evalue": "The workflow `('EMPTY', 'TODO', 'IN_PROGRESS', ('DONE', 'ERROR'), ('SUCCESS', 'FAIL'))` doesn't have status `FAILED`!",
     "output_type": "error",
     "traceback": [
      "\u001b[1;31m---------------------------------------------------------------------------\u001b[0m",
      "\u001b[1;31mValueError\u001b[0m                                Traceback (most recent call last)",
      "Cell \u001b[1;32mIn[69], line 1\u001b[0m\n\u001b[1;32m----> 1\u001b[0m \u001b[43mxman\u001b[49m\u001b[38;5;241;43m.\u001b[39;49m\u001b[43mproj\u001b[49m\u001b[38;5;241;43m.\u001b[39;49m\u001b[43mexp\u001b[49m\u001b[43m(\u001b[49m\u001b[38;5;124;43m'\u001b[39;49m\u001b[38;5;124;43m1.2\u001b[39;49m\u001b[38;5;124;43m'\u001b[39;49m\u001b[43m)\u001b[49m\u001b[38;5;241;43m.\u001b[39;49m\u001b[43mremove_manual_status\u001b[49m\u001b[43m(\u001b[49m\u001b[43m)\u001b[49m\n",
      "File \u001b[1;32mC:\\workspace\\xman\\src\\xman\\struct.py:179\u001b[0m, in \u001b[0;36mExpStruct.remove_manual_status\u001b[1;34m(self)\u001b[0m\n\u001b[0;32m    178\u001b[0m \u001b[38;5;28;01mdef\u001b[39;00m \u001b[38;5;21mremove_manual_status\u001b[39m(\u001b[38;5;28mself\u001b[39m):\n\u001b[1;32m--> 179\u001b[0m     \u001b[38;5;28;43mself\u001b[39;49m\u001b[38;5;241;43m.\u001b[39;49m\u001b[43m_update\u001b[49m\u001b[43m(\u001b[49m\u001b[43m)\u001b[49m\n\u001b[0;32m    180\u001b[0m     \u001b[38;5;28mself\u001b[39m\u001b[38;5;241m.\u001b[39m_data\u001b[38;5;241m.\u001b[39mmanual_status \u001b[38;5;241m=\u001b[39m \u001b[38;5;28;01mNone\u001b[39;00m\n\u001b[0;32m    181\u001b[0m     \u001b[38;5;28mself\u001b[39m\u001b[38;5;241m.\u001b[39m_data\u001b[38;5;241m.\u001b[39mmanual_status_resolution \u001b[38;5;241m=\u001b[39m \u001b[38;5;28;01mNone\u001b[39;00m\n",
      "File \u001b[1;32mC:\\workspace\\xman\\src\\xman\\exp.py:85\u001b[0m, in \u001b[0;36mExp._update\u001b[1;34m(self)\u001b[0m\n\u001b[0;32m     84\u001b[0m \u001b[38;5;28;01mdef\u001b[39;00m \u001b[38;5;21m_update\u001b[39m(\u001b[38;5;28mself\u001b[39m):\n\u001b[1;32m---> 85\u001b[0m     \u001b[38;5;28;43msuper\u001b[39;49m\u001b[43m(\u001b[49m\u001b[43m)\u001b[49m\u001b[38;5;241;43m.\u001b[39;49m\u001b[43m_update\u001b[49m\u001b[43m(\u001b[49m\u001b[43m)\u001b[49m\n\u001b[0;32m     86\u001b[0m     \u001b[38;5;28;01mif\u001b[39;00m \u001b[38;5;28mself\u001b[39m\u001b[38;5;241m.\u001b[39m_data\u001b[38;5;241m.\u001b[39mmanual_status \u001b[38;5;129;01mis\u001b[39;00m \u001b[38;5;28;01mNone\u001b[39;00m:\n\u001b[0;32m     87\u001b[0m         resolution \u001b[38;5;241m=\u001b[39m ExpStruct\u001b[38;5;241m.\u001b[39m_AUTO_STATUS_RESOLUTION\n",
      "File \u001b[1;32mC:\\workspace\\xman\\src\\xman\\struct.py:137\u001b[0m, in \u001b[0;36mExpStruct._update\u001b[1;34m(self)\u001b[0m\n\u001b[0;32m    135\u001b[0m     \u001b[38;5;28mself\u001b[39m\u001b[38;5;241m.\u001b[39m__load_data()\n\u001b[0;32m    136\u001b[0m \u001b[38;5;28;01mif\u001b[39;00m \u001b[38;5;28mself\u001b[39m\u001b[38;5;241m.\u001b[39m_data\u001b[38;5;241m.\u001b[39mmanual_status \u001b[38;5;129;01mis\u001b[39;00m \u001b[38;5;129;01mnot\u001b[39;00m \u001b[38;5;28;01mNone\u001b[39;00m:\n\u001b[1;32m--> 137\u001b[0m     \u001b[38;5;28mself\u001b[39m\u001b[38;5;241m.\u001b[39mstatus \u001b[38;5;241m=\u001b[39m \u001b[43mExpStructStatus\u001b[49m\u001b[43m(\u001b[49m\u001b[38;5;28;43mself\u001b[39;49m\u001b[38;5;241;43m.\u001b[39;49m\u001b[43m_data\u001b[49m\u001b[38;5;241;43m.\u001b[39;49m\u001b[43mmanual_status\u001b[49m\u001b[43m,\u001b[49m\u001b[43m \u001b[49m\u001b[38;5;28;43mself\u001b[39;49m\u001b[38;5;241;43m.\u001b[39;49m\u001b[43m_data\u001b[49m\u001b[38;5;241;43m.\u001b[39;49m\u001b[43mmanual_status_resolution\u001b[49m\u001b[43m,\u001b[49m\u001b[43m \u001b[49m\u001b[43mmanual\u001b[49m\u001b[38;5;241;43m=\u001b[39;49m\u001b[38;5;28;43;01mTrue\u001b[39;49;00m\u001b[43m)\u001b[49m\n",
      "File \u001b[1;32mC:\\workspace\\xman\\src\\xman\\struct.py:49\u001b[0m, in \u001b[0;36mExpStructStatus.__init__\u001b[1;34m(self, status, resolution, manual)\u001b[0m\n\u001b[0;32m     48\u001b[0m \u001b[38;5;28;01mdef\u001b[39;00m \u001b[38;5;21m__init__\u001b[39m(\u001b[38;5;28mself\u001b[39m, status: \u001b[38;5;28mstr\u001b[39m, resolution: \u001b[38;5;28mstr\u001b[39m \u001b[38;5;241m=\u001b[39m \u001b[38;5;28;01mNone\u001b[39;00m, manual: \u001b[38;5;28mbool\u001b[39m \u001b[38;5;241m=\u001b[39m \u001b[38;5;28;01mFalse\u001b[39;00m):\n\u001b[1;32m---> 49\u001b[0m     \u001b[38;5;28;43mself\u001b[39;49m\u001b[38;5;241;43m.\u001b[39;49m\u001b[43m__check\u001b[49m\u001b[43m(\u001b[49m\u001b[43mstatus\u001b[49m\u001b[43m,\u001b[49m\u001b[43m \u001b[49m\u001b[43mresolution\u001b[49m\u001b[43m)\u001b[49m\n\u001b[0;32m     50\u001b[0m     \u001b[38;5;28mself\u001b[39m\u001b[38;5;241m.\u001b[39mstatus \u001b[38;5;241m=\u001b[39m status\n\u001b[0;32m     51\u001b[0m     \u001b[38;5;28mself\u001b[39m\u001b[38;5;241m.\u001b[39mresolution \u001b[38;5;241m=\u001b[39m resolution\n",
      "File \u001b[1;32mC:\\workspace\\xman\\src\\xman\\struct.py:62\u001b[0m, in \u001b[0;36mExpStructStatus.__check\u001b[1;34m(self, status, resolution)\u001b[0m\n\u001b[0;32m     60\u001b[0m \u001b[38;5;28;01mdef\u001b[39;00m \u001b[38;5;21m__check\u001b[39m(\u001b[38;5;28mself\u001b[39m, status, resolution):\n\u001b[0;32m     61\u001b[0m     \u001b[38;5;28;01mif\u001b[39;00m \u001b[38;5;129;01mnot\u001b[39;00m ExpStructStatus\u001b[38;5;241m.\u001b[39m__has_workflow_status(\u001b[38;5;28mself\u001b[39m\u001b[38;5;241m.\u001b[39mworkflow, status):\n\u001b[1;32m---> 62\u001b[0m         \u001b[38;5;28;01mraise\u001b[39;00m \u001b[38;5;167;01mValueError\u001b[39;00m(\u001b[38;5;124mf\u001b[39m\u001b[38;5;124m\"\u001b[39m\u001b[38;5;124mThe workflow `\u001b[39m\u001b[38;5;132;01m{\u001b[39;00m\u001b[38;5;28mself\u001b[39m\u001b[38;5;241m.\u001b[39mworkflow\u001b[38;5;132;01m}\u001b[39;00m\u001b[38;5;124m` doesn\u001b[39m\u001b[38;5;124m'\u001b[39m\u001b[38;5;124mt have status `\u001b[39m\u001b[38;5;132;01m{\u001b[39;00mstatus\u001b[38;5;132;01m}\u001b[39;00m\u001b[38;5;124m`!\u001b[39m\u001b[38;5;124m\"\u001b[39m)\n\u001b[0;32m     63\u001b[0m     \u001b[38;5;28;01mif\u001b[39;00m status \u001b[38;5;129;01min\u001b[39;00m (ExpStructStatus\u001b[38;5;241m.\u001b[39mSUCCESS, ExpStructStatus\u001b[38;5;241m.\u001b[39mFAIL) \u001b[38;5;129;01mand\u001b[39;00m resolution \u001b[38;5;129;01mis\u001b[39;00m \u001b[38;5;28;01mNone\u001b[39;00m:\n\u001b[0;32m     64\u001b[0m         \u001b[38;5;28;01mraise\u001b[39;00m \u001b[38;5;167;01mValueError\u001b[39;00m(\u001b[38;5;124mf\u001b[39m\u001b[38;5;124m\"\u001b[39m\u001b[38;5;124mSUCCESS and FAIL manual statuses require setting resolutions!\u001b[39m\u001b[38;5;124m\"\u001b[39m)\n",
      "\u001b[1;31mValueError\u001b[0m: The workflow `('EMPTY', 'TODO', 'IN_PROGRESS', ('DONE', 'ERROR'), ('SUCCESS', 'FAIL'))` doesn't have status `FAILED`!"
     ]
    }
   ],
   "source": [
    "xman.proj.exp('1.2').remove_manual_status()"
   ]
  },
  {
   "cell_type": "code",
   "execution_count": 71,
   "id": "2d677f9e",
   "metadata": {},
   "outputs": [],
   "source": [
    "xman.proj.set_manual_status('FAIL', \"dsfsdfsdfds\")"
   ]
  },
  {
   "cell_type": "code",
   "execution_count": 9,
   "id": "d58f0029",
   "metadata": {},
   "outputs": [
    {
     "name": "stdout",
     "output_type": "stream",
     "text": [
      "Proj [SUCCESS] Test Project - Test project descr    \n",
      "    Resolution: -= auto status =-    \n",
      "    \n",
      "    Group 1 [SUCCESS] Test Group - Test group descr    \n",
      "        Resolution: -= auto status =-    \n",
      "        \n",
      "        Exp 1 [SUCCESS *] Test Exp - Test exp descr    \n",
      "            Resolution: Everything is ok    \n",
      "            Result:\n",
      "                DCG@   1: 0.250 | Hits@   1: 0.250\n",
      "                DCG@   5: 0.316 | Hits@   5: 0.376\n",
      "                DCG@  10: 0.339 | Hits@  10: 0.448\n",
      "                DCG@ 100: 0.389 | Hits@ 100: 0.691\n",
      "                DCG@ 500: 0.419 | Hits@ 500: 0.927\n",
      "                DCG@1000: 0.427 | Hits@1000: 1.000    \n",
      "        \n",
      "        Exp 2 [SUCCESS *] Another New Exp - Another new exp descr    \n",
      "            Resolution: Everything is ok    \n",
      "            Result:\n",
      "                DCG@   1: 0.250 | Hits@   1: 0.250\n",
      "                DCG@   5: 0.316 | Hits@   5: 0.376\n",
      "                DCG@  10: 0.339 | Hits@  10: 0.448\n",
      "                DCG@ 100: 0.389 | Hits@ 100: 0.691\n",
      "                DCG@ 500: 0.419 | Hits@ 500: 0.927\n",
      "                DCG@1000: 0.427 | Hits@1000: 1.000\n"
     ]
    }
   ],
   "source": [
    "xman.proj.info()"
   ]
  },
  {
   "cell_type": "code",
   "execution_count": 85,
   "id": "921406a5",
   "metadata": {},
   "outputs": [
    {
     "data": {
      "text/plain": [
       "TODO"
      ]
     },
     "execution_count": 85,
     "metadata": {},
     "output_type": "execute_result"
    }
   ],
   "source": [
    "xman.proj.status"
   ]
  },
  {
   "cell_type": "code",
   "execution_count": 86,
   "id": "f27664da",
   "metadata": {},
   "outputs": [
    {
     "data": {
      "text/plain": [
       "TODO *"
      ]
     },
     "execution_count": 86,
     "metadata": {},
     "output_type": "execute_result"
    }
   ],
   "source": [
    "xman.proj.group(1).set_manual_status(\"TODO\", \"dfasdfsd\")\n",
    "xman.proj.group(1).status"
   ]
  },
  {
   "cell_type": "code",
   "execution_count": null,
   "id": "661e9832",
   "metadata": {},
   "outputs": [],
   "source": []
  },
  {
   "cell_type": "code",
   "execution_count": 38,
   "id": "252850a1",
   "metadata": {},
   "outputs": [
    {
     "name": "stdout",
     "output_type": "stream",
     "text": [
      "Exp 1 [SUCCESS *] Test Exp - Test exp descr\n",
      "    Resolution: Everything is ok    \n",
      "    Result:\n",
      "        DCG@   1: 0.250 | Hits@   1: 0.250\n",
      "        DCG@   5: 0.316 | Hits@   5: 0.376\n",
      "        DCG@  10: 0.339 | Hits@  10: 0.448\n",
      "        DCG@ 100: 0.389 | Hits@ 100: 0.691\n",
      "        DCG@ 500: 0.419 | Hits@ 500: 0.927\n",
      "        DCG@1000: 0.427 | Hits@1000: 1.000\n"
     ]
    }
   ],
   "source": [
    "xman.proj.group(1).exp(1).info()"
   ]
  },
  {
   "cell_type": "code",
   "execution_count": 37,
   "id": "ec69c2e5",
   "metadata": {
    "scrolled": true
   },
   "outputs": [
    {
     "name": "stdout",
     "output_type": "stream",
     "text": [
      "Group 1 [SUCCESS] Test Group - Test group descr\n",
      "    Resolution: -= auto status =-\n",
      "    \n",
      "    Exp 1 [SUCCESS *] Test Exp - Test exp descr\n",
      "        Resolution: Everything is ok    \n",
      "        Result:\n",
      "            DCG@   1: 0.250 | Hits@   1: 0.250\n",
      "            DCG@   5: 0.316 | Hits@   5: 0.376\n",
      "            DCG@  10: 0.339 | Hits@  10: 0.448\n",
      "            DCG@ 100: 0.389 | Hits@ 100: 0.691\n",
      "            DCG@ 500: 0.419 | Hits@ 500: 0.927\n",
      "            DCG@1000: 0.427 | Hits@1000: 1.000\n"
     ]
    }
   ],
   "source": [
    "xman.proj.group(1).info()"
   ]
  },
  {
   "cell_type": "code",
   "execution_count": 20,
   "id": "b21231ee",
   "metadata": {},
   "outputs": [
    {
     "name": "stdout",
     "output_type": "stream",
     "text": [
      "Proj [SUCCESS] Test Project - Test project descr    \n",
      "    Resolution: -= auto status =-    \n",
      "    \n",
      "    Group 1 [SUCCESS] Test Group - Test group descr    \n",
      "        Resolution: -= auto status =-    \n",
      "        \n",
      "        Exp 1 [SUCCESS *] Test Exp - Test exp descr    \n",
      "            Resolution: dsfasdf\n"
     ]
    }
   ],
   "source": [
    "xman.proj.info()"
   ]
  },
  {
   "cell_type": "code",
   "execution_count": null,
   "id": "6e48af23",
   "metadata": {},
   "outputs": [],
   "source": []
  },
  {
   "cell_type": "code",
   "execution_count": 6,
   "id": "b45b1891",
   "metadata": {},
   "outputs": [],
   "source": [
    "result = '''DCG@   1: 0.250 | Hits@   1: 0.250\n",
    "DCG@   5: 0.316 | Hits@   5: 0.376\n",
    "DCG@  10: 0.339 | Hits@  10: 0.448\n",
    "DCG@ 100: 0.389 | Hits@ 100: 0.691\n",
    "DCG@ 500: 0.419 | Hits@ 500: 0.927\n",
    "DCG@1000: 0.427 | Hits@1000: 1.000'''\n",
    "\n",
    "xman.proj.group(1).exp(2).set_manual_result(result)\n",
    "xman.proj.group(1).exp(2).success('Everything is ok')"
   ]
  },
  {
   "cell_type": "code",
   "execution_count": 29,
   "id": "6ce69b28",
   "metadata": {},
   "outputs": [
    {
     "data": {
      "text/plain": [
       "Exp 1 [SUCCESS *] Test Exp - Test exp descr"
      ]
     },
     "execution_count": 29,
     "metadata": {},
     "output_type": "execute_result"
    }
   ],
   "source": [
    "xman.proj.exp('1.1').success('dsfasdf')"
   ]
  },
  {
   "cell_type": "code",
   "execution_count": 14,
   "id": "07c0a0ce",
   "metadata": {},
   "outputs": [
    {
     "data": {
      "text/plain": [
       "Exp 1 [FAIL *] Test Exp - Test exp descr"
      ]
     },
     "execution_count": 14,
     "metadata": {},
     "output_type": "execute_result"
    }
   ],
   "source": [
    "xman.proj.exp('1.1').remove_manual_status().set_manual_status('FAIL', 'ewrewqr')"
   ]
  },
  {
   "cell_type": "code",
   "execution_count": 16,
   "id": "54738307",
   "metadata": {},
   "outputs": [
    {
     "data": {
      "text/plain": [
       "Exp 2 [EMPTY] fdsf - sdfsdf"
      ]
     },
     "execution_count": 16,
     "metadata": {},
     "output_type": "execute_result"
    }
   ],
   "source": [
    "xman.proj.group(1).make_exp('fdsf', 'sdfsdf')"
   ]
  },
  {
   "cell_type": "code",
   "execution_count": 19,
   "id": "68776c43",
   "metadata": {},
   "outputs": [
    {
     "name": "stdout",
     "output_type": "stream",
     "text": [
      "ACHTUNG! Remove `gitignore/experiments/group1\\exp2` dir with all its content? (y/n) y\n"
     ]
    },
    {
     "data": {
      "text/plain": [
       "Exp 2 [EMPTY] fdsf - sdfsdf"
      ]
     },
     "execution_count": 19,
     "metadata": {},
     "output_type": "execute_result"
    }
   ],
   "source": [
    "xman.proj.group(1).remove_exp(2)"
   ]
  },
  {
   "cell_type": "raw",
   "id": "32471d45",
   "metadata": {},
   "source": []
  },
  {
   "cell_type": "code",
   "execution_count": 22,
   "id": "07dabd1b",
   "metadata": {},
   "outputs": [
    {
     "name": "stdout",
     "output_type": "stream",
     "text": [
      "ACHTUNG! Remove the manual status of exp `Exp 1 [SUCCESS *] Test Exp - Test exp descr`? (y/n) y\n"
     ]
    },
    {
     "data": {
      "text/plain": [
       "Exp 1 [EMPTY] Test Exp - Test exp descr"
      ]
     },
     "execution_count": 22,
     "metadata": {},
     "output_type": "execute_result"
    }
   ],
   "source": [
    "xman.proj.exp('1.1').remove_manual_status()"
   ]
  }
 ],
 "metadata": {
  "kernelspec": {
   "display_name": "Python 3 (ipykernel)",
   "language": "python",
   "name": "python3"
  },
  "language_info": {
   "codemirror_mode": {
    "name": "ipython",
    "version": 3
   },
   "file_extension": ".py",
   "mimetype": "text/x-python",
   "name": "python",
   "nbconvert_exporter": "python",
   "pygments_lexer": "ipython3",
   "version": "3.10.9"
  }
 },
 "nbformat": 4,
 "nbformat_minor": 5
}
