{
 "cells": [
  {
   "cell_type": "code",
   "execution_count": 1,
   "id": "b6a2d07c",
   "metadata": {
    "scrolled": true
   },
   "outputs": [],
   "source": [
    "%load_ext autoreload\n",
    "%autoreload 2\n",
    "\n",
    "import os\n",
    "import sys\n",
    "\n",
    "module_path = os.path.abspath(os.path.join('src'))\n",
    "sys.path.insert(0, module_path)"
   ]
  },
  {
   "cell_type": "code",
   "execution_count": 2,
   "id": "afe39168",
   "metadata": {},
   "outputs": [],
   "source": [
    "import xman\n",
    "\n",
    "PROJ_DIR = 'gitignore/experiments/'"
   ]
  },
  {
   "cell_type": "code",
   "execution_count": 3,
   "id": "bacd255e",
   "metadata": {},
   "outputs": [
    {
     "name": "stdout",
     "output_type": "stream",
     "text": [
      "\n",
      "experiments/\n",
      "    .data\n",
      "    .time\n",
      "    group1/\n",
      "        .data\n",
      "        .time\n",
      "        exp1/\n",
      "            .data\n",
      "            .time\n",
      "\n",
      "Proj [EMPTY] Test Project - Test project descr    \n",
      "    Resolution: -= auto status =-    \n",
      "    \n",
      "    Group 1 [EMPTY] Test Group - Test group descr    \n",
      "        Resolution: -= auto status =-    \n",
      "        \n",
      "        Exp 1 [EMPTY] Test Exp - Test exp descr    \n",
      "            Resolution: -= auto status =-\n"
     ]
    }
   ],
   "source": [
    "import shutil\n",
    "\n",
    "create_new = True\n",
    "if create_new:\n",
    "    if os.path.exists(PROJ_DIR):\n",
    "        shutil.rmtree(PROJ_DIR)\n",
    "    xman.make_proj(PROJ_DIR, 'Test Project', \"Test project descr\")\n",
    "    xman.proj.make_group(\"Test Group\", \"Test group descr\")\n",
    "    xman.proj.group(1).make_exp(\"Test Exp\", \"Test exp descr\")\n",
    "else:\n",
    "    xman.load_proj(PROJ_DIR)\n",
    "xman.dir_tree(PROJ_DIR)\n",
    "xman.proj.info()"
   ]
  },
  {
   "cell_type": "code",
   "execution_count": 23,
   "id": "3931db1b",
   "metadata": {},
   "outputs": [],
   "source": [
    "def train(pulse, p1, p2, np1=None, np2=None):\n",
    "    print(\"train started\")\n",
    "    import time\n",
    "    time.sleep(3)\n",
    "    pulse()\n",
    "    print(\"train is still in progress...\")\n",
    "    result = f\"p1={p1}, p2={p2}, np1={np1}, np2={np2}\"\n",
    "    time.sleep(3)\n",
    "    print(f\"train finished with result `{result}`\")\n",
    "    return result\n",
    "\n",
    "params = {\n",
    "    'p1': 1,\n",
    "    'p2': 2,\n",
    "    'np1': 3,\n",
    "    'np2': 4,\n",
    "}"
   ]
  },
  {
   "cell_type": "code",
   "execution_count": 26,
   "id": "ee1a734b",
   "metadata": {},
   "outputs": [
    {
     "name": "stdout",
     "output_type": "stream",
     "text": [
      "ACHTUNG! Remove the pipeline of exp `Exp 1 [TODO] Test Exp - Test exp descr`? (y/n) y\n"
     ]
    },
    {
     "data": {
      "text/plain": [
       "Exp 1 [TODO] Test Exp - Test exp descr"
      ]
     },
     "execution_count": 26,
     "metadata": {},
     "output_type": "execute_result"
    }
   ],
   "source": [
    "xman.proj.exp('1.1').remove_pipeline().make_pipeline(train, params)\n",
    "xman.proj.exp('1.1').start()"
   ]
  },
  {
   "cell_type": "code",
   "execution_count": null,
   "id": "7e97519f",
   "metadata": {},
   "outputs": [],
   "source": []
  },
  {
   "cell_type": "code",
   "execution_count": 4,
   "id": "573648b3",
   "metadata": {},
   "outputs": [
    {
     "data": {
      "text/plain": [
       "Proj [EMPTY] Test Project - Test project descr"
      ]
     },
     "execution_count": 4,
     "metadata": {},
     "output_type": "execute_result"
    }
   ],
   "source": [
    "xman.proj"
   ]
  },
  {
   "cell_type": "code",
   "execution_count": 5,
   "id": "e8b27ed7",
   "metadata": {},
   "outputs": [],
   "source": [
    "group = xman.proj.group(1)"
   ]
  },
  {
   "cell_type": "code",
   "execution_count": 6,
   "id": "a063fda1",
   "metadata": {},
   "outputs": [
    {
     "data": {
      "text/plain": [
       "Group 1 [EMPTY] Test Group - Test group descr"
      ]
     },
     "execution_count": 6,
     "metadata": {},
     "output_type": "execute_result"
    }
   ],
   "source": [
    "group"
   ]
  },
  {
   "cell_type": "code",
   "execution_count": 8,
   "id": "d15d1f7b",
   "metadata": {},
   "outputs": [
    {
     "data": {
      "text/plain": [
       "Exp 1 [DONE *] Test Exp - Test exp descr"
      ]
     },
     "execution_count": 8,
     "metadata": {},
     "output_type": "execute_result"
    }
   ],
   "source": [
    "xman.proj.exp('1.1').set_manual_status('DONE', 'resolution')"
   ]
  },
  {
   "cell_type": "code",
   "execution_count": 12,
   "id": "514d92b6",
   "metadata": {},
   "outputs": [
    {
     "data": {
      "text/plain": [
       "Exp 2 [EMPTY] qewrwq2 - ewrwerwqer"
      ]
     },
     "execution_count": 12,
     "metadata": {},
     "output_type": "execute_result"
    }
   ],
   "source": [
    "xman.proj.make_exp(1, \"qewrwq2\", \"ewrwerwqer\")"
   ]
  },
  {
   "cell_type": "code",
   "execution_count": null,
   "id": "950dbe47",
   "metadata": {},
   "outputs": [],
   "source": []
  },
  {
   "cell_type": "code",
   "execution_count": 26,
   "id": "d00af9cf",
   "metadata": {},
   "outputs": [
    {
     "name": "stdout",
     "output_type": "stream",
     "text": [
      "Proj [EMPTY] Test Project - Test project descr    \n",
      "    Resolution: -= auto status =-    \n",
      "    \n",
      "    Group 1 [EMPTY] Test Group - Test group descr    \n",
      "        Resolution: -= auto status =-    \n",
      "        \n",
      "        Exp 1 [EMPTY] New name - new descr    \n",
      "            Resolution: -= auto status =-    \n",
      "        \n",
      "        Exp 2 [EMPTY] New name2 - newsdf descrsdfd    \n",
      "            Resolution: -= auto status =-\n"
     ]
    }
   ],
   "source": [
    "xman.proj.info()"
   ]
  },
  {
   "cell_type": "code",
   "execution_count": null,
   "id": "6260c57f",
   "metadata": {},
   "outputs": [],
   "source": []
  },
  {
   "cell_type": "code",
   "execution_count": 24,
   "id": "b40ae0b1",
   "metadata": {},
   "outputs": [],
   "source": [
    "xman.proj.exp('1.2').edit('New name2', 'newsdf descrsdfd')"
   ]
  },
  {
   "cell_type": "code",
   "execution_count": 22,
   "id": "7d348a11",
   "metadata": {},
   "outputs": [],
   "source": [
    "exp = xman.proj.exp('1.2')"
   ]
  },
  {
   "cell_type": "code",
   "execution_count": 25,
   "id": "784c4ca6",
   "metadata": {},
   "outputs": [
    {
     "data": {
      "text/plain": [
       "Exp 2 [EMPTY] New name2 - newsdf descrsdfd"
      ]
     },
     "execution_count": 25,
     "metadata": {},
     "output_type": "execute_result"
    }
   ],
   "source": [
    "exp"
   ]
  },
  {
   "cell_type": "code",
   "execution_count": 16,
   "id": "a93f3a7c",
   "metadata": {},
   "outputs": [
    {
     "data": {
      "text/plain": [
       "Exp 2 [EMPTY] New name - new descr"
      ]
     },
     "execution_count": 16,
     "metadata": {},
     "output_type": "execute_result"
    }
   ],
   "source": [
    "group.exp('New name')"
   ]
  },
  {
   "cell_type": "code",
   "execution_count": 21,
   "id": "322e994a",
   "metadata": {},
   "outputs": [
    {
     "name": "stdout",
     "output_type": "stream",
     "text": [
      "ACHTUNG! Remove `Exp 2 [EMPTY] qewrwq2 - ewrwerwqer` and its `gitignore/experiments/group1\\exp2` dir with all its content? (y/n) y\n"
     ]
    },
    {
     "data": {
      "text/plain": [
       "Exp 2 [EMPTY] qewrwq2 - ewrwerwqer"
      ]
     },
     "execution_count": 21,
     "metadata": {},
     "output_type": "execute_result"
    }
   ],
   "source": [
    "group.destroy_exp(2)"
   ]
  },
  {
   "cell_type": "code",
   "execution_count": null,
   "id": "1dd3879a",
   "metadata": {},
   "outputs": [],
   "source": []
  },
  {
   "cell_type": "code",
   "execution_count": null,
   "id": "be864cb9",
   "metadata": {},
   "outputs": [],
   "source": []
  },
  {
   "cell_type": "code",
   "execution_count": null,
   "id": "90ac80e5",
   "metadata": {},
   "outputs": [],
   "source": []
  },
  {
   "cell_type": "code",
   "execution_count": null,
   "id": "defc8500",
   "metadata": {},
   "outputs": [],
   "source": []
  },
  {
   "cell_type": "code",
   "execution_count": null,
   "id": "b15a0f5d",
   "metadata": {},
   "outputs": [],
   "source": []
  },
  {
   "cell_type": "code",
   "execution_count": null,
   "id": "b777867a",
   "metadata": {},
   "outputs": [],
   "source": []
  }
 ],
 "metadata": {
  "kernelspec": {
   "display_name": "Python 3 (ipykernel)",
   "language": "python",
   "name": "python3"
  },
  "language_info": {
   "codemirror_mode": {
    "name": "ipython",
    "version": 3
   },
   "file_extension": ".py",
   "mimetype": "text/x-python",
   "name": "python",
   "nbconvert_exporter": "python",
   "pygments_lexer": "ipython3",
   "version": "3.10.9"
  }
 },
 "nbformat": 4,
 "nbformat_minor": 5
}
