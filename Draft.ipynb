{
 "cells": [
  {
   "cell_type": "code",
   "execution_count": 2,
   "id": "b6a2d07c",
   "metadata": {
    "scrolled": true
   },
   "outputs": [],
   "source": [
    "%load_ext autoreload\n",
    "%autoreload 2\n",
    "\n",
    "import os\n",
    "import sys\n",
    "\n",
    "module_path = os.path.abspath(os.path.join('src'))\n",
    "sys.path.insert(0, module_path)"
   ]
  },
  {
   "cell_type": "code",
   "execution_count": 2,
   "id": "afe39168",
   "metadata": {},
   "outputs": [],
   "source": [
    "import xman"
   ]
  },
  {
   "cell_type": "code",
   "execution_count": 4,
   "id": "bacd255e",
   "metadata": {},
   "outputs": [
    {
     "name": "stdout",
     "output_type": "stream",
     "text": [
      "\n",
      "experiments/\n",
      "    .data\n",
      "    .time\n",
      "    group1/\n",
      "        .data\n",
      "        .time\n",
      "        exp1/\n",
      "            .data\n",
      "            .time\n",
      "\n",
      "Proj [EMPTY] Test Project - This is a test experimental project\n",
      "\n",
      "    Group 1 [EMPTY] Test Group - Test group descr\n",
      "        Exp 1 [EMPTY] Test Exp - Test Exp Descr\n"
     ]
    }
   ],
   "source": [
    "create_new = False\n",
    "if create_new:\n",
    "    xman.make_proj('gitignore/experiments/', 'Test Project', \"This is a test experimental project\")\n",
    "    xman.proj.make_group(\"Test Group\", \"Test group descr\")\n",
    "    xman.proj.group(1).make_exp(\"Test Exp\", \"Test Exp Descr\")\n",
    "else:\n",
    "    xman.load_proj('gitignore/experiments/')\n",
    "xman.dir_tree('gitignore/experiments/')\n",
    "xman.proj.info()"
   ]
  },
  {
   "cell_type": "code",
   "execution_count": null,
   "id": "a4870328",
   "metadata": {},
   "outputs": [],
   "source": []
  },
  {
   "cell_type": "code",
   "execution_count": 15,
   "id": "3931db1b",
   "metadata": {},
   "outputs": [],
   "source": [
    "def train(pulse, p1, p2, np1=None, np2=None):\n",
    "    print(\"train in progress...\")\n",
    "    result = f\"p1={p1}, p2={p2}, np1={np1}, np2={np2}\"\n",
    "    return result\n",
    "\n",
    "params = {\n",
    "    'p1': 1,\n",
    "    'p2': 2,\n",
    "    'np1': 3,\n",
    "    'np2': 4,\n",
    "}"
   ]
  },
  {
   "cell_type": "code",
   "execution_count": 6,
   "id": "ee1a734b",
   "metadata": {},
   "outputs": [],
   "source": [
    "xman.proj.exp(1.1).remove_pipeline().attach_pipeline(train, params)#.start()\n",
    "xman.proj.exp(1.1).result"
   ]
  },
  {
   "cell_type": "code",
   "execution_count": 7,
   "id": "06ed712b",
   "metadata": {},
   "outputs": [
    {
     "name": "stdout",
     "output_type": "stream",
     "text": [
      "DEBUG: Exp._update(), status: SUCCESS, resolution: Everything is alright\n",
      "Exp 1 [SUCCESS] Test Exp - Test Exp Descr\n",
      "    Resolution: Everything is alright\n"
     ]
    }
   ],
   "source": [
    "xman.proj.exp(1.1).success('Everything is alright')\n",
    "xman.proj.exp(1.1).info()"
   ]
  },
  {
   "cell_type": "code",
   "execution_count": 8,
   "id": "ee672aa6",
   "metadata": {},
   "outputs": [
    {
     "name": "stdout",
     "output_type": "stream",
     "text": [
      "DEBUG: Exp._update(), status: EMPTY, resolution: auto status\n",
      "Exp 1 [EMPTY] Test Exp - Test Exp Descr\n",
      "    Resolution: auto status\n"
     ]
    }
   ],
   "source": [
    "xman.proj.exp(1.1).remove_manual_status()\n",
    "xman.proj.exp(1.1).info()"
   ]
  },
  {
   "cell_type": "code",
   "execution_count": 9,
   "id": "08739d9a",
   "metadata": {},
   "outputs": [
    {
     "name": "stdout",
     "output_type": "stream",
     "text": [
      "Exp 1 [EMPTY] Test Exp - Test Exp Descr\n",
      "    Resolution: auto status\n"
     ]
    }
   ],
   "source": [
    "xman.proj.exp(1.1).info()"
   ]
  },
  {
   "cell_type": "code",
   "execution_count": 10,
   "id": "d338197f",
   "metadata": {},
   "outputs": [
    {
     "data": {
      "text/plain": [
       "Proj [EMPTY] Test Project - This is a test experimental project\n",
       "\n",
       "    Group 1 [EMPTY] Test Group - Test group descr\n",
       "        Exp 1 [EMPTY] Test Exp - Test Exp Descr"
      ]
     },
     "execution_count": 10,
     "metadata": {},
     "output_type": "execute_result"
    }
   ],
   "source": [
    "xman.proj"
   ]
  },
  {
   "cell_type": "code",
   "execution_count": null,
   "id": "bea3e9e4",
   "metadata": {},
   "outputs": [],
   "source": []
  },
  {
   "cell_type": "code",
   "execution_count": 11,
   "id": "b2741dd5",
   "metadata": {},
   "outputs": [
    {
     "data": {
      "text/plain": [
       "'0.0.0'"
      ]
     },
     "execution_count": 11,
     "metadata": {},
     "output_type": "execute_result"
    }
   ],
   "source": [
    "xman.__version__"
   ]
  },
  {
   "cell_type": "code",
   "execution_count": null,
   "id": "8c8df25b",
   "metadata": {},
   "outputs": [],
   "source": []
  },
  {
   "cell_type": "code",
   "execution_count": 16,
   "id": "e18b14a9",
   "metadata": {},
   "outputs": [],
   "source": [
    "import os\n",
    "import time\n",
    "import dill\n",
    "\n",
    "fp = 'test_f.pkl'\n",
    "with open(fp, 'wb') as f:\n",
    "   \n",
    "    dill.dump(train, f)"
   ]
  },
  {
   "cell_type": "code",
   "execution_count": 23,
   "id": "b094459a",
   "metadata": {},
   "outputs": [
    {
     "name": "stdout",
     "output_type": "stream",
     "text": [
      "1680511142.7018135\n"
     ]
    }
   ],
   "source": [
    "with open(fp, 'rb') as f:\n",
    "    t = pickle.load(f)\n",
    "print(t)"
   ]
  },
  {
   "cell_type": "code",
   "execution_count": 5,
   "id": "41509935",
   "metadata": {},
   "outputs": [
    {
     "data": {
      "text/plain": [
       "float"
      ]
     },
     "execution_count": 5,
     "metadata": {},
     "output_type": "execute_result"
    }
   ],
   "source": [
    "import time\n",
    "type(time.time())"
   ]
  },
  {
   "cell_type": "code",
   "execution_count": null,
   "id": "c4b7f6af",
   "metadata": {},
   "outputs": [],
   "source": []
  },
  {
   "cell_type": "code",
   "execution_count": 7,
   "id": "357dc61a",
   "metadata": {},
   "outputs": [],
   "source": [
    "import dill\n",
    "dill.dump_session('test_session.pkl')"
   ]
  },
  {
   "cell_type": "code",
   "execution_count": 6,
   "id": "8f1fe906",
   "metadata": {},
   "outputs": [
    {
     "ename": "OSError",
     "evalue": "could not extract source code",
     "output_type": "error",
     "traceback": [
      "\u001b[1;31m---------------------------------------------------------------------------\u001b[0m",
      "\u001b[1;31mOSError\u001b[0m                                   Traceback (most recent call last)",
      "Cell \u001b[1;32mIn[6], line 6\u001b[0m\n\u001b[0;32m      3\u001b[0m \u001b[38;5;28;01mwith\u001b[39;00m \u001b[38;5;28mopen\u001b[39m(fp, \u001b[38;5;124m'\u001b[39m\u001b[38;5;124mrb\u001b[39m\u001b[38;5;124m'\u001b[39m) \u001b[38;5;28;01mas\u001b[39;00m f:   \n\u001b[0;32m      4\u001b[0m     foo \u001b[38;5;241m=\u001b[39m dill\u001b[38;5;241m.\u001b[39mload(f)\n\u001b[1;32m----> 6\u001b[0m \u001b[38;5;28mprint\u001b[39m(\u001b[43mdill\u001b[49m\u001b[38;5;241;43m.\u001b[39;49m\u001b[43msource\u001b[49m\u001b[38;5;241;43m.\u001b[39;49m\u001b[43mgetsource\u001b[49m\u001b[43m(\u001b[49m\u001b[43mfoo\u001b[49m\u001b[43m)\u001b[49m)\n",
      "File \u001b[1;32mC:\\workspace\\xman\\.venv\\lib\\site-packages\\dill\\source.py:374\u001b[0m, in \u001b[0;36mgetsource\u001b[1;34m(object, alias, lstrip, enclosing, force, builtin)\u001b[0m\n\u001b[0;32m    372\u001b[0m \u001b[38;5;66;03m# get source lines; if fail, try to 'force' an import\u001b[39;00m\n\u001b[0;32m    373\u001b[0m \u001b[38;5;28;01mtry\u001b[39;00m: \u001b[38;5;66;03m# fails for builtins, and other assorted object types\u001b[39;00m\n\u001b[1;32m--> 374\u001b[0m     lines, lnum \u001b[38;5;241m=\u001b[39m \u001b[43mgetsourcelines\u001b[49m\u001b[43m(\u001b[49m\u001b[38;5;28;43mobject\u001b[39;49m\u001b[43m,\u001b[49m\u001b[43m \u001b[49m\u001b[43menclosing\u001b[49m\u001b[38;5;241;43m=\u001b[39;49m\u001b[43menclosing\u001b[49m\u001b[43m)\u001b[49m\n\u001b[0;32m    375\u001b[0m \u001b[38;5;28;01mexcept\u001b[39;00m (\u001b[38;5;167;01mTypeError\u001b[39;00m, \u001b[38;5;167;01mIOError\u001b[39;00m): \u001b[38;5;66;03m# failed to get source, resort to import hooks\u001b[39;00m\n\u001b[0;32m    376\u001b[0m     \u001b[38;5;28;01mif\u001b[39;00m \u001b[38;5;129;01mnot\u001b[39;00m force: \u001b[38;5;66;03m# don't try to get types that findsource can't get\u001b[39;00m\n",
      "File \u001b[1;32mC:\\workspace\\xman\\.venv\\lib\\site-packages\\dill\\source.py:345\u001b[0m, in \u001b[0;36mgetsourcelines\u001b[1;34m(object, lstrip, enclosing)\u001b[0m\n\u001b[0;32m    332\u001b[0m \u001b[38;5;28;01mdef\u001b[39;00m \u001b[38;5;21mgetsourcelines\u001b[39m(\u001b[38;5;28mobject\u001b[39m, lstrip\u001b[38;5;241m=\u001b[39m\u001b[38;5;28;01mFalse\u001b[39;00m, enclosing\u001b[38;5;241m=\u001b[39m\u001b[38;5;28;01mFalse\u001b[39;00m):\n\u001b[0;32m    333\u001b[0m \u001b[38;5;250m    \u001b[39m\u001b[38;5;124;03m\"\"\"Return a list of source lines and starting line number for an object.\u001b[39;00m\n\u001b[0;32m    334\u001b[0m \u001b[38;5;124;03m    Interactively-defined objects refer to lines in the interpreter's history.\u001b[39;00m\n\u001b[0;32m    335\u001b[0m \n\u001b[1;32m   (...)\u001b[0m\n\u001b[0;32m    343\u001b[0m \u001b[38;5;124;03m    If lstrip=True, ensure there is no indentation in the first line of code.\u001b[39;00m\n\u001b[0;32m    344\u001b[0m \u001b[38;5;124;03m    If enclosing=True, then also return any enclosing code.\"\"\"\u001b[39;00m\n\u001b[1;32m--> 345\u001b[0m     code, n \u001b[38;5;241m=\u001b[39m \u001b[43mgetblocks\u001b[49m\u001b[43m(\u001b[49m\u001b[38;5;28;43mobject\u001b[39;49m\u001b[43m,\u001b[49m\u001b[43m \u001b[49m\u001b[43mlstrip\u001b[49m\u001b[38;5;241;43m=\u001b[39;49m\u001b[43mlstrip\u001b[49m\u001b[43m,\u001b[49m\u001b[43m \u001b[49m\u001b[43menclosing\u001b[49m\u001b[38;5;241;43m=\u001b[39;49m\u001b[43menclosing\u001b[49m\u001b[43m,\u001b[49m\u001b[43m \u001b[49m\u001b[43mlocate\u001b[49m\u001b[38;5;241;43m=\u001b[39;49m\u001b[38;5;28;43;01mTrue\u001b[39;49;00m\u001b[43m)\u001b[49m\n\u001b[0;32m    346\u001b[0m     \u001b[38;5;28;01mreturn\u001b[39;00m code[\u001b[38;5;241m-\u001b[39m\u001b[38;5;241m1\u001b[39m], n[\u001b[38;5;241m-\u001b[39m\u001b[38;5;241m1\u001b[39m]\n",
      "File \u001b[1;32mC:\\workspace\\xman\\.venv\\lib\\site-packages\\dill\\source.py:271\u001b[0m, in \u001b[0;36mgetblocks\u001b[1;34m(object, lstrip, enclosing, locate)\u001b[0m\n\u001b[0;32m    261\u001b[0m \u001b[38;5;28;01mdef\u001b[39;00m \u001b[38;5;21mgetblocks\u001b[39m(\u001b[38;5;28mobject\u001b[39m, lstrip\u001b[38;5;241m=\u001b[39m\u001b[38;5;28;01mFalse\u001b[39;00m, enclosing\u001b[38;5;241m=\u001b[39m\u001b[38;5;28;01mFalse\u001b[39;00m, locate\u001b[38;5;241m=\u001b[39m\u001b[38;5;28;01mFalse\u001b[39;00m):\n\u001b[0;32m    262\u001b[0m \u001b[38;5;250m    \u001b[39m\u001b[38;5;124;03m\"\"\"Return a list of source lines and starting line number for an object.\u001b[39;00m\n\u001b[0;32m    263\u001b[0m \u001b[38;5;124;03m    Interactively-defined objects refer to lines in the interpreter's history.\u001b[39;00m\n\u001b[0;32m    264\u001b[0m \n\u001b[1;32m   (...)\u001b[0m\n\u001b[0;32m    269\u001b[0m \u001b[38;5;124;03m    DEPRECATED: use 'getsourcelines' instead\u001b[39;00m\n\u001b[0;32m    270\u001b[0m \u001b[38;5;124;03m    \"\"\"\u001b[39;00m\n\u001b[1;32m--> 271\u001b[0m     lines, lnum \u001b[38;5;241m=\u001b[39m \u001b[43mfindsource\u001b[49m\u001b[43m(\u001b[49m\u001b[38;5;28;43mobject\u001b[39;49m\u001b[43m)\u001b[49m\n\u001b[0;32m    273\u001b[0m     \u001b[38;5;28;01mif\u001b[39;00m ismodule(\u001b[38;5;28mobject\u001b[39m):\n\u001b[0;32m    274\u001b[0m         \u001b[38;5;28;01mif\u001b[39;00m lstrip: lines \u001b[38;5;241m=\u001b[39m _outdent(lines)\n",
      "File \u001b[1;32mC:\\workspace\\xman\\.venv\\lib\\site-packages\\dill\\source.py:176\u001b[0m, in \u001b[0;36mfindsource\u001b[1;34m(object)\u001b[0m\n\u001b[0;32m    173\u001b[0m         lines \u001b[38;5;241m=\u001b[39m linecache\u001b[38;5;241m.\u001b[39mgetlines(file)\n\u001b[0;32m    175\u001b[0m \u001b[38;5;28;01mif\u001b[39;00m \u001b[38;5;129;01mnot\u001b[39;00m lines:\n\u001b[1;32m--> 176\u001b[0m     \u001b[38;5;28;01mraise\u001b[39;00m \u001b[38;5;167;01mIOError\u001b[39;00m(\u001b[38;5;124m'\u001b[39m\u001b[38;5;124mcould not extract source code\u001b[39m\u001b[38;5;124m'\u001b[39m)\n\u001b[0;32m    178\u001b[0m \u001b[38;5;66;03m#FIXME: all below may fail if exec used (i.e. exec('f = lambda x:x') )\u001b[39;00m\n\u001b[0;32m    179\u001b[0m \u001b[38;5;28;01mif\u001b[39;00m ismodule(\u001b[38;5;28mobject\u001b[39m):\n",
      "\u001b[1;31mOSError\u001b[0m: could not extract source code"
     ]
    }
   ],
   "source": [
    "import dill\n",
    "fp = 'test_f.pkl'\n",
    "with open(fp, 'rb') as f:   \n",
    "    foo = dill.load(f)\n",
    "    \n",
    "print(dill.source.getsource(foo))"
   ]
  },
  {
   "cell_type": "code",
   "execution_count": 1,
   "id": "01634f89",
   "metadata": {},
   "outputs": [],
   "source": []
  },
  {
   "cell_type": "code",
   "execution_count": 13,
   "id": "d6dba4cd",
   "metadata": {
    "scrolled": true
   },
   "outputs": [
    {
     "name": "stdout",
     "output_type": "stream",
     "text": [
      "<function <lambda> at 0x000001DE011FEEF0>\n",
      "squared = lambda x: x**2\n",
      "\n"
     ]
    }
   ],
   "source": [
    "import dill\n",
    "\n",
    "squared = lambda x: x**2\n",
    "\n",
    "print(dill.loads(dill.dumps(squared)))\n",
    "\n",
    "print(dill.source.getsource(squared))\n",
    "\n",
    "with open('test_f.pkl', 'wb') as f:\n",
    "    dill.dump(squared, f)"
   ]
  },
  {
   "cell_type": "code",
   "execution_count": 3,
   "id": "c2ccbefd",
   "metadata": {},
   "outputs": [
    {
     "ename": "OSError",
     "evalue": "could not extract source code",
     "output_type": "error",
     "traceback": [
      "\u001b[1;31m---------------------------------------------------------------------------\u001b[0m",
      "\u001b[1;31mOSError\u001b[0m                                   Traceback (most recent call last)",
      "Cell \u001b[1;32mIn[3], line 5\u001b[0m\n\u001b[0;32m      2\u001b[0m \u001b[38;5;28;01mwith\u001b[39;00m \u001b[38;5;28mopen\u001b[39m(\u001b[38;5;124m'\u001b[39m\u001b[38;5;124mtest_f.pkl\u001b[39m\u001b[38;5;124m'\u001b[39m, \u001b[38;5;124m'\u001b[39m\u001b[38;5;124mrb\u001b[39m\u001b[38;5;124m'\u001b[39m) \u001b[38;5;28;01mas\u001b[39;00m f:\n\u001b[0;32m      3\u001b[0m     foo \u001b[38;5;241m=\u001b[39m dill\u001b[38;5;241m.\u001b[39mload(f)\n\u001b[1;32m----> 5\u001b[0m \u001b[38;5;28mprint\u001b[39m(\u001b[43mdill\u001b[49m\u001b[38;5;241;43m.\u001b[39;49m\u001b[43msource\u001b[49m\u001b[38;5;241;43m.\u001b[39;49m\u001b[43mgetsource\u001b[49m\u001b[43m(\u001b[49m\u001b[43mfoo\u001b[49m\u001b[43m)\u001b[49m)\n",
      "File \u001b[1;32mC:\\workspace\\xman\\.venv\\lib\\site-packages\\dill\\source.py:374\u001b[0m, in \u001b[0;36mgetsource\u001b[1;34m(object, alias, lstrip, enclosing, force, builtin)\u001b[0m\n\u001b[0;32m    372\u001b[0m \u001b[38;5;66;03m# get source lines; if fail, try to 'force' an import\u001b[39;00m\n\u001b[0;32m    373\u001b[0m \u001b[38;5;28;01mtry\u001b[39;00m: \u001b[38;5;66;03m# fails for builtins, and other assorted object types\u001b[39;00m\n\u001b[1;32m--> 374\u001b[0m     lines, lnum \u001b[38;5;241m=\u001b[39m \u001b[43mgetsourcelines\u001b[49m\u001b[43m(\u001b[49m\u001b[38;5;28;43mobject\u001b[39;49m\u001b[43m,\u001b[49m\u001b[43m \u001b[49m\u001b[43menclosing\u001b[49m\u001b[38;5;241;43m=\u001b[39;49m\u001b[43menclosing\u001b[49m\u001b[43m)\u001b[49m\n\u001b[0;32m    375\u001b[0m \u001b[38;5;28;01mexcept\u001b[39;00m (\u001b[38;5;167;01mTypeError\u001b[39;00m, \u001b[38;5;167;01mIOError\u001b[39;00m): \u001b[38;5;66;03m# failed to get source, resort to import hooks\u001b[39;00m\n\u001b[0;32m    376\u001b[0m     \u001b[38;5;28;01mif\u001b[39;00m \u001b[38;5;129;01mnot\u001b[39;00m force: \u001b[38;5;66;03m# don't try to get types that findsource can't get\u001b[39;00m\n",
      "File \u001b[1;32mC:\\workspace\\xman\\.venv\\lib\\site-packages\\dill\\source.py:345\u001b[0m, in \u001b[0;36mgetsourcelines\u001b[1;34m(object, lstrip, enclosing)\u001b[0m\n\u001b[0;32m    332\u001b[0m \u001b[38;5;28;01mdef\u001b[39;00m \u001b[38;5;21mgetsourcelines\u001b[39m(\u001b[38;5;28mobject\u001b[39m, lstrip\u001b[38;5;241m=\u001b[39m\u001b[38;5;28;01mFalse\u001b[39;00m, enclosing\u001b[38;5;241m=\u001b[39m\u001b[38;5;28;01mFalse\u001b[39;00m):\n\u001b[0;32m    333\u001b[0m \u001b[38;5;250m    \u001b[39m\u001b[38;5;124;03m\"\"\"Return a list of source lines and starting line number for an object.\u001b[39;00m\n\u001b[0;32m    334\u001b[0m \u001b[38;5;124;03m    Interactively-defined objects refer to lines in the interpreter's history.\u001b[39;00m\n\u001b[0;32m    335\u001b[0m \n\u001b[1;32m   (...)\u001b[0m\n\u001b[0;32m    343\u001b[0m \u001b[38;5;124;03m    If lstrip=True, ensure there is no indentation in the first line of code.\u001b[39;00m\n\u001b[0;32m    344\u001b[0m \u001b[38;5;124;03m    If enclosing=True, then also return any enclosing code.\"\"\"\u001b[39;00m\n\u001b[1;32m--> 345\u001b[0m     code, n \u001b[38;5;241m=\u001b[39m \u001b[43mgetblocks\u001b[49m\u001b[43m(\u001b[49m\u001b[38;5;28;43mobject\u001b[39;49m\u001b[43m,\u001b[49m\u001b[43m \u001b[49m\u001b[43mlstrip\u001b[49m\u001b[38;5;241;43m=\u001b[39;49m\u001b[43mlstrip\u001b[49m\u001b[43m,\u001b[49m\u001b[43m \u001b[49m\u001b[43menclosing\u001b[49m\u001b[38;5;241;43m=\u001b[39;49m\u001b[43menclosing\u001b[49m\u001b[43m,\u001b[49m\u001b[43m \u001b[49m\u001b[43mlocate\u001b[49m\u001b[38;5;241;43m=\u001b[39;49m\u001b[38;5;28;43;01mTrue\u001b[39;49;00m\u001b[43m)\u001b[49m\n\u001b[0;32m    346\u001b[0m     \u001b[38;5;28;01mreturn\u001b[39;00m code[\u001b[38;5;241m-\u001b[39m\u001b[38;5;241m1\u001b[39m], n[\u001b[38;5;241m-\u001b[39m\u001b[38;5;241m1\u001b[39m]\n",
      "File \u001b[1;32mC:\\workspace\\xman\\.venv\\lib\\site-packages\\dill\\source.py:271\u001b[0m, in \u001b[0;36mgetblocks\u001b[1;34m(object, lstrip, enclosing, locate)\u001b[0m\n\u001b[0;32m    261\u001b[0m \u001b[38;5;28;01mdef\u001b[39;00m \u001b[38;5;21mgetblocks\u001b[39m(\u001b[38;5;28mobject\u001b[39m, lstrip\u001b[38;5;241m=\u001b[39m\u001b[38;5;28;01mFalse\u001b[39;00m, enclosing\u001b[38;5;241m=\u001b[39m\u001b[38;5;28;01mFalse\u001b[39;00m, locate\u001b[38;5;241m=\u001b[39m\u001b[38;5;28;01mFalse\u001b[39;00m):\n\u001b[0;32m    262\u001b[0m \u001b[38;5;250m    \u001b[39m\u001b[38;5;124;03m\"\"\"Return a list of source lines and starting line number for an object.\u001b[39;00m\n\u001b[0;32m    263\u001b[0m \u001b[38;5;124;03m    Interactively-defined objects refer to lines in the interpreter's history.\u001b[39;00m\n\u001b[0;32m    264\u001b[0m \n\u001b[1;32m   (...)\u001b[0m\n\u001b[0;32m    269\u001b[0m \u001b[38;5;124;03m    DEPRECATED: use 'getsourcelines' instead\u001b[39;00m\n\u001b[0;32m    270\u001b[0m \u001b[38;5;124;03m    \"\"\"\u001b[39;00m\n\u001b[1;32m--> 271\u001b[0m     lines, lnum \u001b[38;5;241m=\u001b[39m \u001b[43mfindsource\u001b[49m\u001b[43m(\u001b[49m\u001b[38;5;28;43mobject\u001b[39;49m\u001b[43m)\u001b[49m\n\u001b[0;32m    273\u001b[0m     \u001b[38;5;28;01mif\u001b[39;00m ismodule(\u001b[38;5;28mobject\u001b[39m):\n\u001b[0;32m    274\u001b[0m         \u001b[38;5;28;01mif\u001b[39;00m lstrip: lines \u001b[38;5;241m=\u001b[39m _outdent(lines)\n",
      "File \u001b[1;32mC:\\workspace\\xman\\.venv\\lib\\site-packages\\dill\\source.py:176\u001b[0m, in \u001b[0;36mfindsource\u001b[1;34m(object)\u001b[0m\n\u001b[0;32m    173\u001b[0m         lines \u001b[38;5;241m=\u001b[39m linecache\u001b[38;5;241m.\u001b[39mgetlines(file)\n\u001b[0;32m    175\u001b[0m \u001b[38;5;28;01mif\u001b[39;00m \u001b[38;5;129;01mnot\u001b[39;00m lines:\n\u001b[1;32m--> 176\u001b[0m     \u001b[38;5;28;01mraise\u001b[39;00m \u001b[38;5;167;01mIOError\u001b[39;00m(\u001b[38;5;124m'\u001b[39m\u001b[38;5;124mcould not extract source code\u001b[39m\u001b[38;5;124m'\u001b[39m)\n\u001b[0;32m    178\u001b[0m \u001b[38;5;66;03m#FIXME: all below may fail if exec used (i.e. exec('f = lambda x:x') )\u001b[39;00m\n\u001b[0;32m    179\u001b[0m \u001b[38;5;28;01mif\u001b[39;00m ismodule(\u001b[38;5;28mobject\u001b[39m):\n",
      "\u001b[1;31mOSError\u001b[0m: could not extract source code"
     ]
    }
   ],
   "source": [
    "import dill\n",
    "with open('test_f.pkl', 'rb') as f:\n",
    "    foo = dill.load(f)\n",
    "    \n",
    "print(dill.source.getsource(foo))"
   ]
  },
  {
   "cell_type": "code",
   "execution_count": null,
   "id": "25b15072",
   "metadata": {},
   "outputs": [],
   "source": []
  },
  {
   "cell_type": "code",
   "execution_count": null,
   "id": "ccdb1ec0",
   "metadata": {},
   "outputs": [],
   "source": []
  },
  {
   "cell_type": "code",
   "execution_count": null,
   "id": "9e272ae5",
   "metadata": {},
   "outputs": [],
   "source": []
  },
  {
   "cell_type": "code",
   "execution_count": null,
   "id": "4c04a154",
   "metadata": {},
   "outputs": [],
   "source": []
  },
  {
   "cell_type": "code",
   "execution_count": null,
   "id": "e1970f90",
   "metadata": {},
   "outputs": [],
   "source": []
  },
  {
   "cell_type": "code",
   "execution_count": null,
   "id": "a658d39f",
   "metadata": {},
   "outputs": [],
   "source": []
  },
  {
   "cell_type": "code",
   "execution_count": null,
   "id": "07c62d82",
   "metadata": {},
   "outputs": [],
   "source": []
  },
  {
   "cell_type": "code",
   "execution_count": null,
   "id": "3161b91a",
   "metadata": {},
   "outputs": [],
   "source": []
  }
 ],
 "metadata": {
  "kernelspec": {
   "display_name": "Python 3 (ipykernel)",
   "language": "python",
   "name": "python3"
  },
  "language_info": {
   "codemirror_mode": {
    "name": "ipython",
    "version": 3
   },
   "file_extension": ".py",
   "mimetype": "text/x-python",
   "name": "python",
   "nbconvert_exporter": "python",
   "pygments_lexer": "ipython3",
   "version": "3.10.9"
  }
 },
 "nbformat": 4,
 "nbformat_minor": 5
}
