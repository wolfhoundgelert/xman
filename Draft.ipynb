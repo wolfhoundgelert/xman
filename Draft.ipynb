{
 "cells": [
  {
   "cell_type": "code",
   "execution_count": 1,
   "id": "b6a2d07c",
   "metadata": {
    "scrolled": true
   },
   "outputs": [],
   "source": [
    "# For real time updating xMan library (just for development needs)\n",
    "\n",
    "%load_ext autoreload\n",
    "%autoreload 2\n",
    "\n",
    "import os\n",
    "import sys\n",
    "\n",
    "module_path = os.path.abspath(os.path.join('src'))\n",
    "sys.path.insert(0, module_path)"
   ]
  },
  {
   "cell_type": "code",
   "execution_count": 2,
   "id": "afe39168",
   "metadata": {},
   "outputs": [],
   "source": [
    "from xman import xman\n",
    "\n",
    "PROJ_DIR = 'gitignore/experiments/'"
   ]
  },
  {
   "cell_type": "code",
   "execution_count": 3,
   "id": "bacd255e",
   "metadata": {
    "scrolled": true
   },
   "outputs": [
    {
     "name": "stdout",
     "output_type": "stream",
     "text": [
      "Proj [EMPTY *] Test Project - Test project descr\n",
      "\n",
      "    Group 1 [EMPTY *] Test Group - Test group descr\n",
      "    \n",
      "        Exp 1.1 [EMPTY *] Test Exp - Test exp descr\n"
     ]
    }
   ],
   "source": [
    "import shutil\n",
    "\n",
    "create_new = True\n",
    "\n",
    "if create_new:\n",
    "    if os.path.exists(PROJ_DIR):\n",
    "        shutil.rmtree(PROJ_DIR)\n",
    "    xman.make_proj(PROJ_DIR, 'Test Project', \"Test project descr\")\n",
    "    xman.make_group(\"Test Group\", \"Test group descr\")\n",
    "    xman.make_exp(1, \"Test Exp\", \"Test exp descr\")\n",
    "else:\n",
    "    xman.load_proj(PROJ_DIR)\n",
    "    \n",
    "xman.info()"
   ]
  },
  {
   "cell_type": "code",
   "execution_count": 4,
   "id": "ed1cdaca",
   "metadata": {},
   "outputs": [],
   "source": [
    "def train(p1, p2, np1=None, np2=None):\n",
    "    print(\"train started\")\n",
    "    import time\n",
    "    time.sleep(2)\n",
    "    print(\"train is still in progress...\")\n",
    "    result = f\"p1={p1}, p2={p2}, np1={np1}, np2={np2}\"\n",
    "    time.sleep(2)\n",
    "    print(f\"train finished with result `{result}`\")\n",
    "    return result\n",
    "\n",
    "from xman.pipeline import CheckpointsMediator\n",
    "def train_with_mediator(mediator: CheckpointsMediator, p1, p2, np1=None, np2=None):\n",
    "    print(\"train started\")\n",
    "    import time\n",
    "    time.sleep(2)\n",
    "    mediator.save_checkpoint('first checkpoint', replace=False)\n",
    "    print(\"train is still in progress...\")\n",
    "    result = f\"p1={p1}, p2={p2}, np1={np1}, np2={np2}, mediator={mediator}\"\n",
    "    time.sleep(2)\n",
    "    mediator.save_checkpoint('second checkpoint', replace=False)\n",
    "    print(f\"Mediator checkpoints: `{mediator.get_checkpoint_paths_list()}`, loc dir `{mediator.exp_location_dir}`\")\n",
    "    print(f\"train finished with result `{result}`\")\n",
    "    return result\n",
    "\n",
    "params = {\n",
    "    'p1': 1,\n",
    "    'p2': 2,\n",
    "    'np1': 3,\n",
    "    'np2': 4,\n",
    "}"
   ]
  },
  {
   "cell_type": "code",
   "execution_count": 5,
   "id": "ee1a734b",
   "metadata": {},
   "outputs": [
    {
     "data": {
      "text/plain": [
       "Exp 1.1 [TO_DO *] Test Exp - Test exp descr"
      ]
     },
     "execution_count": 5,
     "metadata": {},
     "output_type": "execute_result"
    }
   ],
   "source": [
    "# xman.exp(1, 1).destroy_pipeline().make_pipeline(train, params)\n",
    "# xman.exp(1, 1).delete_pipeline()\n",
    "# xman.exp(1, 1).delete_checkpoints()\n",
    "xman.exp(1, 1).make_pipeline_with_checkpoints(train_with_mediator, params, True)"
   ]
  },
  {
   "cell_type": "code",
   "execution_count": 6,
   "id": "fd91d01a",
   "metadata": {
    "scrolled": true
   },
   "outputs": [
    {
     "name": "stdout",
     "output_type": "stream",
     "text": [
      "train started\n",
      "train is still in progress...\n",
      "Mediator checkpoints: `['checkpoints/2023-06-08__21_39_34--345922500.cp', 'checkpoints/2023-06-08__21_39_36--350091500.cp']`, loc dir `gitignore\\experiments\\group1\\exp1`\n",
      "train finished with result `p1=1, p2=2, np1=3, np2=4, mediator=<xman.pipeline.CheckpointsMediator object at 0x000002A2FF9FB370>`\n"
     ]
    },
    {
     "data": {
      "text/plain": [
       "Exp 1.1 [DONE *] Test Exp - Test exp descr"
      ]
     },
     "execution_count": 6,
     "metadata": {},
     "output_type": "execute_result"
    }
   ],
   "source": [
    "# xman.exp(1, 1).delete_checkpoints()\n",
    "xman.exp(1, 1).start()"
   ]
  },
  {
   "cell_type": "code",
   "execution_count": 12,
   "id": "d28ddeb6",
   "metadata": {},
   "outputs": [
    {
     "name": "stdout",
     "output_type": "stream",
     "text": [
      "Proj [IN_PROGRESS *] Test Project - Test project descr\n",
      "\n",
      "    Group 1 [SUCCESS *] Test Group - Test group descr\n",
      "    \n",
      "        Exp 1.1 [SUCCESS] Test Exp - Test exp descr\n",
      "            Resolution:\n",
      "                All's good dsfsdf sdf ds fsdfds \n",
      "                fdsf ewr ewqrewrwe rds f sd fsd fds fdsf ds \n",
      "                fds fds fds fds fds f dsf dsf sdf sdf ew rewr.\n",
      "            Result:\n",
      "                p1=1, p2=2, np1=3, np2=4, mediator=<xman.pipeline.CheckpointsMediator object at 0x000002A2FF9FB370>\n",
      "\n",
      "    Group 2 [EMPTY *] sdfsda dsf  - ewrqwer werwqer\n",
      "    \n",
      ">>>>>>> Best Exp 2.1 [EMPTY *] sdf ds - fsadf dsf\n",
      "    \n",
      "        Exp 2.2 [EMPTY *] fsdfs d - fasdfdsf\n"
     ]
    }
   ],
   "source": [
    "xman.info()"
   ]
  },
  {
   "cell_type": "code",
   "execution_count": null,
   "id": "cf637031",
   "metadata": {},
   "outputs": [],
   "source": []
  },
  {
   "cell_type": "code",
   "execution_count": 8,
   "id": "1a5e24d4",
   "metadata": {},
   "outputs": [
    {
     "data": {
      "text/plain": [
       "Exp 1.1 [SUCCESS] Test Exp - Test exp descr"
      ]
     },
     "execution_count": 8,
     "metadata": {},
     "output_type": "execute_result"
    }
   ],
   "source": [
    "# xman.exp(1, 1).delete_manual_status()\n",
    "xman.exp(1, 1).success(\"All's good dsfsdf sdf ds fsdfds \\nfdsf ewr ewqrewrwe rds f sd fsd fds fdsf ds \\nfds fds fds fds fds f dsf dsf sdf sdf ew rewr.\")"
   ]
  },
  {
   "cell_type": "code",
   "execution_count": 9,
   "id": "751ca209",
   "metadata": {
    "scrolled": true
   },
   "outputs": [
    {
     "name": "stdout",
     "output_type": "stream",
     "text": [
      "Exp 1.1 [SUCCESS] Test Exp - Test exp descr\n",
      "    Resolution:\n",
      "        All's good dsfsdf sdf ds fsdfds \n",
      "        fdsf ewr ewqrewrwe rds f sd fsd fds fdsf ds \n",
      "        fds fds fds fds fds f dsf dsf sdf sdf ew rewr.\n",
      "    Result:\n",
      "        p1=1, p2=2, np1=3, np2=4, mediator=<xman.pipeline.CheckpointsMediator object at 0x000002A2FF9FB370>\n"
     ]
    }
   ],
   "source": [
    "xman.exp(1, 1).info()"
   ]
  },
  {
   "cell_type": "code",
   "execution_count": 10,
   "id": "56f9a50d",
   "metadata": {},
   "outputs": [
    {
     "data": {
      "text/plain": [
       "Exp 2.2 [EMPTY *] fsdfs d - fasdfdsf"
      ]
     },
     "execution_count": 10,
     "metadata": {},
     "output_type": "execute_result"
    }
   ],
   "source": [
    "xman.make_group('sdfsda dsf ', 'ewrqwer werwqer')\n",
    "xman.make_exp(2, 'sdf ds', 'fsadf dsf')\n",
    "xman.make_exp(2, 'fsdfs d', 'fasdfdsf')"
   ]
  },
  {
   "cell_type": "code",
   "execution_count": 11,
   "id": "52b3dd9a",
   "metadata": {},
   "outputs": [],
   "source": [
    "xman.exp(2, 1).marker = 'Best'"
   ]
  },
  {
   "cell_type": "code",
   "execution_count": null,
   "id": "4a73b912",
   "metadata": {},
   "outputs": [],
   "source": []
  }
 ],
 "metadata": {
  "kernelspec": {
   "display_name": "Python 3 (ipykernel)",
   "language": "python",
   "name": "python3"
  },
  "language_info": {
   "codemirror_mode": {
    "name": "ipython",
    "version": 3
   },
   "file_extension": ".py",
   "mimetype": "text/x-python",
   "name": "python",
   "nbconvert_exporter": "python",
   "pygments_lexer": "ipython3",
   "version": "3.10.9"
  }
 },
 "nbformat": 4,
 "nbformat_minor": 5
}
